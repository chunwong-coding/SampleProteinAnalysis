{
 "cells": [
  {
   "cell_type": "code",
   "execution_count": 2,
   "metadata": {},
   "outputs": [],
   "source": [
    "import pandas as pd\n",
    "import matplotlib.pyplot as plt"
   ]
  },
  {
   "cell_type": "code",
   "execution_count": 16,
   "metadata": {},
   "outputs": [],
   "source": [
    "file = \"NPX_data1.xlsx\"\n",
    "df = pd.read_excel(file, skiprows=1)\n"
   ]
  },
  {
   "cell_type": "code",
   "execution_count": 4,
   "metadata": {},
   "outputs": [],
   "source": [
    "df_indexed = df.set_index(\"NPX Data\")\n",
    "df_cleaned = df_indexed.iloc[:, 0:1104]\n",
    "col_len = len(df_cleaned.columns)"
   ]
  },
  {
   "cell_type": "code",
   "execution_count": 5,
   "metadata": {},
   "outputs": [],
   "source": [
    "for x in range(col_len):\n",
    "    df_cleaned.iloc[0][x] = df_cleaned.iloc[0][x].split(\"Olink \")[1]"
   ]
  },
  {
   "cell_type": "code",
   "execution_count": 6,
   "metadata": {},
   "outputs": [],
   "source": [
    "type_of_panels = int(col_len / 92)\n",
    "by_types_arr = []\n",
    "a = 0\n",
    "i = 92\n",
    "m = 92\n",
    "for y in range(type_of_panels):\n",
    "    panel = df_cleaned.iloc[0,a]\n",
    "    panel_type = df_cleaned.iloc[:,a:i]\n",
    "    by_types_arr.append(panel_type)\n",
    "    a = a + m\n",
    "    i = i + m\n",
    "    panel_type.to_csv(f'Resources/data1_{panel}.csv')"
   ]
  },
  {
   "cell_type": "code",
   "execution_count": 17,
   "metadata": {},
   "outputs": [],
   "source": [
    "cardiometabolic_df = pd.read_csv(\"Resources/data1_CARDIOMETABOLIC.csv\", skiprows=3)"
   ]
  },
  {
   "cell_type": "code",
   "execution_count": 22,
   "metadata": {},
   "outputs": [],
   "source": [
    "cardiometabolic_df_cleaned = cardiometabolic_df.dropna()\n",
    "cardiometabolic_df_cleaned = cardiometabolic_df_cleaned.rename(columns={\"Uniprot ID\":\"SampleID\"})\n"
   ]
  },
  {
   "cell_type": "code",
   "execution_count": 23,
   "metadata": {},
   "outputs": [
    {
     "output_type": "execute_result",
     "data": {
      "text/plain": "               SampleID            O00533             O14786  \\\n0               OlinkID          OID01216           OID01217   \n2                    A1  12.9561425886431   3.72970924582771   \n3                    A2   11.269476531342   6.14480091936497   \n4                    A3  25.4510701414362   6.95051017310168   \n5                    A4  14.4530382024394   3.72539338198674   \n..                  ...               ...                ...   \n159                 B77  9.97517780474675     8.553448820892   \n160                 B78  12.8193632173862   6.10398500763625   \n161                 B79   10.502865019702   8.93464138028839   \n163                 LOD  2.36846658156787  0.156320288637653   \n164  Missing Data freq.           0.01875            0.01875   \n\n               O15031            O75015             O75023            O95445  \\\n0            OID01218          OID01219           OID01220          OID01221   \n2    2.08612231436114   11.609629003747  0.724191555213795  8.54262355014331   \n3    1.48398497994593  17.5821406034352   3.32948837750088   10.395667841802   \n4    1.22821356879884  10.4949037688574   4.39221860100588  14.6695001836276   \n5    3.27885288239876  14.9696702975272   1.13233004375712  16.1949334803935   \n..                ...               ...                ...               ...   \n159  4.28094686656499  9.93513677087097  -1.35301302249157  14.5393476138011   \n160  3.61861105798951  5.40553017924603   1.84224323629748  2.25882637772261   \n161  3.10352376464103  15.2554177291889   2.72585763420006  11.3610163499738   \n163  0.26078096471901  3.54085630488519                  0  5.06516801877871   \n164           0.01875            0.0875            0.09375           0.08125   \n\n               P00441              P00915             P01033  ...  \\\n0            OID01222            OID01223           OID01224  ...   \n2    9.45297817679369    7.79592944968609   3.11630846017245  ...   \n3    7.70455946396273    6.38890244289185  0.793348184948415  ...   \n4    11.2062549289578    1.33353206727508   3.83949966002527  ...   \n5    12.0668416470563  -0.580701310147785    4.5654566520639  ...   \n..                ...                 ...                ...  ...   \n159  18.3088701027063    3.67194356763104   4.03637367327498  ...   \n160  13.6831914634638    2.47475056941137   4.63751916194432  ...   \n161  14.1166415391973    3.87092427945432  0.267595923332868  ...   \n163  5.27948724131402                   0  0.659986157514092  ...   \n164           0.06875              0.0875            0.04375  ...   \n\n                Q96H15              Q96KN2            Q99650  \\\n0             OID01298            OID01299          OID01300   \n2     3.71816937654851  0.0187281705949691  1.44420620203359   \n3     3.57672224634872  -0.190461663583036  3.39801027892777   \n4     6.70757755606499    1.15015139851804  2.90606938863575   \n5     5.91579034426145    2.06293938619875  1.23455915596801   \n..                 ...                 ...               ...   \n159   9.60343893922326    2.02389812498489  2.94645704487651   \n160   7.04327594016238    3.83168736029607  1.10278915345999   \n161   4.41630030360662     1.4267070536648  1.53858531434149   \n163  0.858770891876453                   0                 0   \n164              0.075             0.09375              0.05   \n\n               Q9BXJ1            Q9BXR6             Q9H1U4            Q9NQ79  \\\n0            OID01301          OID01302           OID01303          OID01304   \n2    4.53879792575837  5.19986506461387   1.73558169216479  8.11764000083775   \n3    1.76910019495803  10.9106231605855   1.10119976932805  15.2472844432337   \n4    3.97296475842837  3.87387089607663   1.32524335433213  10.7768242786328   \n5    4.45155225947849  1.08678484807587   2.48376511092367  11.8287586123149   \n..                ...               ...                ...               ...   \n159  6.95182728077891  8.82831739284521  0.789020654652515  8.08156725248989   \n160   6.8850236481174  9.23465777255801   1.17793269102686   10.478475238057   \n161  6.44224752433957  6.08197874141636   1.48936495375005  4.15943520984801   \n163                 0                 0                  0  4.37521433574134   \n164           0.05625           0.08125             0.0375           0.05625   \n\n                 Q9UGM5             Q9Y5C1             Q9Y5Y7  \n0              OID01305           OID01306           OID01307  \n2      3.51787177260598   9.47575616239197   5.86528636644432  \n3      4.25823020499752   6.70808420210647   6.12303218291332  \n4      1.04065399627762  -1.10355336937128   10.1001040541713  \n5    -0.281426507048538   8.50487820936694   9.82250486412069  \n..                  ...                ...                ...  \n159    1.65743006136007   4.22904544237937     8.578268304671  \n160    4.98405810418861    5.6940866032053   3.16983937176468  \n161    5.50579810033911   8.06379093027342  -2.77410188919668  \n163   0.689985488093192   1.34606122162148   1.59344931374173  \n164              0.0625              0.025              0.075  \n\n[163 rows x 93 columns]",
      "text/html": "<div>\n<style scoped>\n    .dataframe tbody tr th:only-of-type {\n        vertical-align: middle;\n    }\n\n    .dataframe tbody tr th {\n        vertical-align: top;\n    }\n\n    .dataframe thead th {\n        text-align: right;\n    }\n</style>\n<table border=\"1\" class=\"dataframe\">\n  <thead>\n    <tr style=\"text-align: right;\">\n      <th></th>\n      <th>SampleID</th>\n      <th>O00533</th>\n      <th>O14786</th>\n      <th>O15031</th>\n      <th>O75015</th>\n      <th>O75023</th>\n      <th>O95445</th>\n      <th>P00441</th>\n      <th>P00915</th>\n      <th>P01033</th>\n      <th>...</th>\n      <th>Q96H15</th>\n      <th>Q96KN2</th>\n      <th>Q99650</th>\n      <th>Q9BXJ1</th>\n      <th>Q9BXR6</th>\n      <th>Q9H1U4</th>\n      <th>Q9NQ79</th>\n      <th>Q9UGM5</th>\n      <th>Q9Y5C1</th>\n      <th>Q9Y5Y7</th>\n    </tr>\n  </thead>\n  <tbody>\n    <tr>\n      <th>0</th>\n      <td>OlinkID</td>\n      <td>OID01216</td>\n      <td>OID01217</td>\n      <td>OID01218</td>\n      <td>OID01219</td>\n      <td>OID01220</td>\n      <td>OID01221</td>\n      <td>OID01222</td>\n      <td>OID01223</td>\n      <td>OID01224</td>\n      <td>...</td>\n      <td>OID01298</td>\n      <td>OID01299</td>\n      <td>OID01300</td>\n      <td>OID01301</td>\n      <td>OID01302</td>\n      <td>OID01303</td>\n      <td>OID01304</td>\n      <td>OID01305</td>\n      <td>OID01306</td>\n      <td>OID01307</td>\n    </tr>\n    <tr>\n      <th>2</th>\n      <td>A1</td>\n      <td>12.9561425886431</td>\n      <td>3.72970924582771</td>\n      <td>2.08612231436114</td>\n      <td>11.609629003747</td>\n      <td>0.724191555213795</td>\n      <td>8.54262355014331</td>\n      <td>9.45297817679369</td>\n      <td>7.79592944968609</td>\n      <td>3.11630846017245</td>\n      <td>...</td>\n      <td>3.71816937654851</td>\n      <td>0.0187281705949691</td>\n      <td>1.44420620203359</td>\n      <td>4.53879792575837</td>\n      <td>5.19986506461387</td>\n      <td>1.73558169216479</td>\n      <td>8.11764000083775</td>\n      <td>3.51787177260598</td>\n      <td>9.47575616239197</td>\n      <td>5.86528636644432</td>\n    </tr>\n    <tr>\n      <th>3</th>\n      <td>A2</td>\n      <td>11.269476531342</td>\n      <td>6.14480091936497</td>\n      <td>1.48398497994593</td>\n      <td>17.5821406034352</td>\n      <td>3.32948837750088</td>\n      <td>10.395667841802</td>\n      <td>7.70455946396273</td>\n      <td>6.38890244289185</td>\n      <td>0.793348184948415</td>\n      <td>...</td>\n      <td>3.57672224634872</td>\n      <td>-0.190461663583036</td>\n      <td>3.39801027892777</td>\n      <td>1.76910019495803</td>\n      <td>10.9106231605855</td>\n      <td>1.10119976932805</td>\n      <td>15.2472844432337</td>\n      <td>4.25823020499752</td>\n      <td>6.70808420210647</td>\n      <td>6.12303218291332</td>\n    </tr>\n    <tr>\n      <th>4</th>\n      <td>A3</td>\n      <td>25.4510701414362</td>\n      <td>6.95051017310168</td>\n      <td>1.22821356879884</td>\n      <td>10.4949037688574</td>\n      <td>4.39221860100588</td>\n      <td>14.6695001836276</td>\n      <td>11.2062549289578</td>\n      <td>1.33353206727508</td>\n      <td>3.83949966002527</td>\n      <td>...</td>\n      <td>6.70757755606499</td>\n      <td>1.15015139851804</td>\n      <td>2.90606938863575</td>\n      <td>3.97296475842837</td>\n      <td>3.87387089607663</td>\n      <td>1.32524335433213</td>\n      <td>10.7768242786328</td>\n      <td>1.04065399627762</td>\n      <td>-1.10355336937128</td>\n      <td>10.1001040541713</td>\n    </tr>\n    <tr>\n      <th>5</th>\n      <td>A4</td>\n      <td>14.4530382024394</td>\n      <td>3.72539338198674</td>\n      <td>3.27885288239876</td>\n      <td>14.9696702975272</td>\n      <td>1.13233004375712</td>\n      <td>16.1949334803935</td>\n      <td>12.0668416470563</td>\n      <td>-0.580701310147785</td>\n      <td>4.5654566520639</td>\n      <td>...</td>\n      <td>5.91579034426145</td>\n      <td>2.06293938619875</td>\n      <td>1.23455915596801</td>\n      <td>4.45155225947849</td>\n      <td>1.08678484807587</td>\n      <td>2.48376511092367</td>\n      <td>11.8287586123149</td>\n      <td>-0.281426507048538</td>\n      <td>8.50487820936694</td>\n      <td>9.82250486412069</td>\n    </tr>\n    <tr>\n      <th>...</th>\n      <td>...</td>\n      <td>...</td>\n      <td>...</td>\n      <td>...</td>\n      <td>...</td>\n      <td>...</td>\n      <td>...</td>\n      <td>...</td>\n      <td>...</td>\n      <td>...</td>\n      <td>...</td>\n      <td>...</td>\n      <td>...</td>\n      <td>...</td>\n      <td>...</td>\n      <td>...</td>\n      <td>...</td>\n      <td>...</td>\n      <td>...</td>\n      <td>...</td>\n      <td>...</td>\n    </tr>\n    <tr>\n      <th>159</th>\n      <td>B77</td>\n      <td>9.97517780474675</td>\n      <td>8.553448820892</td>\n      <td>4.28094686656499</td>\n      <td>9.93513677087097</td>\n      <td>-1.35301302249157</td>\n      <td>14.5393476138011</td>\n      <td>18.3088701027063</td>\n      <td>3.67194356763104</td>\n      <td>4.03637367327498</td>\n      <td>...</td>\n      <td>9.60343893922326</td>\n      <td>2.02389812498489</td>\n      <td>2.94645704487651</td>\n      <td>6.95182728077891</td>\n      <td>8.82831739284521</td>\n      <td>0.789020654652515</td>\n      <td>8.08156725248989</td>\n      <td>1.65743006136007</td>\n      <td>4.22904544237937</td>\n      <td>8.578268304671</td>\n    </tr>\n    <tr>\n      <th>160</th>\n      <td>B78</td>\n      <td>12.8193632173862</td>\n      <td>6.10398500763625</td>\n      <td>3.61861105798951</td>\n      <td>5.40553017924603</td>\n      <td>1.84224323629748</td>\n      <td>2.25882637772261</td>\n      <td>13.6831914634638</td>\n      <td>2.47475056941137</td>\n      <td>4.63751916194432</td>\n      <td>...</td>\n      <td>7.04327594016238</td>\n      <td>3.83168736029607</td>\n      <td>1.10278915345999</td>\n      <td>6.8850236481174</td>\n      <td>9.23465777255801</td>\n      <td>1.17793269102686</td>\n      <td>10.478475238057</td>\n      <td>4.98405810418861</td>\n      <td>5.6940866032053</td>\n      <td>3.16983937176468</td>\n    </tr>\n    <tr>\n      <th>161</th>\n      <td>B79</td>\n      <td>10.502865019702</td>\n      <td>8.93464138028839</td>\n      <td>3.10352376464103</td>\n      <td>15.2554177291889</td>\n      <td>2.72585763420006</td>\n      <td>11.3610163499738</td>\n      <td>14.1166415391973</td>\n      <td>3.87092427945432</td>\n      <td>0.267595923332868</td>\n      <td>...</td>\n      <td>4.41630030360662</td>\n      <td>1.4267070536648</td>\n      <td>1.53858531434149</td>\n      <td>6.44224752433957</td>\n      <td>6.08197874141636</td>\n      <td>1.48936495375005</td>\n      <td>4.15943520984801</td>\n      <td>5.50579810033911</td>\n      <td>8.06379093027342</td>\n      <td>-2.77410188919668</td>\n    </tr>\n    <tr>\n      <th>163</th>\n      <td>LOD</td>\n      <td>2.36846658156787</td>\n      <td>0.156320288637653</td>\n      <td>0.26078096471901</td>\n      <td>3.54085630488519</td>\n      <td>0</td>\n      <td>5.06516801877871</td>\n      <td>5.27948724131402</td>\n      <td>0</td>\n      <td>0.659986157514092</td>\n      <td>...</td>\n      <td>0.858770891876453</td>\n      <td>0</td>\n      <td>0</td>\n      <td>0</td>\n      <td>0</td>\n      <td>0</td>\n      <td>4.37521433574134</td>\n      <td>0.689985488093192</td>\n      <td>1.34606122162148</td>\n      <td>1.59344931374173</td>\n    </tr>\n    <tr>\n      <th>164</th>\n      <td>Missing Data freq.</td>\n      <td>0.01875</td>\n      <td>0.01875</td>\n      <td>0.01875</td>\n      <td>0.0875</td>\n      <td>0.09375</td>\n      <td>0.08125</td>\n      <td>0.06875</td>\n      <td>0.0875</td>\n      <td>0.04375</td>\n      <td>...</td>\n      <td>0.075</td>\n      <td>0.09375</td>\n      <td>0.05</td>\n      <td>0.05625</td>\n      <td>0.08125</td>\n      <td>0.0375</td>\n      <td>0.05625</td>\n      <td>0.0625</td>\n      <td>0.025</td>\n      <td>0.075</td>\n    </tr>\n  </tbody>\n</table>\n<p>163 rows × 93 columns</p>\n</div>"
     },
     "metadata": {},
     "execution_count": 23
    }
   ],
   "source": [
    "cardiometabolic_df_cleaned\n",
    "cardiometabolic_df_dropped = cardiometabolic_df_cleaned.drop([\"OlinkID\", \"CONTROL_SAMPLE_AS 1\", \"CONTROL_SAMPLE_AS 2\", \"LOD\", \"Missing Data freq.\"])"
   ]
  },
  {
   "cell_type": "code",
   "execution_count": 19,
   "metadata": {},
   "outputs": [],
   "source": [
    "cardiometabolic_df_cleaned = cardiometabolic_df.dropna()\n",
    "cardiometabolic_df_cleaned = cardiometabolic_df_cleaned.rename(columns={\"Uniprot ID\":\"SampleID\"})\n",
    "cardiometabolic_df_cleaned = cardiometabolic_df_cleaned.set_index(\"SampleID\")\n",
    "cardiometabolic_df_dropped = cardiometabolic_df_cleaned.drop([\"OlinkID\", \"CONTROL_SAMPLE_AS 1\", \"CONTROL_SAMPLE_AS 2\", \"LOD\", \"Missing Data freq.\"])"
   ]
  },
  {
   "cell_type": "code",
   "execution_count": 20,
   "metadata": {},
   "outputs": [
    {
     "output_type": "execute_result",
     "data": {
      "text/plain": "                    O00533            O14786            O15031  \\\nSampleID                                                         \nA1        12.9561425886431  3.72970924582771  2.08612231436114   \nA2         11.269476531342  6.14480091936497  1.48398497994593   \nA3        25.4510701414362  6.95051017310168  1.22821356879884   \nA4        14.4530382024394  3.72539338198674  3.27885288239876   \nA5         7.6287118351486  7.19834323864719  4.98902951047932   \n...                    ...               ...               ...   \nB75       13.0246883750201  3.91888614752226  3.16333408940248   \nB76       12.6518356746632  9.76799840102501  3.26223878260669   \nB77       9.97517780474675    8.553448820892  4.28094686656499   \nB78       12.8193632173862  6.10398500763625  3.61861105798951   \nB79        10.502865019702  8.93464138028839  3.10352376464103   \n\n                    O75015             O75023            O95445  \\\nSampleID                                                          \nA1         11.609629003747  0.724191555213795  8.54262355014331   \nA2        17.5821406034352   3.32948837750088   10.395667841802   \nA3        10.4949037688574   4.39221860100588  14.6695001836276   \nA4        14.9696702975272   1.13233004375712  16.1949334803935   \nA5        13.0875397817079   1.23706777415642  15.0744717382714   \n...                    ...                ...               ...   \nB75       11.9611309779728    1.3962645783265  7.35020259599792   \nB76       14.7461873166177   4.04067663489405  13.7396125997529   \nB77       9.93513677087097  -1.35301302249157  14.5393476138011   \nB78       5.40553017924603   1.84224323629748  2.25882637772261   \nB79       15.2554177291889   2.72585763420006  11.3610163499738   \n\n                    P00441              P00915             P01033  \\\nSampleID                                                            \nA1        9.45297817679369    7.79592944968609   3.11630846017245   \nA2        7.70455946396273    6.38890244289185  0.793348184948415   \nA3        11.2062549289578    1.33353206727508   3.83949966002527   \nA4        12.0668416470563  -0.580701310147785    4.5654566520639   \nA5        2.20173662660043    2.00555536576828   4.60007966170468   \n...                    ...                 ...                ...   \nB75       19.3341729256044    2.18302732509785   4.34826810550673   \nB76       8.32408319546772  -0.940497447387123   2.92041492563534   \nB77       18.3088701027063    3.67194356763104   4.03637367327498   \nB78       13.6831914634638    2.47475056941137   4.63751916194432   \nB79       14.1166415391973    3.87092427945432  0.267595923332868   \n\n                    P01034  ...            Q96H15              Q96KN2  \\\nSampleID                    ...                                         \nA1        12.0192837065877  ...  3.71816937654851  0.0187281705949691   \nA2        12.0865638772341  ...  3.57672224634872  -0.190461663583036   \nA3        13.7618935545456  ...  6.70757755606499    1.15015139851804   \nA4        10.0299110551015  ...  5.91579034426145    2.06293938619875   \nA5        10.5679727320146  ...   5.1708237580765    1.66230089949616   \n...                    ...  ...               ...                 ...   \nB75       9.87219311927669  ...  5.34358710601775     1.0695319596694   \nB76       7.52111967520455  ...  9.37386702693026  0.0733235934222338   \nB77       7.54536784767549  ...  9.60343893922326    2.02389812498489   \nB78       10.2330560515666  ...  7.04327594016238    3.83168736029607   \nB79       14.5451026150584  ...  4.41630030360662     1.4267070536648   \n\n                    Q99650            Q9BXJ1            Q9BXR6  \\\nSampleID                                                         \nA1        1.44420620203359  4.53879792575837  5.19986506461387   \nA2        3.39801027892777  1.76910019495803  10.9106231605855   \nA3        2.90606938863575  3.97296475842837  3.87387089607663   \nA4        1.23455915596801  4.45155225947849  1.08678484807587   \nA5        1.64926158249001  2.40634495238656   1.7433956944353   \n...                    ...               ...               ...   \nB75       4.42788373248489  5.64942576148057  6.54541293501696   \nB76       2.48689714692831  5.26435487405169  8.05503474012463   \nB77       2.94645704487651  6.95182728077891  8.82831739284521   \nB78       1.10278915345999   6.8850236481174  9.23465777255801   \nB79       1.53858531434149  6.44224752433957  6.08197874141636   \n\n                     Q9H1U4            Q9NQ79              Q9UGM5  \\\nSampleID                                                            \nA1         1.73558169216479  8.11764000083775    3.51787177260598   \nA2         1.10119976932805  15.2472844432337    4.25823020499752   \nA3         1.32524335433213  10.7768242786328    1.04065399627762   \nA4         2.48376511092367  11.8287586123149  -0.281426507048538   \nA5         2.25341754226301  10.9337961807956    1.77405712675233   \n...                     ...               ...                 ...   \nB75       0.642493625884763  7.75973012088635    5.17961719754872   \nB76        1.27438906688114   6.2693815129083    4.14477149517934   \nB77       0.789020654652515  8.08156725248989    1.65743006136007   \nB78        1.17793269102686   10.478475238057    4.98405810418861   \nB79        1.48936495375005  4.15943520984801    5.50579810033911   \n\n                     Q9Y5C1             Q9Y5Y7  \nSampleID                                        \nA1         9.47575616239197   5.86528636644432  \nA2         6.70808420210647   6.12303218291332  \nA3        -1.10355336937128   10.1001040541713  \nA4         8.50487820936694   9.82250486412069  \nA5         6.68917741049247   6.68180487131249  \n...                     ...                ...  \nB75        2.62542355124859   3.56923103998509  \nB76        6.40080802523392   7.82615026756585  \nB77        4.22904544237937     8.578268304671  \nB78         5.6940866032053   3.16983937176468  \nB79        8.06379093027342  -2.77410188919668  \n\n[156 rows x 92 columns]",
      "text/html": "<div>\n<style scoped>\n    .dataframe tbody tr th:only-of-type {\n        vertical-align: middle;\n    }\n\n    .dataframe tbody tr th {\n        vertical-align: top;\n    }\n\n    .dataframe thead th {\n        text-align: right;\n    }\n</style>\n<table border=\"1\" class=\"dataframe\">\n  <thead>\n    <tr style=\"text-align: right;\">\n      <th></th>\n      <th>O00533</th>\n      <th>O14786</th>\n      <th>O15031</th>\n      <th>O75015</th>\n      <th>O75023</th>\n      <th>O95445</th>\n      <th>P00441</th>\n      <th>P00915</th>\n      <th>P01033</th>\n      <th>P01034</th>\n      <th>...</th>\n      <th>Q96H15</th>\n      <th>Q96KN2</th>\n      <th>Q99650</th>\n      <th>Q9BXJ1</th>\n      <th>Q9BXR6</th>\n      <th>Q9H1U4</th>\n      <th>Q9NQ79</th>\n      <th>Q9UGM5</th>\n      <th>Q9Y5C1</th>\n      <th>Q9Y5Y7</th>\n    </tr>\n    <tr>\n      <th>SampleID</th>\n      <th></th>\n      <th></th>\n      <th></th>\n      <th></th>\n      <th></th>\n      <th></th>\n      <th></th>\n      <th></th>\n      <th></th>\n      <th></th>\n      <th></th>\n      <th></th>\n      <th></th>\n      <th></th>\n      <th></th>\n      <th></th>\n      <th></th>\n      <th></th>\n      <th></th>\n      <th></th>\n      <th></th>\n    </tr>\n  </thead>\n  <tbody>\n    <tr>\n      <th>A1</th>\n      <td>12.9561425886431</td>\n      <td>3.72970924582771</td>\n      <td>2.08612231436114</td>\n      <td>11.609629003747</td>\n      <td>0.724191555213795</td>\n      <td>8.54262355014331</td>\n      <td>9.45297817679369</td>\n      <td>7.79592944968609</td>\n      <td>3.11630846017245</td>\n      <td>12.0192837065877</td>\n      <td>...</td>\n      <td>3.71816937654851</td>\n      <td>0.0187281705949691</td>\n      <td>1.44420620203359</td>\n      <td>4.53879792575837</td>\n      <td>5.19986506461387</td>\n      <td>1.73558169216479</td>\n      <td>8.11764000083775</td>\n      <td>3.51787177260598</td>\n      <td>9.47575616239197</td>\n      <td>5.86528636644432</td>\n    </tr>\n    <tr>\n      <th>A2</th>\n      <td>11.269476531342</td>\n      <td>6.14480091936497</td>\n      <td>1.48398497994593</td>\n      <td>17.5821406034352</td>\n      <td>3.32948837750088</td>\n      <td>10.395667841802</td>\n      <td>7.70455946396273</td>\n      <td>6.38890244289185</td>\n      <td>0.793348184948415</td>\n      <td>12.0865638772341</td>\n      <td>...</td>\n      <td>3.57672224634872</td>\n      <td>-0.190461663583036</td>\n      <td>3.39801027892777</td>\n      <td>1.76910019495803</td>\n      <td>10.9106231605855</td>\n      <td>1.10119976932805</td>\n      <td>15.2472844432337</td>\n      <td>4.25823020499752</td>\n      <td>6.70808420210647</td>\n      <td>6.12303218291332</td>\n    </tr>\n    <tr>\n      <th>A3</th>\n      <td>25.4510701414362</td>\n      <td>6.95051017310168</td>\n      <td>1.22821356879884</td>\n      <td>10.4949037688574</td>\n      <td>4.39221860100588</td>\n      <td>14.6695001836276</td>\n      <td>11.2062549289578</td>\n      <td>1.33353206727508</td>\n      <td>3.83949966002527</td>\n      <td>13.7618935545456</td>\n      <td>...</td>\n      <td>6.70757755606499</td>\n      <td>1.15015139851804</td>\n      <td>2.90606938863575</td>\n      <td>3.97296475842837</td>\n      <td>3.87387089607663</td>\n      <td>1.32524335433213</td>\n      <td>10.7768242786328</td>\n      <td>1.04065399627762</td>\n      <td>-1.10355336937128</td>\n      <td>10.1001040541713</td>\n    </tr>\n    <tr>\n      <th>A4</th>\n      <td>14.4530382024394</td>\n      <td>3.72539338198674</td>\n      <td>3.27885288239876</td>\n      <td>14.9696702975272</td>\n      <td>1.13233004375712</td>\n      <td>16.1949334803935</td>\n      <td>12.0668416470563</td>\n      <td>-0.580701310147785</td>\n      <td>4.5654566520639</td>\n      <td>10.0299110551015</td>\n      <td>...</td>\n      <td>5.91579034426145</td>\n      <td>2.06293938619875</td>\n      <td>1.23455915596801</td>\n      <td>4.45155225947849</td>\n      <td>1.08678484807587</td>\n      <td>2.48376511092367</td>\n      <td>11.8287586123149</td>\n      <td>-0.281426507048538</td>\n      <td>8.50487820936694</td>\n      <td>9.82250486412069</td>\n    </tr>\n    <tr>\n      <th>A5</th>\n      <td>7.6287118351486</td>\n      <td>7.19834323864719</td>\n      <td>4.98902951047932</td>\n      <td>13.0875397817079</td>\n      <td>1.23706777415642</td>\n      <td>15.0744717382714</td>\n      <td>2.20173662660043</td>\n      <td>2.00555536576828</td>\n      <td>4.60007966170468</td>\n      <td>10.5679727320146</td>\n      <td>...</td>\n      <td>5.1708237580765</td>\n      <td>1.66230089949616</td>\n      <td>1.64926158249001</td>\n      <td>2.40634495238656</td>\n      <td>1.7433956944353</td>\n      <td>2.25341754226301</td>\n      <td>10.9337961807956</td>\n      <td>1.77405712675233</td>\n      <td>6.68917741049247</td>\n      <td>6.68180487131249</td>\n    </tr>\n    <tr>\n      <th>...</th>\n      <td>...</td>\n      <td>...</td>\n      <td>...</td>\n      <td>...</td>\n      <td>...</td>\n      <td>...</td>\n      <td>...</td>\n      <td>...</td>\n      <td>...</td>\n      <td>...</td>\n      <td>...</td>\n      <td>...</td>\n      <td>...</td>\n      <td>...</td>\n      <td>...</td>\n      <td>...</td>\n      <td>...</td>\n      <td>...</td>\n      <td>...</td>\n      <td>...</td>\n      <td>...</td>\n    </tr>\n    <tr>\n      <th>B75</th>\n      <td>13.0246883750201</td>\n      <td>3.91888614752226</td>\n      <td>3.16333408940248</td>\n      <td>11.9611309779728</td>\n      <td>1.3962645783265</td>\n      <td>7.35020259599792</td>\n      <td>19.3341729256044</td>\n      <td>2.18302732509785</td>\n      <td>4.34826810550673</td>\n      <td>9.87219311927669</td>\n      <td>...</td>\n      <td>5.34358710601775</td>\n      <td>1.0695319596694</td>\n      <td>4.42788373248489</td>\n      <td>5.64942576148057</td>\n      <td>6.54541293501696</td>\n      <td>0.642493625884763</td>\n      <td>7.75973012088635</td>\n      <td>5.17961719754872</td>\n      <td>2.62542355124859</td>\n      <td>3.56923103998509</td>\n    </tr>\n    <tr>\n      <th>B76</th>\n      <td>12.6518356746632</td>\n      <td>9.76799840102501</td>\n      <td>3.26223878260669</td>\n      <td>14.7461873166177</td>\n      <td>4.04067663489405</td>\n      <td>13.7396125997529</td>\n      <td>8.32408319546772</td>\n      <td>-0.940497447387123</td>\n      <td>2.92041492563534</td>\n      <td>7.52111967520455</td>\n      <td>...</td>\n      <td>9.37386702693026</td>\n      <td>0.0733235934222338</td>\n      <td>2.48689714692831</td>\n      <td>5.26435487405169</td>\n      <td>8.05503474012463</td>\n      <td>1.27438906688114</td>\n      <td>6.2693815129083</td>\n      <td>4.14477149517934</td>\n      <td>6.40080802523392</td>\n      <td>7.82615026756585</td>\n    </tr>\n    <tr>\n      <th>B77</th>\n      <td>9.97517780474675</td>\n      <td>8.553448820892</td>\n      <td>4.28094686656499</td>\n      <td>9.93513677087097</td>\n      <td>-1.35301302249157</td>\n      <td>14.5393476138011</td>\n      <td>18.3088701027063</td>\n      <td>3.67194356763104</td>\n      <td>4.03637367327498</td>\n      <td>7.54536784767549</td>\n      <td>...</td>\n      <td>9.60343893922326</td>\n      <td>2.02389812498489</td>\n      <td>2.94645704487651</td>\n      <td>6.95182728077891</td>\n      <td>8.82831739284521</td>\n      <td>0.789020654652515</td>\n      <td>8.08156725248989</td>\n      <td>1.65743006136007</td>\n      <td>4.22904544237937</td>\n      <td>8.578268304671</td>\n    </tr>\n    <tr>\n      <th>B78</th>\n      <td>12.8193632173862</td>\n      <td>6.10398500763625</td>\n      <td>3.61861105798951</td>\n      <td>5.40553017924603</td>\n      <td>1.84224323629748</td>\n      <td>2.25882637772261</td>\n      <td>13.6831914634638</td>\n      <td>2.47475056941137</td>\n      <td>4.63751916194432</td>\n      <td>10.2330560515666</td>\n      <td>...</td>\n      <td>7.04327594016238</td>\n      <td>3.83168736029607</td>\n      <td>1.10278915345999</td>\n      <td>6.8850236481174</td>\n      <td>9.23465777255801</td>\n      <td>1.17793269102686</td>\n      <td>10.478475238057</td>\n      <td>4.98405810418861</td>\n      <td>5.6940866032053</td>\n      <td>3.16983937176468</td>\n    </tr>\n    <tr>\n      <th>B79</th>\n      <td>10.502865019702</td>\n      <td>8.93464138028839</td>\n      <td>3.10352376464103</td>\n      <td>15.2554177291889</td>\n      <td>2.72585763420006</td>\n      <td>11.3610163499738</td>\n      <td>14.1166415391973</td>\n      <td>3.87092427945432</td>\n      <td>0.267595923332868</td>\n      <td>14.5451026150584</td>\n      <td>...</td>\n      <td>4.41630030360662</td>\n      <td>1.4267070536648</td>\n      <td>1.53858531434149</td>\n      <td>6.44224752433957</td>\n      <td>6.08197874141636</td>\n      <td>1.48936495375005</td>\n      <td>4.15943520984801</td>\n      <td>5.50579810033911</td>\n      <td>8.06379093027342</td>\n      <td>-2.77410188919668</td>\n    </tr>\n  </tbody>\n</table>\n<p>156 rows × 92 columns</p>\n</div>"
     },
     "metadata": {},
     "execution_count": 20
    }
   ],
   "source": [
    "cardiometabolic_df_dropped"
   ]
  },
  {
   "cell_type": "code",
   "execution_count": 9,
   "metadata": {},
   "outputs": [],
   "source": [
    "sampleID = cardiometabolic_df_dropped.index\n",
    "baseline_sam = []\n",
    "week6_sam = []\n",
    "week12_sam = []\n",
    "sample_num = len(sampleID)"
   ]
  },
  {
   "cell_type": "code",
   "execution_count": 10,
   "metadata": {},
   "outputs": [],
   "source": [
    "b = 0\n",
    "s = 1\n",
    "t = 2\n",
    "for m in range(int(sample_num/3)):\n",
    "    baseline_sam.append(sampleID[b])\n",
    "    week6_sam.append(sampleID[s])\n",
    "    week12_sam.append(sampleID[t])\n",
    "    b = b + 3\n",
    "    s = s + 3\n",
    "    t = t + 3"
   ]
  },
  {
   "cell_type": "code",
   "execution_count": 3,
   "metadata": {},
   "outputs": [],
   "source": [
    "infofile = \"NPX_data1_info.xlsx\"\n",
    "info_df = pd.read_excel(infofile)\n"
   ]
  },
  {
   "cell_type": "code",
   "execution_count": 15,
   "metadata": {},
   "outputs": [
    {
     "output_type": "execute_result",
     "data": {
      "text/plain": "    SampleID Subject  Treatment    Site      Time   Project\n0         A1     ID1  Untreated  Site_D  Baseline  20200001\n1         A2     ID1  Untreated  Site_D    Week.6  20200001\n2         A3     ID1  Untreated  Site_D   Week.12  20200001\n3         A4     ID2  Untreated  Site_C  Baseline  20200001\n4         A5     ID2  Untreated  Site_C    Week.6  20200001\n..       ...     ...        ...     ...       ...       ...\n151      B75    ID51  Untreated  Site_A    Week.6  20200001\n152      B76    ID51  Untreated  Site_A   Week.12  20200001\n153      B77    ID52    Treated  Site_B  Baseline  20200001\n154      B78    ID52    Treated  Site_B    Week.6  20200001\n155      B79    ID52    Treated  Site_B   Week.12  20200001\n\n[156 rows x 6 columns]",
      "text/html": "<div>\n<style scoped>\n    .dataframe tbody tr th:only-of-type {\n        vertical-align: middle;\n    }\n\n    .dataframe tbody tr th {\n        vertical-align: top;\n    }\n\n    .dataframe thead th {\n        text-align: right;\n    }\n</style>\n<table border=\"1\" class=\"dataframe\">\n  <thead>\n    <tr style=\"text-align: right;\">\n      <th></th>\n      <th>SampleID</th>\n      <th>Subject</th>\n      <th>Treatment</th>\n      <th>Site</th>\n      <th>Time</th>\n      <th>Project</th>\n    </tr>\n  </thead>\n  <tbody>\n    <tr>\n      <th>0</th>\n      <td>A1</td>\n      <td>ID1</td>\n      <td>Untreated</td>\n      <td>Site_D</td>\n      <td>Baseline</td>\n      <td>20200001</td>\n    </tr>\n    <tr>\n      <th>1</th>\n      <td>A2</td>\n      <td>ID1</td>\n      <td>Untreated</td>\n      <td>Site_D</td>\n      <td>Week.6</td>\n      <td>20200001</td>\n    </tr>\n    <tr>\n      <th>2</th>\n      <td>A3</td>\n      <td>ID1</td>\n      <td>Untreated</td>\n      <td>Site_D</td>\n      <td>Week.12</td>\n      <td>20200001</td>\n    </tr>\n    <tr>\n      <th>3</th>\n      <td>A4</td>\n      <td>ID2</td>\n      <td>Untreated</td>\n      <td>Site_C</td>\n      <td>Baseline</td>\n      <td>20200001</td>\n    </tr>\n    <tr>\n      <th>4</th>\n      <td>A5</td>\n      <td>ID2</td>\n      <td>Untreated</td>\n      <td>Site_C</td>\n      <td>Week.6</td>\n      <td>20200001</td>\n    </tr>\n    <tr>\n      <th>...</th>\n      <td>...</td>\n      <td>...</td>\n      <td>...</td>\n      <td>...</td>\n      <td>...</td>\n      <td>...</td>\n    </tr>\n    <tr>\n      <th>151</th>\n      <td>B75</td>\n      <td>ID51</td>\n      <td>Untreated</td>\n      <td>Site_A</td>\n      <td>Week.6</td>\n      <td>20200001</td>\n    </tr>\n    <tr>\n      <th>152</th>\n      <td>B76</td>\n      <td>ID51</td>\n      <td>Untreated</td>\n      <td>Site_A</td>\n      <td>Week.12</td>\n      <td>20200001</td>\n    </tr>\n    <tr>\n      <th>153</th>\n      <td>B77</td>\n      <td>ID52</td>\n      <td>Treated</td>\n      <td>Site_B</td>\n      <td>Baseline</td>\n      <td>20200001</td>\n    </tr>\n    <tr>\n      <th>154</th>\n      <td>B78</td>\n      <td>ID52</td>\n      <td>Treated</td>\n      <td>Site_B</td>\n      <td>Week.6</td>\n      <td>20200001</td>\n    </tr>\n    <tr>\n      <th>155</th>\n      <td>B79</td>\n      <td>ID52</td>\n      <td>Treated</td>\n      <td>Site_B</td>\n      <td>Week.12</td>\n      <td>20200001</td>\n    </tr>\n  </tbody>\n</table>\n<p>156 rows × 6 columns</p>\n</div>"
     },
     "metadata": {},
     "execution_count": 15
    }
   ],
   "source": [
    "info_df"
   ]
  },
  {
   "cell_type": "code",
   "execution_count": 5,
   "metadata": {},
   "outputs": [],
   "source": [
    "info_df_drop = info_df.drop(columns=\"Project\")"
   ]
  },
  {
   "cell_type": "code",
   "execution_count": 14,
   "metadata": {},
   "outputs": [
    {
     "output_type": "execute_result",
     "data": {
      "text/plain": "array(['Untreated', 'Treated'], dtype=object)"
     },
     "metadata": {},
     "execution_count": 14
    }
   ],
   "source": [
    "info_df_drop[\"Treatment\"].unique()"
   ]
  },
  {
   "cell_type": "code",
   "execution_count": 11,
   "metadata": {},
   "outputs": [
    {
     "output_type": "execute_result",
     "data": {
      "text/plain": "<pandas.core.groupby.generic.DataFrameGroupBy object at 0x11ff22f10>"
     },
     "metadata": {},
     "execution_count": 11
    }
   ],
   "source": []
  },
  {
   "cell_type": "code",
   "execution_count": null,
   "metadata": {},
   "outputs": [],
   "source": []
  }
 ],
 "metadata": {
  "language_info": {
   "codemirror_mode": {
    "name": "ipython",
    "version": 3
   },
   "file_extension": ".py",
   "mimetype": "text/x-python",
   "name": "python",
   "nbconvert_exporter": "python",
   "pygments_lexer": "ipython3",
   "version": 3
  },
  "orig_nbformat": 2,
  "kernelspec": {
   "name": "python_defaultSpec_1594335357623",
   "display_name": "Python 3.7.7 64-bit ('PythonData': conda)"
  }
 },
 "nbformat": 4,
 "nbformat_minor": 2
}