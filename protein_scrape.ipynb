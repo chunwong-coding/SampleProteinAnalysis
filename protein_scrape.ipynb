{
 "cells": [
  {
   "cell_type": "code",
   "execution_count": 1,
   "metadata": {},
   "outputs": [],
   "source": [
    "from bs4 import BeautifulSoup\n",
    "import pandas as pd\n",
    "import requests"
   ]
  },
  {
   "cell_type": "code",
   "execution_count": 2,
   "metadata": {},
   "outputs": [],
   "source": [
    "file = \"NPX_data1.xlsx\"\n",
    "df = pd.read_excel(file, skiprows=1)\n",
    "df_indexed = df.set_index(\"NPX Data\")\n",
    "df_cleaned = df_indexed.iloc[:, 0:1104]\n",
    "col_len = len(df_cleaned.columns)\n",
    "for x in range(col_len):\n",
    "    df_cleaned.iloc[0][x] = df_cleaned.iloc[0][x].split(\"Olink \")[1]"
   ]
  },
  {
   "cell_type": "code",
   "execution_count": 4,
   "metadata": {},
   "outputs": [],
   "source": [
    "protein_data = {\n",
    "    \"Panel\" : [],\n",
    "    \"Uniprot ID\": []\n",
    "}\n",
    "for y in range(col_len):\n",
    "    panel = df_cleaned.iloc[[0, 2], y][0]\n",
    "    uniprot = df_cleaned.iloc[[0, 2], y][1]\n",
    "    try:\n",
    "        if len(uniprot.split(\",\")) > 1:\n",
    "            uniprot_split = uniprot.split(\",\")\n",
    "            protein_data[\"Panel\"].append(panel)\n",
    "            protein_data[\"Uniprot ID\"].append(uniprot_split[0])\n",
    "            protein_data[\"Panel\"].append(panel)\n",
    "            protein_data[\"Uniprot ID\"].append(uniprot_split[1])\n",
    "        elif len(uniprot.split(\"-\")) > 1:\n",
    "            uniprot_split = uniprot.split(\"-\")\n",
    "            protein_data[\"Panel\"].append(panel)\n",
    "            protein_data[\"Uniprot ID\"].append(uniprot_split[0])\n",
    "        else:\n",
    "            protein_data[\"Panel\"].append(panel)\n",
    "            protein_data[\"Uniprot ID\"].append(uniprot)\n",
    "    except AttributeError:\n",
    "        protein_data[\"Panel\"].append(panel)\n",
    "        protein_data[\"Uniprot ID\"].append(uniprot)"
   ]
  },
  {
   "cell_type": "code",
   "execution_count": 5,
   "metadata": {},
   "outputs": [],
   "source": [
    "panel_uniprot_df = pd.DataFrame(protein_data)\n",
    "panel_uniprot_df = panel_uniprot_df.dropna()"
   ]
  },
  {
   "cell_type": "code",
   "execution_count": 7,
   "metadata": {},
   "outputs": [
    {
     "output_type": "execute_result",
     "data": {
      "text/plain": "1106"
     },
     "metadata": {},
     "execution_count": 7
    }
   ],
   "source": [
    "len(panel_uniprot_df)"
   ]
  },
  {
   "cell_type": "code",
   "execution_count": 13,
   "metadata": {},
   "outputs": [
    {
     "output_type": "execute_result",
     "data": {
      "text/plain": "1106"
     },
     "metadata": {},
     "execution_count": 13
    }
   ],
   "source": [
    "panel_uniprot_df.to_csv(\"panel_uniprot.csv\")\n",
    "uniprot_id = panel_uniprot_df[\"Uniprot ID\"].tolist()\n",
    "len(uniprot_id)"
   ]
  },
  {
   "cell_type": "code",
   "execution_count": 109,
   "metadata": {
    "tags": []
   },
   "outputs": [
    {
     "output_type": "stream",
     "name": "stdout",
     "text": "P0CG05: page not found\nP35475: Function Not Listed\nQ9BQR3: Function Not Listed\nQ9UKR0: Function Not Listed\nQ6ISS4: Function Not Listed\n"
    }
   ],
   "source": [
    "baseURL = \"https://www.uniprot.org/uniprot/\"\n",
    "protein_scraped_info = {\n",
    "    \"Uniprot ID\" : [],\n",
    "    \"Protein Name\" : [],\n",
    "    \"Gene Name\" : [],\n",
    "    \"Function\" : []\n",
    "    }\n",
    "for z in range(len(uniprot_id)):\n",
    "    url = f'{baseURL}{uniprot_id[z]}'\n",
    "    response = requests.get(url)\n",
    "    soup = BeautifulSoup(response.text, 'lxml')\n",
    "    try: \n",
    "        protein_name = soup.find(\"div\", id=\"content-protein\").find(\"h1\").text\n",
    "        gene = soup.find(\"div\", id=\"content-gene\").find(\"h2\").text\n",
    "        protein_scraped_info[\"Protein Name\"].append(protein_name)\n",
    "        protein_scraped_info[\"Gene Name\"].append(gene)\n",
    "        try:\n",
    "            function_text = soup.find(\"div\", class_=\"annotation\").find(\"span\").text\n",
    "            text_split = function_text.split(\"<p>\")[0].split(\"\\r\")\n",
    "            protein_scraped_info[\"Function\"].append(text_split[0])\n",
    "            protein_scraped_info[\"Uniprot ID\"].append(uniprot_id[z])\n",
    "        except AttributeError:\n",
    "            protein_scraped_info[\"Function\"].append(\"Function Not Listed\")\n",
    "            protein_scraped_info[\"Uniprot ID\"].append(uniprot_id[z])\n",
    "            print(f'{uniprot_id[z]}: Function Not Listed')\n",
    "    except AttributeError:\n",
    "        print(f'{uniprot_id[z]}: page not found')\n",
    "    "
   ]
  },
  {
   "cell_type": "code",
   "execution_count": 157,
   "metadata": {},
   "outputs": [],
   "source": [
    "#P0CG05 is deleted from original df"
   ]
  },
  {
   "cell_type": "code",
   "execution_count": 105,
   "metadata": {},
   "outputs": [],
   "source": [
    "url = f\"https://www.uniprot.org/uniprot/P63313\"\n",
    "response = requests.get(url)\n",
    "soup = BeautifulSoup(response.text, 'lxml')\n",
    "protein_name = soup.find(\"div\", id=\"content-protein\").find(\"h1\").text\n",
    "gene = soup.find(\"div\", id=\"content-gene\").find(\"h2\").text\n",
    "function_text = soup.find(\"div\", class_=\"annotation\").find(\"span\").text\n",
    "text_split = function_text.split(\"<p>\")[0].split(\"\\r\")"
   ]
  },
  {
   "cell_type": "code",
   "execution_count": 106,
   "metadata": {},
   "outputs": [
    {
     "output_type": "execute_result",
     "data": {
      "text/plain": "'Plays an important role in the organization of the cytoskeleton. Binds to and sequesters actin monomers (G actin) and therefore inhibits actin polymerization (By similarity).By similarity'"
     },
     "metadata": {},
     "execution_count": 106
    }
   ],
   "source": [
    "text_split[0]"
   ]
  },
  {
   "cell_type": "code",
   "execution_count": 77,
   "metadata": {},
   "outputs": [
    {
     "output_type": "execute_result",
     "data": {
      "text/plain": "'Probably involved in lipid transport. Can bind sphingosine-1-phosphate, myristic acid, palmitic acid and stearic acid, retinol, all-trans-retinoic acid and 9-cis-retinoic acid.2 Publications\\r\\n                                    '"
     },
     "metadata": {},
     "execution_count": 77
    }
   ],
   "source": [
    "text_split[0]"
   ]
  },
  {
   "cell_type": "code",
   "execution_count": 108,
   "metadata": {},
   "outputs": [
    {
     "output_type": "execute_result",
     "data": {
      "text/plain": "'Receptor involved in the development of the cardiovascular system, in angiogenesis, in the formation of certain neuronal circuits and in organogenesis outside the nervous system. It mediates the chemorepulsant activity of semaphorins (PubMed:9288753, PubMed:9529250, PubMed:10688880). It binds to semaphorin 3A, The PLGF-2 isoform of PGF, The VEGF165 isoform of VEGFA and VEGFB (PubMed:9288753, PubMed:9529250, PubMed:10688880). Coexpression with KDR results in increased VEGF165 binding to KDR as well as increased chemotaxis. Regulates VEGF-induced angiogenesis. Binding to VEGFA initiates a signaling pathway needed for motor neuron axon guidance and cell body migration, including for the caudal migration of facial motor neurons from rhombomere 4 to rhombomere 6 during embryonic development (By similarity). Regulates mitochondrial iron transport via interaction with ABCB8/MITOSUR (PubMed:30623799).'"
     },
     "metadata": {},
     "execution_count": 108
    }
   ],
   "source": [
    "text_split[0].split(\"By similarity\\r\")[0]"
   ]
  },
  {
   "cell_type": "code",
   "execution_count": 110,
   "metadata": {},
   "outputs": [
    {
     "output_type": "execute_result",
     "data": {
      "text/plain": "'Probably involved in lipid transport. Can bind sphingosine-1-phosphate, myristic acid, palmitic acid and stearic acid, retinol, all-trans-retinoic acid and 9-cis-retinoic acid.2 Publications'"
     },
     "metadata": {},
     "execution_count": 110
    }
   ],
   "source": [
    "sample = pd.DataFrame(protein_scraped_info)\n",
    "#sample[\"Protein Name\"][22]"
   ]
  },
  {
   "cell_type": "code",
   "execution_count": 113,
   "metadata": {},
   "outputs": [],
   "source": [
    "sample = sample.set_index(\"Uniprot ID\")"
   ]
  },
  {
   "cell_type": "code",
   "execution_count": 114,
   "metadata": {},
   "outputs": [],
   "source": [
    "sample.to_csv(\"protein_scraped_data.csv\")"
   ]
  },
  {
   "cell_type": "code",
   "execution_count": 11,
   "metadata": {},
   "outputs": [],
   "source": [
    "protein_sc_data = pd.read_csv(\"FinalProject_LandingPage/ProteinMarkers/analysis/protein_scraped_data.csv\")"
   ]
  },
  {
   "cell_type": "code",
   "execution_count": 12,
   "metadata": {},
   "outputs": [
    {
     "output_type": "execute_result",
     "data": {
      "text/plain": "     Uniprot ID                                       Protein Name Gene Name  \\\n0        O00533      Neural cell adhesion molecule L1-like protein      CHL1   \n1        O14786                                       Neuropilin-1      NRP1   \n2        O15031                                          Plexin-B2    PLXNB2   \n3        O75015  Low affinity immunoglobulin gamma Fc region re...    FCGR3B   \n4        O75023  Leukocyte immunoglobulin-like receptor subfami...    LILRB5   \n...         ...                                                ...       ...   \n1100     P98073                                    Enteropeptidase  TMPRSS15   \n1101     P01229                              Lutropin subunit beta       LHB   \n1102     P53539                                       Protein fosB      FOSB   \n1103     P27797                                       Calreticulin      CALR   \n1104     P49763                             Placenta growth factor       PGF   \n\n                                               Function  \n0     Extracellular matrix and cell adhesion protein...  \n1     Receptor involved in the development of the ca...  \n2     Cell surface receptor for SEMA4C, SEMA4D and S...  \n3     Receptor for the Fc region of immunoglobulins ...  \n4         May act as receptor for class I MHC antigens.  \n...                                                 ...  \n1100  Responsible for initiating activation of pancr...  \n1101  Promotes spermatogenesis and ovulation by stim...  \n1102  FosB interacts with Jun proteins enhancing the...  \n1103  Calcium-binding chaperone that promotes foldin...  \n1104  Growth factor active in angiogenesis and endot...  \n\n[1105 rows x 4 columns]",
      "text/html": "<div>\n<style scoped>\n    .dataframe tbody tr th:only-of-type {\n        vertical-align: middle;\n    }\n\n    .dataframe tbody tr th {\n        vertical-align: top;\n    }\n\n    .dataframe thead th {\n        text-align: right;\n    }\n</style>\n<table border=\"1\" class=\"dataframe\">\n  <thead>\n    <tr style=\"text-align: right;\">\n      <th></th>\n      <th>Uniprot ID</th>\n      <th>Protein Name</th>\n      <th>Gene Name</th>\n      <th>Function</th>\n    </tr>\n  </thead>\n  <tbody>\n    <tr>\n      <th>0</th>\n      <td>O00533</td>\n      <td>Neural cell adhesion molecule L1-like protein</td>\n      <td>CHL1</td>\n      <td>Extracellular matrix and cell adhesion protein...</td>\n    </tr>\n    <tr>\n      <th>1</th>\n      <td>O14786</td>\n      <td>Neuropilin-1</td>\n      <td>NRP1</td>\n      <td>Receptor involved in the development of the ca...</td>\n    </tr>\n    <tr>\n      <th>2</th>\n      <td>O15031</td>\n      <td>Plexin-B2</td>\n      <td>PLXNB2</td>\n      <td>Cell surface receptor for SEMA4C, SEMA4D and S...</td>\n    </tr>\n    <tr>\n      <th>3</th>\n      <td>O75015</td>\n      <td>Low affinity immunoglobulin gamma Fc region re...</td>\n      <td>FCGR3B</td>\n      <td>Receptor for the Fc region of immunoglobulins ...</td>\n    </tr>\n    <tr>\n      <th>4</th>\n      <td>O75023</td>\n      <td>Leukocyte immunoglobulin-like receptor subfami...</td>\n      <td>LILRB5</td>\n      <td>May act as receptor for class I MHC antigens.</td>\n    </tr>\n    <tr>\n      <th>...</th>\n      <td>...</td>\n      <td>...</td>\n      <td>...</td>\n      <td>...</td>\n    </tr>\n    <tr>\n      <th>1100</th>\n      <td>P98073</td>\n      <td>Enteropeptidase</td>\n      <td>TMPRSS15</td>\n      <td>Responsible for initiating activation of pancr...</td>\n    </tr>\n    <tr>\n      <th>1101</th>\n      <td>P01229</td>\n      <td>Lutropin subunit beta</td>\n      <td>LHB</td>\n      <td>Promotes spermatogenesis and ovulation by stim...</td>\n    </tr>\n    <tr>\n      <th>1102</th>\n      <td>P53539</td>\n      <td>Protein fosB</td>\n      <td>FOSB</td>\n      <td>FosB interacts with Jun proteins enhancing the...</td>\n    </tr>\n    <tr>\n      <th>1103</th>\n      <td>P27797</td>\n      <td>Calreticulin</td>\n      <td>CALR</td>\n      <td>Calcium-binding chaperone that promotes foldin...</td>\n    </tr>\n    <tr>\n      <th>1104</th>\n      <td>P49763</td>\n      <td>Placenta growth factor</td>\n      <td>PGF</td>\n      <td>Growth factor active in angiogenesis and endot...</td>\n    </tr>\n  </tbody>\n</table>\n<p>1105 rows × 4 columns</p>\n</div>"
     },
     "metadata": {},
     "execution_count": 12
    }
   ],
   "source": [
    "protein_sc_data"
   ]
  },
  {
   "cell_type": "code",
   "execution_count": null,
   "metadata": {},
   "outputs": [],
   "source": []
  }
 ],
 "metadata": {
  "language_info": {
   "codemirror_mode": {
    "name": "ipython",
    "version": 3
   },
   "file_extension": ".py",
   "mimetype": "text/x-python",
   "name": "python",
   "nbconvert_exporter": "python",
   "pygments_lexer": "ipython3",
   "version": 3
  },
  "orig_nbformat": 2,
  "kernelspec": {
   "name": "python_defaultSpec_1595052763152",
   "display_name": "Python 3.7.7 64-bit ('PythonData': conda)"
  }
 },
 "nbformat": 4,
 "nbformat_minor": 2
}