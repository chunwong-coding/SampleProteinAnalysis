{
 "metadata": {
  "language_info": {
   "codemirror_mode": {
    "name": "ipython",
    "version": 3
   },
   "file_extension": ".py",
   "mimetype": "text/x-python",
   "name": "python",
   "nbconvert_exporter": "python",
   "pygments_lexer": "ipython3",
   "version": 3
  },
  "orig_nbformat": 2,
  "kernelspec": {
   "name": "python_defaultSpec_1595058780879",
   "display_name": "Python 3.7.7 64-bit ('PythonData': conda)"
  }
 },
 "nbformat": 4,
 "nbformat_minor": 2,
 "cells": [
  {
   "cell_type": "code",
   "execution_count": 1,
   "metadata": {},
   "outputs": [],
   "source": [
    "import pandas as pd\n",
    "import matplotlib.pyplot as plt\n",
    "import numpy as np\n"
   ]
  },
  {
   "cell_type": "code",
   "execution_count": 2,
   "metadata": {},
   "outputs": [],
   "source": [
    "data_df = pd.read_csv(\"Resources/data1+info.csv\")\n",
    "data_df = data_df.set_index(\"SampleID\")"
   ]
  },
  {
   "cell_type": "code",
   "execution_count": 3,
   "metadata": {},
   "outputs": [],
   "source": [
    "uniprot_ids = data_df.iloc[:, 0:1104].columns\n",
    "uniprot_ids = uniprot_ids.tolist()\n",
    "for x in range(len(uniprot_ids)):\n",
    "    if len(uniprot_ids[x].split(\"_\")) > 1:\n",
    "        uniprot_ids[x] = uniprot_ids[x].split(\"_\")[0]"
   ]
  },
  {
   "cell_type": "code",
   "execution_count": 4,
   "metadata": {},
   "outputs": [],
   "source": [
    "treated = data_df[data_df[\"Treatment\"]==\"Treated\"]\n",
    "untreated = data_df[data_df[\"Treatment\"]==\"Untreated\"]"
   ]
  },
  {
   "cell_type": "code",
   "execution_count": 5,
   "metadata": {},
   "outputs": [],
   "source": [
    "treated.to_csv(\"FinalProject_LandingPage/ProteinMarkers/analysis/responser.csv\")\n",
    "untreated.to_csv(\"FinalProject_LandingPage/ProteinMarkers/analysis/nonresponser.csv\")"
   ]
  },
  {
   "cell_type": "code",
   "execution_count": 10,
   "metadata": {},
   "outputs": [
    {
     "output_type": "execute_result",
     "data": {
      "text/plain": "             O00533    O14786    O15031     O75015    O75023     O95445  \\\nSampleID                                                                  \nA1        12.956143  3.729709  2.086122  11.609629  0.724192   8.542624   \nA2        11.269477  6.144801  1.483985  17.582141  3.329488  10.395668   \nA3        25.451070  6.950510  1.228214  10.494904  4.392219  14.669500   \nA4        14.453038  3.725393  3.278853  14.969670  1.132330  16.194933   \nA5         7.628712  7.198343  4.989030  13.087540  1.237068  15.074472   \n...             ...       ...       ...        ...       ...        ...   \nB75       13.024688  3.918886  3.163334  11.961131  1.396265   7.350203   \nB76       12.651836  9.767998  3.262239  14.746187  4.040677  13.739613   \nB77        9.975178  8.553449  4.280947   9.935137 -1.353013  14.539348   \nB78       12.819363  6.103985  3.618611   5.405530  1.842243   2.258826   \nB79       10.502865  8.934641  3.103524  15.255418  2.725858  11.361016   \n\n             P00441    P00915    P01033     P01034  ...    Q0Z7S8    P98073  \\\nSampleID                                            ...                       \nA1         9.452978  7.795929  3.116308  12.019284  ...  5.698748  1.640175   \nA2         7.704559  6.388902  0.793348  12.086564  ...  5.751120  1.433037   \nA3        11.206255  1.333532  3.839500  13.761894  ...  9.776941  2.514728   \nA4        12.066842 -0.580701  4.565457  10.029911  ...  8.191348  4.953789   \nA5         2.201737  2.005555  4.600080  10.567973  ...  5.697130  1.292394   \n...             ...       ...       ...        ...  ...       ...       ...   \nB75       19.334173  2.183027  4.348268   9.872193  ...  7.463973  3.605572   \nB76        8.324083 -0.940497  2.920415   7.521120  ...  6.148645  4.861764   \nB77       18.308870  3.671944  4.036374   7.545368  ...  4.545576  7.561058   \nB78       13.683191  2.474751  4.637519  10.233056  ...  5.108254  1.430722   \nB79       14.116642  3.870924  0.267596  14.545103  ...  6.004355  6.442490   \n\n            P01229    P53539     P27797  P49763-3  Subject  Treatment    Site  \\\nSampleID                                                                        \nA1        1.187713  3.843168   1.278116  2.457126      ID1  Untreated  Site_D   \nA2        2.068403  2.972200   4.908331  3.756646      ID1  Untreated  Site_D   \nA3        0.530500  0.803449   5.720805  2.195161      ID1  Untreated  Site_D   \nA4        1.588413  1.929322   6.883288  2.552394      ID2  Untreated  Site_C   \nA5        1.370663  2.180779  13.823078  1.381204      ID2  Untreated  Site_C   \n...            ...       ...        ...       ...      ...        ...     ...   \nB75       2.263226  3.107379  11.549792  4.065760     ID51  Untreated  Site_A   \nB76       1.012678  2.734845   7.009428  3.234534     ID51  Untreated  Site_A   \nB77       2.832326  6.894978   9.119377  1.562843     ID52    Treated  Site_B   \nB78       2.790248  5.766232   6.157426  1.856033     ID52    Treated  Site_B   \nB79       0.871766  4.424724   4.414578  3.291130     ID52    Treated  Site_B   \n\n              Time  \nSampleID            \nA1        Baseline  \nA2          Week.6  \nA3         Week.12  \nA4        Baseline  \nA5          Week.6  \n...            ...  \nB75         Week.6  \nB76        Week.12  \nB77       Baseline  \nB78         Week.6  \nB79        Week.12  \n\n[156 rows x 1108 columns]",
      "text/html": "<div>\n<style scoped>\n    .dataframe tbody tr th:only-of-type {\n        vertical-align: middle;\n    }\n\n    .dataframe tbody tr th {\n        vertical-align: top;\n    }\n\n    .dataframe thead th {\n        text-align: right;\n    }\n</style>\n<table border=\"1\" class=\"dataframe\">\n  <thead>\n    <tr style=\"text-align: right;\">\n      <th></th>\n      <th>O00533</th>\n      <th>O14786</th>\n      <th>O15031</th>\n      <th>O75015</th>\n      <th>O75023</th>\n      <th>O95445</th>\n      <th>P00441</th>\n      <th>P00915</th>\n      <th>P01033</th>\n      <th>P01034</th>\n      <th>...</th>\n      <th>Q0Z7S8</th>\n      <th>P98073</th>\n      <th>P01229</th>\n      <th>P53539</th>\n      <th>P27797</th>\n      <th>P49763-3</th>\n      <th>Subject</th>\n      <th>Treatment</th>\n      <th>Site</th>\n      <th>Time</th>\n    </tr>\n    <tr>\n      <th>SampleID</th>\n      <th></th>\n      <th></th>\n      <th></th>\n      <th></th>\n      <th></th>\n      <th></th>\n      <th></th>\n      <th></th>\n      <th></th>\n      <th></th>\n      <th></th>\n      <th></th>\n      <th></th>\n      <th></th>\n      <th></th>\n      <th></th>\n      <th></th>\n      <th></th>\n      <th></th>\n      <th></th>\n      <th></th>\n    </tr>\n  </thead>\n  <tbody>\n    <tr>\n      <th>A1</th>\n      <td>12.956143</td>\n      <td>3.729709</td>\n      <td>2.086122</td>\n      <td>11.609629</td>\n      <td>0.724192</td>\n      <td>8.542624</td>\n      <td>9.452978</td>\n      <td>7.795929</td>\n      <td>3.116308</td>\n      <td>12.019284</td>\n      <td>...</td>\n      <td>5.698748</td>\n      <td>1.640175</td>\n      <td>1.187713</td>\n      <td>3.843168</td>\n      <td>1.278116</td>\n      <td>2.457126</td>\n      <td>ID1</td>\n      <td>Untreated</td>\n      <td>Site_D</td>\n      <td>Baseline</td>\n    </tr>\n    <tr>\n      <th>A2</th>\n      <td>11.269477</td>\n      <td>6.144801</td>\n      <td>1.483985</td>\n      <td>17.582141</td>\n      <td>3.329488</td>\n      <td>10.395668</td>\n      <td>7.704559</td>\n      <td>6.388902</td>\n      <td>0.793348</td>\n      <td>12.086564</td>\n      <td>...</td>\n      <td>5.751120</td>\n      <td>1.433037</td>\n      <td>2.068403</td>\n      <td>2.972200</td>\n      <td>4.908331</td>\n      <td>3.756646</td>\n      <td>ID1</td>\n      <td>Untreated</td>\n      <td>Site_D</td>\n      <td>Week.6</td>\n    </tr>\n    <tr>\n      <th>A3</th>\n      <td>25.451070</td>\n      <td>6.950510</td>\n      <td>1.228214</td>\n      <td>10.494904</td>\n      <td>4.392219</td>\n      <td>14.669500</td>\n      <td>11.206255</td>\n      <td>1.333532</td>\n      <td>3.839500</td>\n      <td>13.761894</td>\n      <td>...</td>\n      <td>9.776941</td>\n      <td>2.514728</td>\n      <td>0.530500</td>\n      <td>0.803449</td>\n      <td>5.720805</td>\n      <td>2.195161</td>\n      <td>ID1</td>\n      <td>Untreated</td>\n      <td>Site_D</td>\n      <td>Week.12</td>\n    </tr>\n    <tr>\n      <th>A4</th>\n      <td>14.453038</td>\n      <td>3.725393</td>\n      <td>3.278853</td>\n      <td>14.969670</td>\n      <td>1.132330</td>\n      <td>16.194933</td>\n      <td>12.066842</td>\n      <td>-0.580701</td>\n      <td>4.565457</td>\n      <td>10.029911</td>\n      <td>...</td>\n      <td>8.191348</td>\n      <td>4.953789</td>\n      <td>1.588413</td>\n      <td>1.929322</td>\n      <td>6.883288</td>\n      <td>2.552394</td>\n      <td>ID2</td>\n      <td>Untreated</td>\n      <td>Site_C</td>\n      <td>Baseline</td>\n    </tr>\n    <tr>\n      <th>A5</th>\n      <td>7.628712</td>\n      <td>7.198343</td>\n      <td>4.989030</td>\n      <td>13.087540</td>\n      <td>1.237068</td>\n      <td>15.074472</td>\n      <td>2.201737</td>\n      <td>2.005555</td>\n      <td>4.600080</td>\n      <td>10.567973</td>\n      <td>...</td>\n      <td>5.697130</td>\n      <td>1.292394</td>\n      <td>1.370663</td>\n      <td>2.180779</td>\n      <td>13.823078</td>\n      <td>1.381204</td>\n      <td>ID2</td>\n      <td>Untreated</td>\n      <td>Site_C</td>\n      <td>Week.6</td>\n    </tr>\n    <tr>\n      <th>...</th>\n      <td>...</td>\n      <td>...</td>\n      <td>...</td>\n      <td>...</td>\n      <td>...</td>\n      <td>...</td>\n      <td>...</td>\n      <td>...</td>\n      <td>...</td>\n      <td>...</td>\n      <td>...</td>\n      <td>...</td>\n      <td>...</td>\n      <td>...</td>\n      <td>...</td>\n      <td>...</td>\n      <td>...</td>\n      <td>...</td>\n      <td>...</td>\n      <td>...</td>\n      <td>...</td>\n    </tr>\n    <tr>\n      <th>B75</th>\n      <td>13.024688</td>\n      <td>3.918886</td>\n      <td>3.163334</td>\n      <td>11.961131</td>\n      <td>1.396265</td>\n      <td>7.350203</td>\n      <td>19.334173</td>\n      <td>2.183027</td>\n      <td>4.348268</td>\n      <td>9.872193</td>\n      <td>...</td>\n      <td>7.463973</td>\n      <td>3.605572</td>\n      <td>2.263226</td>\n      <td>3.107379</td>\n      <td>11.549792</td>\n      <td>4.065760</td>\n      <td>ID51</td>\n      <td>Untreated</td>\n      <td>Site_A</td>\n      <td>Week.6</td>\n    </tr>\n    <tr>\n      <th>B76</th>\n      <td>12.651836</td>\n      <td>9.767998</td>\n      <td>3.262239</td>\n      <td>14.746187</td>\n      <td>4.040677</td>\n      <td>13.739613</td>\n      <td>8.324083</td>\n      <td>-0.940497</td>\n      <td>2.920415</td>\n      <td>7.521120</td>\n      <td>...</td>\n      <td>6.148645</td>\n      <td>4.861764</td>\n      <td>1.012678</td>\n      <td>2.734845</td>\n      <td>7.009428</td>\n      <td>3.234534</td>\n      <td>ID51</td>\n      <td>Untreated</td>\n      <td>Site_A</td>\n      <td>Week.12</td>\n    </tr>\n    <tr>\n      <th>B77</th>\n      <td>9.975178</td>\n      <td>8.553449</td>\n      <td>4.280947</td>\n      <td>9.935137</td>\n      <td>-1.353013</td>\n      <td>14.539348</td>\n      <td>18.308870</td>\n      <td>3.671944</td>\n      <td>4.036374</td>\n      <td>7.545368</td>\n      <td>...</td>\n      <td>4.545576</td>\n      <td>7.561058</td>\n      <td>2.832326</td>\n      <td>6.894978</td>\n      <td>9.119377</td>\n      <td>1.562843</td>\n      <td>ID52</td>\n      <td>Treated</td>\n      <td>Site_B</td>\n      <td>Baseline</td>\n    </tr>\n    <tr>\n      <th>B78</th>\n      <td>12.819363</td>\n      <td>6.103985</td>\n      <td>3.618611</td>\n      <td>5.405530</td>\n      <td>1.842243</td>\n      <td>2.258826</td>\n      <td>13.683191</td>\n      <td>2.474751</td>\n      <td>4.637519</td>\n      <td>10.233056</td>\n      <td>...</td>\n      <td>5.108254</td>\n      <td>1.430722</td>\n      <td>2.790248</td>\n      <td>5.766232</td>\n      <td>6.157426</td>\n      <td>1.856033</td>\n      <td>ID52</td>\n      <td>Treated</td>\n      <td>Site_B</td>\n      <td>Week.6</td>\n    </tr>\n    <tr>\n      <th>B79</th>\n      <td>10.502865</td>\n      <td>8.934641</td>\n      <td>3.103524</td>\n      <td>15.255418</td>\n      <td>2.725858</td>\n      <td>11.361016</td>\n      <td>14.116642</td>\n      <td>3.870924</td>\n      <td>0.267596</td>\n      <td>14.545103</td>\n      <td>...</td>\n      <td>6.004355</td>\n      <td>6.442490</td>\n      <td>0.871766</td>\n      <td>4.424724</td>\n      <td>4.414578</td>\n      <td>3.291130</td>\n      <td>ID52</td>\n      <td>Treated</td>\n      <td>Site_B</td>\n      <td>Week.12</td>\n    </tr>\n  </tbody>\n</table>\n<p>156 rows × 1108 columns</p>\n</div>"
     },
     "metadata": {},
     "execution_count": 10
    }
   ],
   "source": [
    "data_df"
   ]
  },
  {
   "cell_type": "code",
   "execution_count": 8,
   "metadata": {},
   "outputs": [],
   "source": [
    "new_dict = {\n",
    "    \"Uniprot ID\" : [],\n",
    "    \"Value\" : [],\n",
    "    \"Treatment\" : [],\n",
    "    \"Timepoint\" : []\n",
    "    \"Site\" : []\n",
    "}\n",
    "for x in range(len(uniprot_ids)):\n",
    "    new_dict[\"Uniprot ID\"].append(uniprot_ids[x])"
   ]
  },
  {
   "cell_type": "code",
   "execution_count": 9,
   "metadata": {},
   "outputs": [
    {
     "output_type": "execute_result",
     "data": {
      "text/plain": "1104"
     },
     "metadata": {},
     "execution_count": 9
    }
   ],
   "source": [
    "len(new_dict[\"Uniprot ID\"])"
   ]
  },
  {
   "cell_type": "code",
   "execution_count": 13,
   "metadata": {},
   "outputs": [
    {
     "output_type": "execute_result",
     "data": {
      "text/plain": "             O00533    O14786    O15031     O75015    O75023     O95445  \\\nSampleID                                                                  \nA1        12.956143  3.729709  2.086122  11.609629  0.724192   8.542624   \nA2        11.269477  6.144801  1.483985  17.582141  3.329488  10.395668   \nA3        25.451070  6.950510  1.228214  10.494904  4.392219  14.669500   \nA4        14.453038  3.725393  3.278853  14.969670  1.132330  16.194933   \nA5         7.628712  7.198343  4.989030  13.087540  1.237068  15.074472   \n...             ...       ...       ...        ...       ...        ...   \nB75       13.024688  3.918886  3.163334  11.961131  1.396265   7.350203   \nB76       12.651836  9.767998  3.262239  14.746187  4.040677  13.739613   \nB77        9.975178  8.553449  4.280947   9.935137 -1.353013  14.539348   \nB78       12.819363  6.103985  3.618611   5.405530  1.842243   2.258826   \nB79       10.502865  8.934641  3.103524  15.255418  2.725858  11.361016   \n\n             P00441    P00915    P01033     P01034  ...    Q7LG56     Q13308  \\\nSampleID                                            ...                        \nA1         9.452978  7.795929  3.116308  12.019284  ... -1.020112   9.783882   \nA2         7.704559  6.388902  0.793348  12.086564  ...  0.535800  11.729969   \nA3        11.206255  1.333532  3.839500  13.761894  ...  0.681359  13.890805   \nA4        12.066842 -0.580701  4.565457  10.029911  ...  3.424544   9.500283   \nA5         2.201737  2.005555  4.600080  10.567973  ...  4.695375   8.229046   \n...             ...       ...       ...        ...  ...       ...        ...   \nB75       19.334173  2.183027  4.348268   9.872193  ...  3.106350   4.337044   \nB76        8.324083 -0.940497  2.920415   7.521120  ...  3.100247  13.686865   \nB77       18.308870  3.671944  4.036374   7.545368  ...  7.222531   4.519467   \nB78       13.683191  2.474751  4.637519  10.233056  ...  8.042032   9.130644   \nB79       14.116642  3.870924  0.267596  14.545103  ...  6.580252   5.122499   \n\n             P20472     Q9UHF1    Q0Z7S8    P98073    P01229    P53539  \\\nSampleID                                                                 \nA1        11.378939  11.941400  5.698748  1.640175  1.187713  3.843168   \nA2        16.626969  15.118446  5.751120  1.433037  2.068403  2.972200   \nA3        17.413738   9.703936  9.776941  2.514728  0.530500  0.803449   \nA4         8.485330  12.853254  8.191348  4.953789  1.588413  1.929322   \nA5         7.046333  12.771902  5.697130  1.292394  1.370663  2.180779   \n...             ...        ...       ...       ...       ...       ...   \nB75        9.817858   8.536910  7.463973  3.605572  2.263226  3.107379   \nB76       10.588018   5.027865  6.148645  4.861764  1.012678  2.734845   \nB77        9.060700  11.816188  4.545576  7.561058  2.832326  6.894978   \nB78       16.699224   7.584425  5.108254  1.430722  2.790248  5.766232   \nB79        9.184827   6.889672  6.004355  6.442490  0.871766  4.424724   \n\n             P27797  P49763-3  \nSampleID                       \nA1         1.278116  2.457126  \nA2         4.908331  3.756646  \nA3         5.720805  2.195161  \nA4         6.883288  2.552394  \nA5        13.823078  1.381204  \n...             ...       ...  \nB75       11.549792  4.065760  \nB76        7.009428  3.234534  \nB77        9.119377  1.562843  \nB78        6.157426  1.856033  \nB79        4.414578  3.291130  \n\n[156 rows x 1104 columns]",
      "text/html": "<div>\n<style scoped>\n    .dataframe tbody tr th:only-of-type {\n        vertical-align: middle;\n    }\n\n    .dataframe tbody tr th {\n        vertical-align: top;\n    }\n\n    .dataframe thead th {\n        text-align: right;\n    }\n</style>\n<table border=\"1\" class=\"dataframe\">\n  <thead>\n    <tr style=\"text-align: right;\">\n      <th></th>\n      <th>O00533</th>\n      <th>O14786</th>\n      <th>O15031</th>\n      <th>O75015</th>\n      <th>O75023</th>\n      <th>O95445</th>\n      <th>P00441</th>\n      <th>P00915</th>\n      <th>P01033</th>\n      <th>P01034</th>\n      <th>...</th>\n      <th>Q7LG56</th>\n      <th>Q13308</th>\n      <th>P20472</th>\n      <th>Q9UHF1</th>\n      <th>Q0Z7S8</th>\n      <th>P98073</th>\n      <th>P01229</th>\n      <th>P53539</th>\n      <th>P27797</th>\n      <th>P49763-3</th>\n    </tr>\n    <tr>\n      <th>SampleID</th>\n      <th></th>\n      <th></th>\n      <th></th>\n      <th></th>\n      <th></th>\n      <th></th>\n      <th></th>\n      <th></th>\n      <th></th>\n      <th></th>\n      <th></th>\n      <th></th>\n      <th></th>\n      <th></th>\n      <th></th>\n      <th></th>\n      <th></th>\n      <th></th>\n      <th></th>\n      <th></th>\n      <th></th>\n    </tr>\n  </thead>\n  <tbody>\n    <tr>\n      <th>A1</th>\n      <td>12.956143</td>\n      <td>3.729709</td>\n      <td>2.086122</td>\n      <td>11.609629</td>\n      <td>0.724192</td>\n      <td>8.542624</td>\n      <td>9.452978</td>\n      <td>7.795929</td>\n      <td>3.116308</td>\n      <td>12.019284</td>\n      <td>...</td>\n      <td>-1.020112</td>\n      <td>9.783882</td>\n      <td>11.378939</td>\n      <td>11.941400</td>\n      <td>5.698748</td>\n      <td>1.640175</td>\n      <td>1.187713</td>\n      <td>3.843168</td>\n      <td>1.278116</td>\n      <td>2.457126</td>\n    </tr>\n    <tr>\n      <th>A2</th>\n      <td>11.269477</td>\n      <td>6.144801</td>\n      <td>1.483985</td>\n      <td>17.582141</td>\n      <td>3.329488</td>\n      <td>10.395668</td>\n      <td>7.704559</td>\n      <td>6.388902</td>\n      <td>0.793348</td>\n      <td>12.086564</td>\n      <td>...</td>\n      <td>0.535800</td>\n      <td>11.729969</td>\n      <td>16.626969</td>\n      <td>15.118446</td>\n      <td>5.751120</td>\n      <td>1.433037</td>\n      <td>2.068403</td>\n      <td>2.972200</td>\n      <td>4.908331</td>\n      <td>3.756646</td>\n    </tr>\n    <tr>\n      <th>A3</th>\n      <td>25.451070</td>\n      <td>6.950510</td>\n      <td>1.228214</td>\n      <td>10.494904</td>\n      <td>4.392219</td>\n      <td>14.669500</td>\n      <td>11.206255</td>\n      <td>1.333532</td>\n      <td>3.839500</td>\n      <td>13.761894</td>\n      <td>...</td>\n      <td>0.681359</td>\n      <td>13.890805</td>\n      <td>17.413738</td>\n      <td>9.703936</td>\n      <td>9.776941</td>\n      <td>2.514728</td>\n      <td>0.530500</td>\n      <td>0.803449</td>\n      <td>5.720805</td>\n      <td>2.195161</td>\n    </tr>\n    <tr>\n      <th>A4</th>\n      <td>14.453038</td>\n      <td>3.725393</td>\n      <td>3.278853</td>\n      <td>14.969670</td>\n      <td>1.132330</td>\n      <td>16.194933</td>\n      <td>12.066842</td>\n      <td>-0.580701</td>\n      <td>4.565457</td>\n      <td>10.029911</td>\n      <td>...</td>\n      <td>3.424544</td>\n      <td>9.500283</td>\n      <td>8.485330</td>\n      <td>12.853254</td>\n      <td>8.191348</td>\n      <td>4.953789</td>\n      <td>1.588413</td>\n      <td>1.929322</td>\n      <td>6.883288</td>\n      <td>2.552394</td>\n    </tr>\n    <tr>\n      <th>A5</th>\n      <td>7.628712</td>\n      <td>7.198343</td>\n      <td>4.989030</td>\n      <td>13.087540</td>\n      <td>1.237068</td>\n      <td>15.074472</td>\n      <td>2.201737</td>\n      <td>2.005555</td>\n      <td>4.600080</td>\n      <td>10.567973</td>\n      <td>...</td>\n      <td>4.695375</td>\n      <td>8.229046</td>\n      <td>7.046333</td>\n      <td>12.771902</td>\n      <td>5.697130</td>\n      <td>1.292394</td>\n      <td>1.370663</td>\n      <td>2.180779</td>\n      <td>13.823078</td>\n      <td>1.381204</td>\n    </tr>\n    <tr>\n      <th>...</th>\n      <td>...</td>\n      <td>...</td>\n      <td>...</td>\n      <td>...</td>\n      <td>...</td>\n      <td>...</td>\n      <td>...</td>\n      <td>...</td>\n      <td>...</td>\n      <td>...</td>\n      <td>...</td>\n      <td>...</td>\n      <td>...</td>\n      <td>...</td>\n      <td>...</td>\n      <td>...</td>\n      <td>...</td>\n      <td>...</td>\n      <td>...</td>\n      <td>...</td>\n      <td>...</td>\n    </tr>\n    <tr>\n      <th>B75</th>\n      <td>13.024688</td>\n      <td>3.918886</td>\n      <td>3.163334</td>\n      <td>11.961131</td>\n      <td>1.396265</td>\n      <td>7.350203</td>\n      <td>19.334173</td>\n      <td>2.183027</td>\n      <td>4.348268</td>\n      <td>9.872193</td>\n      <td>...</td>\n      <td>3.106350</td>\n      <td>4.337044</td>\n      <td>9.817858</td>\n      <td>8.536910</td>\n      <td>7.463973</td>\n      <td>3.605572</td>\n      <td>2.263226</td>\n      <td>3.107379</td>\n      <td>11.549792</td>\n      <td>4.065760</td>\n    </tr>\n    <tr>\n      <th>B76</th>\n      <td>12.651836</td>\n      <td>9.767998</td>\n      <td>3.262239</td>\n      <td>14.746187</td>\n      <td>4.040677</td>\n      <td>13.739613</td>\n      <td>8.324083</td>\n      <td>-0.940497</td>\n      <td>2.920415</td>\n      <td>7.521120</td>\n      <td>...</td>\n      <td>3.100247</td>\n      <td>13.686865</td>\n      <td>10.588018</td>\n      <td>5.027865</td>\n      <td>6.148645</td>\n      <td>4.861764</td>\n      <td>1.012678</td>\n      <td>2.734845</td>\n      <td>7.009428</td>\n      <td>3.234534</td>\n    </tr>\n    <tr>\n      <th>B77</th>\n      <td>9.975178</td>\n      <td>8.553449</td>\n      <td>4.280947</td>\n      <td>9.935137</td>\n      <td>-1.353013</td>\n      <td>14.539348</td>\n      <td>18.308870</td>\n      <td>3.671944</td>\n      <td>4.036374</td>\n      <td>7.545368</td>\n      <td>...</td>\n      <td>7.222531</td>\n      <td>4.519467</td>\n      <td>9.060700</td>\n      <td>11.816188</td>\n      <td>4.545576</td>\n      <td>7.561058</td>\n      <td>2.832326</td>\n      <td>6.894978</td>\n      <td>9.119377</td>\n      <td>1.562843</td>\n    </tr>\n    <tr>\n      <th>B78</th>\n      <td>12.819363</td>\n      <td>6.103985</td>\n      <td>3.618611</td>\n      <td>5.405530</td>\n      <td>1.842243</td>\n      <td>2.258826</td>\n      <td>13.683191</td>\n      <td>2.474751</td>\n      <td>4.637519</td>\n      <td>10.233056</td>\n      <td>...</td>\n      <td>8.042032</td>\n      <td>9.130644</td>\n      <td>16.699224</td>\n      <td>7.584425</td>\n      <td>5.108254</td>\n      <td>1.430722</td>\n      <td>2.790248</td>\n      <td>5.766232</td>\n      <td>6.157426</td>\n      <td>1.856033</td>\n    </tr>\n    <tr>\n      <th>B79</th>\n      <td>10.502865</td>\n      <td>8.934641</td>\n      <td>3.103524</td>\n      <td>15.255418</td>\n      <td>2.725858</td>\n      <td>11.361016</td>\n      <td>14.116642</td>\n      <td>3.870924</td>\n      <td>0.267596</td>\n      <td>14.545103</td>\n      <td>...</td>\n      <td>6.580252</td>\n      <td>5.122499</td>\n      <td>9.184827</td>\n      <td>6.889672</td>\n      <td>6.004355</td>\n      <td>6.442490</td>\n      <td>0.871766</td>\n      <td>4.424724</td>\n      <td>4.414578</td>\n      <td>3.291130</td>\n    </tr>\n  </tbody>\n</table>\n<p>156 rows × 1104 columns</p>\n</div>"
     },
     "metadata": {},
     "execution_count": 13
    }
   ],
   "source": [
    "data_df.iloc[:, 0:1104]"
   ]
  },
  {
   "cell_type": "code",
   "execution_count": null,
   "metadata": {},
   "outputs": [],
   "source": []
  }
 ]
}