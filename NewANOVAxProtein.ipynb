{
 "cells": [
  {
   "cell_type": "code",
   "execution_count": 1,
   "metadata": {},
   "outputs": [],
   "source": [
    "#load libraries, dependencies\n",
    "import pandas as pd\n",
    "import seaborn as sns\n",
    "import statsmodels.api as sm\n",
    "from statsmodels.formula.api import ols # Ordinary Least Squares (OLS) model\n",
    "from statsmodels.stats.anova import anova_lm\n",
    "import matplotlib.pyplot as plt"
   ]
  },
  {
   "cell_type": "code",
   "execution_count": 2,
   "metadata": {},
   "outputs": [
    {
     "output_type": "execute_result",
     "data": {
      "text/plain": "    SampleID  CHL1_OID01216  NRP1_OID01217  PLXNB2_OID01218  FCGR3B_OID01219  \\\n0         A1      12.956143       3.729709         2.086122        11.609629   \n1         A2      11.269477       6.144801         1.483985        17.582141   \n2         A3      25.451070       6.950510         1.228214        10.494904   \n3         A4      14.453038       3.725393         3.278853        14.969670   \n4         A5       7.628712       7.198343         4.989030        13.087540   \n..       ...            ...            ...              ...              ...   \n151      B75      13.024688       3.918886         3.163334        11.961131   \n152      B76      12.651836       9.767998         3.262239        14.746187   \n153      B77       9.975178       8.553449         4.280947         9.935137   \n154      B78      12.819363       6.103985         3.618611         5.405530   \n155      B79      10.502865       8.934641         3.103524        15.255418   \n\n     LILRB5_OID01220  APOM_OID01221  SOD1_OID01222  CA1_OID01223  \\\n0           0.724192       8.542624       9.452978      7.795929   \n1           3.329488      10.395668       7.704559      6.388902   \n2           4.392219      14.669500      11.206255      1.333532   \n3           1.132330      16.194933      12.066842     -0.580701   \n4           1.237068      15.074472       2.201737      2.005555   \n..               ...            ...            ...           ...   \n151         1.396265       7.350203      19.334173      2.183027   \n152         4.040677      13.739613       8.324083     -0.940497   \n153        -1.353013      14.539348      18.308870      3.671944   \n154         1.842243       2.258826      13.683191      2.474751   \n155         2.725858      11.361016      14.116642      3.870924   \n\n     TIMP1_OID01224  ...  FABP9_OID01115  TMPRSS15_OID01116  LHB_OID01117  \\\n0          3.116308  ...        5.698748           1.640175      1.187713   \n1          0.793348  ...        5.751120           1.433037      2.068403   \n2          3.839500  ...        9.776941           2.514728      0.530500   \n3          4.565457  ...        8.191348           4.953789      1.588413   \n4          4.600080  ...        5.697130           1.292394      1.370663   \n..              ...  ...             ...                ...           ...   \n151        4.348268  ...        7.463973           3.605572      2.263226   \n152        2.920415  ...        6.148645           4.861764      1.012678   \n153        4.036374  ...        4.545576           7.561058      2.832326   \n154        4.637519  ...        5.108254           1.430722      2.790248   \n155        0.267596  ...        6.004355           6.442490      0.871766   \n\n     FOSB_OID01118  CALR_OID01119  PGF_OID01493  Subject      Response  \\\n0         3.843168       1.278116      2.457126      ID1  Nonresponder   \n1         2.972200       4.908331      3.756646      ID1  Nonresponder   \n2         0.803449       5.720805      2.195161      ID1  Nonresponder   \n3         1.929322       6.883288      2.552394      ID2  Nonresponder   \n4         2.180779      13.823078      1.381204      ID2  Nonresponder   \n..             ...            ...           ...      ...           ...   \n151       3.107379      11.549792      4.065760     ID51  Nonresponder   \n152       2.734845       7.009428      3.234534     ID51  Nonresponder   \n153       6.894978       9.119377      1.562843     ID52     Responder   \n154       5.766232       6.157426      1.856033     ID52     Responder   \n155       4.424724       4.414578      3.291130     ID52     Responder   \n\n       Site      Time  \n0    Site_D  Baseline  \n1    Site_D    Week.6  \n2    Site_D   Week.12  \n3    Site_C  Baseline  \n4    Site_C    Week.6  \n..      ...       ...  \n151  Site_A    Week.6  \n152  Site_A   Week.12  \n153  Site_B  Baseline  \n154  Site_B    Week.6  \n155  Site_B   Week.12  \n\n[156 rows x 1109 columns]",
      "text/html": "<div>\n<style scoped>\n    .dataframe tbody tr th:only-of-type {\n        vertical-align: middle;\n    }\n\n    .dataframe tbody tr th {\n        vertical-align: top;\n    }\n\n    .dataframe thead th {\n        text-align: right;\n    }\n</style>\n<table border=\"1\" class=\"dataframe\">\n  <thead>\n    <tr style=\"text-align: right;\">\n      <th></th>\n      <th>SampleID</th>\n      <th>CHL1_OID01216</th>\n      <th>NRP1_OID01217</th>\n      <th>PLXNB2_OID01218</th>\n      <th>FCGR3B_OID01219</th>\n      <th>LILRB5_OID01220</th>\n      <th>APOM_OID01221</th>\n      <th>SOD1_OID01222</th>\n      <th>CA1_OID01223</th>\n      <th>TIMP1_OID01224</th>\n      <th>...</th>\n      <th>FABP9_OID01115</th>\n      <th>TMPRSS15_OID01116</th>\n      <th>LHB_OID01117</th>\n      <th>FOSB_OID01118</th>\n      <th>CALR_OID01119</th>\n      <th>PGF_OID01493</th>\n      <th>Subject</th>\n      <th>Response</th>\n      <th>Site</th>\n      <th>Time</th>\n    </tr>\n  </thead>\n  <tbody>\n    <tr>\n      <th>0</th>\n      <td>A1</td>\n      <td>12.956143</td>\n      <td>3.729709</td>\n      <td>2.086122</td>\n      <td>11.609629</td>\n      <td>0.724192</td>\n      <td>8.542624</td>\n      <td>9.452978</td>\n      <td>7.795929</td>\n      <td>3.116308</td>\n      <td>...</td>\n      <td>5.698748</td>\n      <td>1.640175</td>\n      <td>1.187713</td>\n      <td>3.843168</td>\n      <td>1.278116</td>\n      <td>2.457126</td>\n      <td>ID1</td>\n      <td>Nonresponder</td>\n      <td>Site_D</td>\n      <td>Baseline</td>\n    </tr>\n    <tr>\n      <th>1</th>\n      <td>A2</td>\n      <td>11.269477</td>\n      <td>6.144801</td>\n      <td>1.483985</td>\n      <td>17.582141</td>\n      <td>3.329488</td>\n      <td>10.395668</td>\n      <td>7.704559</td>\n      <td>6.388902</td>\n      <td>0.793348</td>\n      <td>...</td>\n      <td>5.751120</td>\n      <td>1.433037</td>\n      <td>2.068403</td>\n      <td>2.972200</td>\n      <td>4.908331</td>\n      <td>3.756646</td>\n      <td>ID1</td>\n      <td>Nonresponder</td>\n      <td>Site_D</td>\n      <td>Week.6</td>\n    </tr>\n    <tr>\n      <th>2</th>\n      <td>A3</td>\n      <td>25.451070</td>\n      <td>6.950510</td>\n      <td>1.228214</td>\n      <td>10.494904</td>\n      <td>4.392219</td>\n      <td>14.669500</td>\n      <td>11.206255</td>\n      <td>1.333532</td>\n      <td>3.839500</td>\n      <td>...</td>\n      <td>9.776941</td>\n      <td>2.514728</td>\n      <td>0.530500</td>\n      <td>0.803449</td>\n      <td>5.720805</td>\n      <td>2.195161</td>\n      <td>ID1</td>\n      <td>Nonresponder</td>\n      <td>Site_D</td>\n      <td>Week.12</td>\n    </tr>\n    <tr>\n      <th>3</th>\n      <td>A4</td>\n      <td>14.453038</td>\n      <td>3.725393</td>\n      <td>3.278853</td>\n      <td>14.969670</td>\n      <td>1.132330</td>\n      <td>16.194933</td>\n      <td>12.066842</td>\n      <td>-0.580701</td>\n      <td>4.565457</td>\n      <td>...</td>\n      <td>8.191348</td>\n      <td>4.953789</td>\n      <td>1.588413</td>\n      <td>1.929322</td>\n      <td>6.883288</td>\n      <td>2.552394</td>\n      <td>ID2</td>\n      <td>Nonresponder</td>\n      <td>Site_C</td>\n      <td>Baseline</td>\n    </tr>\n    <tr>\n      <th>4</th>\n      <td>A5</td>\n      <td>7.628712</td>\n      <td>7.198343</td>\n      <td>4.989030</td>\n      <td>13.087540</td>\n      <td>1.237068</td>\n      <td>15.074472</td>\n      <td>2.201737</td>\n      <td>2.005555</td>\n      <td>4.600080</td>\n      <td>...</td>\n      <td>5.697130</td>\n      <td>1.292394</td>\n      <td>1.370663</td>\n      <td>2.180779</td>\n      <td>13.823078</td>\n      <td>1.381204</td>\n      <td>ID2</td>\n      <td>Nonresponder</td>\n      <td>Site_C</td>\n      <td>Week.6</td>\n    </tr>\n    <tr>\n      <th>...</th>\n      <td>...</td>\n      <td>...</td>\n      <td>...</td>\n      <td>...</td>\n      <td>...</td>\n      <td>...</td>\n      <td>...</td>\n      <td>...</td>\n      <td>...</td>\n      <td>...</td>\n      <td>...</td>\n      <td>...</td>\n      <td>...</td>\n      <td>...</td>\n      <td>...</td>\n      <td>...</td>\n      <td>...</td>\n      <td>...</td>\n      <td>...</td>\n      <td>...</td>\n      <td>...</td>\n    </tr>\n    <tr>\n      <th>151</th>\n      <td>B75</td>\n      <td>13.024688</td>\n      <td>3.918886</td>\n      <td>3.163334</td>\n      <td>11.961131</td>\n      <td>1.396265</td>\n      <td>7.350203</td>\n      <td>19.334173</td>\n      <td>2.183027</td>\n      <td>4.348268</td>\n      <td>...</td>\n      <td>7.463973</td>\n      <td>3.605572</td>\n      <td>2.263226</td>\n      <td>3.107379</td>\n      <td>11.549792</td>\n      <td>4.065760</td>\n      <td>ID51</td>\n      <td>Nonresponder</td>\n      <td>Site_A</td>\n      <td>Week.6</td>\n    </tr>\n    <tr>\n      <th>152</th>\n      <td>B76</td>\n      <td>12.651836</td>\n      <td>9.767998</td>\n      <td>3.262239</td>\n      <td>14.746187</td>\n      <td>4.040677</td>\n      <td>13.739613</td>\n      <td>8.324083</td>\n      <td>-0.940497</td>\n      <td>2.920415</td>\n      <td>...</td>\n      <td>6.148645</td>\n      <td>4.861764</td>\n      <td>1.012678</td>\n      <td>2.734845</td>\n      <td>7.009428</td>\n      <td>3.234534</td>\n      <td>ID51</td>\n      <td>Nonresponder</td>\n      <td>Site_A</td>\n      <td>Week.12</td>\n    </tr>\n    <tr>\n      <th>153</th>\n      <td>B77</td>\n      <td>9.975178</td>\n      <td>8.553449</td>\n      <td>4.280947</td>\n      <td>9.935137</td>\n      <td>-1.353013</td>\n      <td>14.539348</td>\n      <td>18.308870</td>\n      <td>3.671944</td>\n      <td>4.036374</td>\n      <td>...</td>\n      <td>4.545576</td>\n      <td>7.561058</td>\n      <td>2.832326</td>\n      <td>6.894978</td>\n      <td>9.119377</td>\n      <td>1.562843</td>\n      <td>ID52</td>\n      <td>Responder</td>\n      <td>Site_B</td>\n      <td>Baseline</td>\n    </tr>\n    <tr>\n      <th>154</th>\n      <td>B78</td>\n      <td>12.819363</td>\n      <td>6.103985</td>\n      <td>3.618611</td>\n      <td>5.405530</td>\n      <td>1.842243</td>\n      <td>2.258826</td>\n      <td>13.683191</td>\n      <td>2.474751</td>\n      <td>4.637519</td>\n      <td>...</td>\n      <td>5.108254</td>\n      <td>1.430722</td>\n      <td>2.790248</td>\n      <td>5.766232</td>\n      <td>6.157426</td>\n      <td>1.856033</td>\n      <td>ID52</td>\n      <td>Responder</td>\n      <td>Site_B</td>\n      <td>Week.6</td>\n    </tr>\n    <tr>\n      <th>155</th>\n      <td>B79</td>\n      <td>10.502865</td>\n      <td>8.934641</td>\n      <td>3.103524</td>\n      <td>15.255418</td>\n      <td>2.725858</td>\n      <td>11.361016</td>\n      <td>14.116642</td>\n      <td>3.870924</td>\n      <td>0.267596</td>\n      <td>...</td>\n      <td>6.004355</td>\n      <td>6.442490</td>\n      <td>0.871766</td>\n      <td>4.424724</td>\n      <td>4.414578</td>\n      <td>3.291130</td>\n      <td>ID52</td>\n      <td>Responder</td>\n      <td>Site_B</td>\n      <td>Week.12</td>\n    </tr>\n  </tbody>\n</table>\n<p>156 rows × 1109 columns</p>\n</div>"
     },
     "metadata": {},
     "execution_count": 2
    }
   ],
   "source": [
    "df = pd.read_csv(\"ANOVA_merged.csv\")\n",
    "df"
   ]
  },
  {
   "cell_type": "code",
   "execution_count": 3,
   "metadata": {},
   "outputs": [],
   "source": [
    "# create Responder dataframe and set the index to the SampleID column\n",
    "df_response = df.loc[df[\"Response\"] == \"Responder\"]\n",
    "df_response = df_response.set_index(\"SampleID\")\n",
    "\n",
    "# create nonresponder dataframe and set the index to the SampleID column\n",
    "df_NR = df.loc[df[\"Response\"] == \"Nonresponder\"]\n",
    "df_NR = df_NR.set_index(\"SampleID\")\n",
    "\n",
    "# create Site dataframe and set the index to the SampleID column\n",
    "df_Site = df.loc[df[\"Time\"] == \"Baseline\"]\n",
    "df_Site = df_Site.set_index(\"SampleID\")"
   ]
  },
  {
   "cell_type": "code",
   "execution_count": 4,
   "metadata": {},
   "outputs": [
    {
     "output_type": "execute_result",
     "data": {
      "text/plain": "          CHL1_OID01216  NRP1_OID01217  PLXNB2_OID01218  FCGR3B_OID01219  \\\nSampleID                                                                   \nA16           11.431302      10.207661         3.311984        10.313994   \nA17            9.745531       3.234661         3.780135         4.826243   \nA18           10.631295       8.808551         3.740067        20.919796   \nA22           14.413956       4.499181         2.157865        11.475391   \nA23           16.710825       6.563803         1.885564        11.241045   \n...                 ...            ...              ...              ...   \nB72            5.882346      11.388225        -0.599872         1.775421   \nB73            7.506983       9.413361        -0.036989         9.881755   \nB77            9.975178       8.553449         4.280947         9.935137   \nB78           12.819363       6.103985         3.618611         5.405530   \nB79           10.502865       8.934641         3.103524        15.255418   \n\n          LILRB5_OID01220  APOM_OID01221  SOD1_OID01222  CA1_OID01223  \\\nSampleID                                                                \nA16              3.526815      13.334769      10.661415      3.454648   \nA17              1.886590      15.829464       7.641103      6.842145   \nA18              0.853839       5.589258      10.256434      6.054641   \nA22              5.275544       8.329090       9.415025      4.355936   \nA23              4.885964       6.201427       8.990009      6.098669   \n...                   ...            ...            ...           ...   \nB72              7.611801      13.148213       9.304414      2.110362   \nB73              6.484933       8.105241      14.910704      1.080454   \nB77             -1.353013      14.539348      18.308870      3.671944   \nB78              1.842243       2.258826      13.683191      2.474751   \nB79              2.725858      11.361016      14.116642      3.870924   \n\n          TIMP1_OID01224  CST3_OID01225  ...  FABP9_OID01115  \\\nSampleID                                 ...                   \nA16             4.788196       9.268302  ...        6.619953   \nA17             6.775038      10.627710  ...        9.504588   \nA18             5.189150      14.001674  ...        5.092211   \nA22             1.821448       3.862319  ...        8.651560   \nA23             3.703675       7.623529  ...        6.781035   \n...                  ...            ...  ...             ...   \nB72             5.602710       7.587523  ...        6.131907   \nB73             4.795368      11.803293  ...        7.285554   \nB77             4.036374       7.545368  ...        4.545576   \nB78             4.637519      10.233056  ...        5.108254   \nB79             0.267596      14.545103  ...        6.004355   \n\n          TMPRSS15_OID01116  LHB_OID01117  FOSB_OID01118  CALR_OID01119  \\\nSampleID                                                                  \nA16                4.255823      1.365903       4.198838       9.932363   \nA17                6.542672      2.296388       3.239329      13.900062   \nA18                2.592408      1.717529       3.352125       8.710175   \nA22                4.555464      2.556959       4.786705       7.431784   \nA23               -0.302136      1.883831       1.855008       8.347734   \n...                     ...           ...            ...            ...   \nB72                2.705612      1.936448       1.012736       9.192695   \nB73                3.784381      2.111411       2.968140       8.659603   \nB77                7.561058      2.832326       6.894978       9.119377   \nB78                1.430722      2.790248       5.766232       6.157426   \nB79                6.442490      0.871766       4.424724       4.414578   \n\n          PGF_OID01493  Subject   Response    Site      Time  \nSampleID                                                      \nA16           1.203303      ID6  Responder  Site_D  Baseline  \nA17           2.391151      ID6  Responder  Site_D    Week.6  \nA18           2.696352      ID6  Responder  Site_D   Week.12  \nA22           4.816519      ID8  Responder  Site_D  Baseline  \nA23           4.862274      ID8  Responder  Site_D    Week.6  \n...                ...      ...        ...     ...       ...  \nB72           3.511939     ID50  Responder  Site_B    Week.6  \nB73           5.063345     ID50  Responder  Site_B   Week.12  \nB77           1.562843     ID52  Responder  Site_B  Baseline  \nB78           1.856033     ID52  Responder  Site_B    Week.6  \nB79           3.291130     ID52  Responder  Site_B   Week.12  \n\n[69 rows x 1108 columns]",
      "text/html": "<div>\n<style scoped>\n    .dataframe tbody tr th:only-of-type {\n        vertical-align: middle;\n    }\n\n    .dataframe tbody tr th {\n        vertical-align: top;\n    }\n\n    .dataframe thead th {\n        text-align: right;\n    }\n</style>\n<table border=\"1\" class=\"dataframe\">\n  <thead>\n    <tr style=\"text-align: right;\">\n      <th></th>\n      <th>CHL1_OID01216</th>\n      <th>NRP1_OID01217</th>\n      <th>PLXNB2_OID01218</th>\n      <th>FCGR3B_OID01219</th>\n      <th>LILRB5_OID01220</th>\n      <th>APOM_OID01221</th>\n      <th>SOD1_OID01222</th>\n      <th>CA1_OID01223</th>\n      <th>TIMP1_OID01224</th>\n      <th>CST3_OID01225</th>\n      <th>...</th>\n      <th>FABP9_OID01115</th>\n      <th>TMPRSS15_OID01116</th>\n      <th>LHB_OID01117</th>\n      <th>FOSB_OID01118</th>\n      <th>CALR_OID01119</th>\n      <th>PGF_OID01493</th>\n      <th>Subject</th>\n      <th>Response</th>\n      <th>Site</th>\n      <th>Time</th>\n    </tr>\n    <tr>\n      <th>SampleID</th>\n      <th></th>\n      <th></th>\n      <th></th>\n      <th></th>\n      <th></th>\n      <th></th>\n      <th></th>\n      <th></th>\n      <th></th>\n      <th></th>\n      <th></th>\n      <th></th>\n      <th></th>\n      <th></th>\n      <th></th>\n      <th></th>\n      <th></th>\n      <th></th>\n      <th></th>\n      <th></th>\n      <th></th>\n    </tr>\n  </thead>\n  <tbody>\n    <tr>\n      <th>A16</th>\n      <td>11.431302</td>\n      <td>10.207661</td>\n      <td>3.311984</td>\n      <td>10.313994</td>\n      <td>3.526815</td>\n      <td>13.334769</td>\n      <td>10.661415</td>\n      <td>3.454648</td>\n      <td>4.788196</td>\n      <td>9.268302</td>\n      <td>...</td>\n      <td>6.619953</td>\n      <td>4.255823</td>\n      <td>1.365903</td>\n      <td>4.198838</td>\n      <td>9.932363</td>\n      <td>1.203303</td>\n      <td>ID6</td>\n      <td>Responder</td>\n      <td>Site_D</td>\n      <td>Baseline</td>\n    </tr>\n    <tr>\n      <th>A17</th>\n      <td>9.745531</td>\n      <td>3.234661</td>\n      <td>3.780135</td>\n      <td>4.826243</td>\n      <td>1.886590</td>\n      <td>15.829464</td>\n      <td>7.641103</td>\n      <td>6.842145</td>\n      <td>6.775038</td>\n      <td>10.627710</td>\n      <td>...</td>\n      <td>9.504588</td>\n      <td>6.542672</td>\n      <td>2.296388</td>\n      <td>3.239329</td>\n      <td>13.900062</td>\n      <td>2.391151</td>\n      <td>ID6</td>\n      <td>Responder</td>\n      <td>Site_D</td>\n      <td>Week.6</td>\n    </tr>\n    <tr>\n      <th>A18</th>\n      <td>10.631295</td>\n      <td>8.808551</td>\n      <td>3.740067</td>\n      <td>20.919796</td>\n      <td>0.853839</td>\n      <td>5.589258</td>\n      <td>10.256434</td>\n      <td>6.054641</td>\n      <td>5.189150</td>\n      <td>14.001674</td>\n      <td>...</td>\n      <td>5.092211</td>\n      <td>2.592408</td>\n      <td>1.717529</td>\n      <td>3.352125</td>\n      <td>8.710175</td>\n      <td>2.696352</td>\n      <td>ID6</td>\n      <td>Responder</td>\n      <td>Site_D</td>\n      <td>Week.12</td>\n    </tr>\n    <tr>\n      <th>A22</th>\n      <td>14.413956</td>\n      <td>4.499181</td>\n      <td>2.157865</td>\n      <td>11.475391</td>\n      <td>5.275544</td>\n      <td>8.329090</td>\n      <td>9.415025</td>\n      <td>4.355936</td>\n      <td>1.821448</td>\n      <td>3.862319</td>\n      <td>...</td>\n      <td>8.651560</td>\n      <td>4.555464</td>\n      <td>2.556959</td>\n      <td>4.786705</td>\n      <td>7.431784</td>\n      <td>4.816519</td>\n      <td>ID8</td>\n      <td>Responder</td>\n      <td>Site_D</td>\n      <td>Baseline</td>\n    </tr>\n    <tr>\n      <th>A23</th>\n      <td>16.710825</td>\n      <td>6.563803</td>\n      <td>1.885564</td>\n      <td>11.241045</td>\n      <td>4.885964</td>\n      <td>6.201427</td>\n      <td>8.990009</td>\n      <td>6.098669</td>\n      <td>3.703675</td>\n      <td>7.623529</td>\n      <td>...</td>\n      <td>6.781035</td>\n      <td>-0.302136</td>\n      <td>1.883831</td>\n      <td>1.855008</td>\n      <td>8.347734</td>\n      <td>4.862274</td>\n      <td>ID8</td>\n      <td>Responder</td>\n      <td>Site_D</td>\n      <td>Week.6</td>\n    </tr>\n    <tr>\n      <th>...</th>\n      <td>...</td>\n      <td>...</td>\n      <td>...</td>\n      <td>...</td>\n      <td>...</td>\n      <td>...</td>\n      <td>...</td>\n      <td>...</td>\n      <td>...</td>\n      <td>...</td>\n      <td>...</td>\n      <td>...</td>\n      <td>...</td>\n      <td>...</td>\n      <td>...</td>\n      <td>...</td>\n      <td>...</td>\n      <td>...</td>\n      <td>...</td>\n      <td>...</td>\n      <td>...</td>\n    </tr>\n    <tr>\n      <th>B72</th>\n      <td>5.882346</td>\n      <td>11.388225</td>\n      <td>-0.599872</td>\n      <td>1.775421</td>\n      <td>7.611801</td>\n      <td>13.148213</td>\n      <td>9.304414</td>\n      <td>2.110362</td>\n      <td>5.602710</td>\n      <td>7.587523</td>\n      <td>...</td>\n      <td>6.131907</td>\n      <td>2.705612</td>\n      <td>1.936448</td>\n      <td>1.012736</td>\n      <td>9.192695</td>\n      <td>3.511939</td>\n      <td>ID50</td>\n      <td>Responder</td>\n      <td>Site_B</td>\n      <td>Week.6</td>\n    </tr>\n    <tr>\n      <th>B73</th>\n      <td>7.506983</td>\n      <td>9.413361</td>\n      <td>-0.036989</td>\n      <td>9.881755</td>\n      <td>6.484933</td>\n      <td>8.105241</td>\n      <td>14.910704</td>\n      <td>1.080454</td>\n      <td>4.795368</td>\n      <td>11.803293</td>\n      <td>...</td>\n      <td>7.285554</td>\n      <td>3.784381</td>\n      <td>2.111411</td>\n      <td>2.968140</td>\n      <td>8.659603</td>\n      <td>5.063345</td>\n      <td>ID50</td>\n      <td>Responder</td>\n      <td>Site_B</td>\n      <td>Week.12</td>\n    </tr>\n    <tr>\n      <th>B77</th>\n      <td>9.975178</td>\n      <td>8.553449</td>\n      <td>4.280947</td>\n      <td>9.935137</td>\n      <td>-1.353013</td>\n      <td>14.539348</td>\n      <td>18.308870</td>\n      <td>3.671944</td>\n      <td>4.036374</td>\n      <td>7.545368</td>\n      <td>...</td>\n      <td>4.545576</td>\n      <td>7.561058</td>\n      <td>2.832326</td>\n      <td>6.894978</td>\n      <td>9.119377</td>\n      <td>1.562843</td>\n      <td>ID52</td>\n      <td>Responder</td>\n      <td>Site_B</td>\n      <td>Baseline</td>\n    </tr>\n    <tr>\n      <th>B78</th>\n      <td>12.819363</td>\n      <td>6.103985</td>\n      <td>3.618611</td>\n      <td>5.405530</td>\n      <td>1.842243</td>\n      <td>2.258826</td>\n      <td>13.683191</td>\n      <td>2.474751</td>\n      <td>4.637519</td>\n      <td>10.233056</td>\n      <td>...</td>\n      <td>5.108254</td>\n      <td>1.430722</td>\n      <td>2.790248</td>\n      <td>5.766232</td>\n      <td>6.157426</td>\n      <td>1.856033</td>\n      <td>ID52</td>\n      <td>Responder</td>\n      <td>Site_B</td>\n      <td>Week.6</td>\n    </tr>\n    <tr>\n      <th>B79</th>\n      <td>10.502865</td>\n      <td>8.934641</td>\n      <td>3.103524</td>\n      <td>15.255418</td>\n      <td>2.725858</td>\n      <td>11.361016</td>\n      <td>14.116642</td>\n      <td>3.870924</td>\n      <td>0.267596</td>\n      <td>14.545103</td>\n      <td>...</td>\n      <td>6.004355</td>\n      <td>6.442490</td>\n      <td>0.871766</td>\n      <td>4.424724</td>\n      <td>4.414578</td>\n      <td>3.291130</td>\n      <td>ID52</td>\n      <td>Responder</td>\n      <td>Site_B</td>\n      <td>Week.12</td>\n    </tr>\n  </tbody>\n</table>\n<p>69 rows × 1108 columns</p>\n</div>"
     },
     "metadata": {},
     "execution_count": 4
    }
   ],
   "source": [
    "df_response"
   ]
  },
  {
   "cell_type": "code",
   "execution_count": 5,
   "metadata": {},
   "outputs": [],
   "source": [
    "# create list of all ProteinIDs to use in ANOVA 'value_vars' for stacked dataframe format\n",
    "protName_df = df_response.drop([\"Subject\", \"Response\", \"Site\", \"Time\"], axis=1)\n",
    "protein_list = protName_df.columns.tolist()\n",
    "#protein_list"
   ]
  },
  {
   "cell_type": "code",
   "execution_count": 6,
   "metadata": {},
   "outputs": [
    {
     "output_type": "execute_result",
     "data": {
      "text/plain": "           Time        Protein        NPX\n0      Baseline  CHL1_OID01216  11.431302\n1        Week.6  CHL1_OID01216   9.745531\n2       Week.12  CHL1_OID01216  10.631295\n3      Baseline  CHL1_OID01216  14.413956\n4        Week.6  CHL1_OID01216  16.710825\n...         ...            ...        ...\n76171    Week.6   PGF_OID01493   3.511939\n76172   Week.12   PGF_OID01493   5.063345\n76173  Baseline   PGF_OID01493   1.562843\n76174    Week.6   PGF_OID01493   1.856033\n76175   Week.12   PGF_OID01493   3.291130\n\n[76176 rows x 3 columns]",
      "text/html": "<div>\n<style scoped>\n    .dataframe tbody tr th:only-of-type {\n        vertical-align: middle;\n    }\n\n    .dataframe tbody tr th {\n        vertical-align: top;\n    }\n\n    .dataframe thead th {\n        text-align: right;\n    }\n</style>\n<table border=\"1\" class=\"dataframe\">\n  <thead>\n    <tr style=\"text-align: right;\">\n      <th></th>\n      <th>Time</th>\n      <th>Protein</th>\n      <th>NPX</th>\n    </tr>\n  </thead>\n  <tbody>\n    <tr>\n      <th>0</th>\n      <td>Baseline</td>\n      <td>CHL1_OID01216</td>\n      <td>11.431302</td>\n    </tr>\n    <tr>\n      <th>1</th>\n      <td>Week.6</td>\n      <td>CHL1_OID01216</td>\n      <td>9.745531</td>\n    </tr>\n    <tr>\n      <th>2</th>\n      <td>Week.12</td>\n      <td>CHL1_OID01216</td>\n      <td>10.631295</td>\n    </tr>\n    <tr>\n      <th>3</th>\n      <td>Baseline</td>\n      <td>CHL1_OID01216</td>\n      <td>14.413956</td>\n    </tr>\n    <tr>\n      <th>4</th>\n      <td>Week.6</td>\n      <td>CHL1_OID01216</td>\n      <td>16.710825</td>\n    </tr>\n    <tr>\n      <th>...</th>\n      <td>...</td>\n      <td>...</td>\n      <td>...</td>\n    </tr>\n    <tr>\n      <th>76171</th>\n      <td>Week.6</td>\n      <td>PGF_OID01493</td>\n      <td>3.511939</td>\n    </tr>\n    <tr>\n      <th>76172</th>\n      <td>Week.12</td>\n      <td>PGF_OID01493</td>\n      <td>5.063345</td>\n    </tr>\n    <tr>\n      <th>76173</th>\n      <td>Baseline</td>\n      <td>PGF_OID01493</td>\n      <td>1.562843</td>\n    </tr>\n    <tr>\n      <th>76174</th>\n      <td>Week.6</td>\n      <td>PGF_OID01493</td>\n      <td>1.856033</td>\n    </tr>\n    <tr>\n      <th>76175</th>\n      <td>Week.12</td>\n      <td>PGF_OID01493</td>\n      <td>3.291130</td>\n    </tr>\n  </tbody>\n</table>\n<p>76176 rows × 3 columns</p>\n</div>"
     },
     "metadata": {},
     "execution_count": 6
    }
   ],
   "source": [
    "# reshape the df_response dataframe suitable (stacked format) for statsmodels package \n",
    "Responder_melt = pd.melt(df_response, id_vars=['Time'], value_vars=protein_list)\n",
    "# replace column names\n",
    "Responder_melt.columns = ['Time', 'Protein', 'NPX']\n",
    "Responder_melt.dropna(inplace=True)\n",
    "Responder_melt['NPX'] = Responder_melt['NPX'].apply(pd.to_numeric)\n",
    "Responder_melt"
   ]
  },
  {
   "cell_type": "code",
   "execution_count": 7,
   "metadata": {},
   "outputs": [
    {
     "output_type": "execute_result",
     "data": {
      "text/plain": "Time        object\nProtein     object\nNPX        float64\ndtype: object"
     },
     "metadata": {},
     "execution_count": 7
    }
   ],
   "source": [
    "# reshape the df_NR dataframe suitable (stacked format) for statsmodels package \n",
    "NR_melt = pd.melt(df_NR, id_vars=['Time'], value_vars=protein_list)\n",
    "# replace column names\n",
    "NR_melt.columns = ['Time', 'Protein', 'NPX']\n",
    "NR_melt.dropna(inplace=True)\n",
    "NR_melt['NPX'] = NR_melt['NPX'].apply(pd.to_numeric)\n",
    "NR_melt.dtypes"
   ]
  },
  {
   "cell_type": "code",
   "execution_count": 8,
   "metadata": {},
   "outputs": [
    {
     "output_type": "execute_result",
     "data": {
      "text/plain": "Site        object\nProtein     object\nNPX        float64\ndtype: object"
     },
     "metadata": {},
     "execution_count": 8
    }
   ],
   "source": [
    "# reshape the df_Site dataframe suitable (stacked format) for statsmodels package \n",
    "Site_melt = pd.melt(df_Site, id_vars=['Site'], value_vars=protein_list)\n",
    "# replace column names\n",
    "Site_melt.columns = ['Site', 'Protein', 'NPX']\n",
    "Site_melt.dropna(inplace=True)\n",
    "Site_melt['NPX'] = Site_melt['NPX'].apply(pd.to_numeric)\n",
    "Site_melt.dtypes"
   ]
  },
  {
   "cell_type": "code",
   "execution_count": 9,
   "metadata": {},
   "outputs": [
    {
     "output_type": "execute_result",
     "data": {
      "text/plain": "         Site        Protein        NPX\n0      Site_D  CHL1_OID01216  12.956143\n1      Site_C  CHL1_OID01216  14.453038\n2      Site_D  CHL1_OID01216  12.730612\n3      Site_B  CHL1_OID01216  12.258445\n4      Site_B  CHL1_OID01216   7.748904\n...       ...            ...        ...\n57403  Site_C   PGF_OID01493   4.889052\n57404  Site_E   PGF_OID01493   1.766627\n57405  Site_B   PGF_OID01493   4.048524\n57406  Site_A   PGF_OID01493   4.027856\n57407  Site_B   PGF_OID01493   1.562843\n\n[57408 rows x 3 columns]",
      "text/html": "<div>\n<style scoped>\n    .dataframe tbody tr th:only-of-type {\n        vertical-align: middle;\n    }\n\n    .dataframe tbody tr th {\n        vertical-align: top;\n    }\n\n    .dataframe thead th {\n        text-align: right;\n    }\n</style>\n<table border=\"1\" class=\"dataframe\">\n  <thead>\n    <tr style=\"text-align: right;\">\n      <th></th>\n      <th>Site</th>\n      <th>Protein</th>\n      <th>NPX</th>\n    </tr>\n  </thead>\n  <tbody>\n    <tr>\n      <th>0</th>\n      <td>Site_D</td>\n      <td>CHL1_OID01216</td>\n      <td>12.956143</td>\n    </tr>\n    <tr>\n      <th>1</th>\n      <td>Site_C</td>\n      <td>CHL1_OID01216</td>\n      <td>14.453038</td>\n    </tr>\n    <tr>\n      <th>2</th>\n      <td>Site_D</td>\n      <td>CHL1_OID01216</td>\n      <td>12.730612</td>\n    </tr>\n    <tr>\n      <th>3</th>\n      <td>Site_B</td>\n      <td>CHL1_OID01216</td>\n      <td>12.258445</td>\n    </tr>\n    <tr>\n      <th>4</th>\n      <td>Site_B</td>\n      <td>CHL1_OID01216</td>\n      <td>7.748904</td>\n    </tr>\n    <tr>\n      <th>...</th>\n      <td>...</td>\n      <td>...</td>\n      <td>...</td>\n    </tr>\n    <tr>\n      <th>57403</th>\n      <td>Site_C</td>\n      <td>PGF_OID01493</td>\n      <td>4.889052</td>\n    </tr>\n    <tr>\n      <th>57404</th>\n      <td>Site_E</td>\n      <td>PGF_OID01493</td>\n      <td>1.766627</td>\n    </tr>\n    <tr>\n      <th>57405</th>\n      <td>Site_B</td>\n      <td>PGF_OID01493</td>\n      <td>4.048524</td>\n    </tr>\n    <tr>\n      <th>57406</th>\n      <td>Site_A</td>\n      <td>PGF_OID01493</td>\n      <td>4.027856</td>\n    </tr>\n    <tr>\n      <th>57407</th>\n      <td>Site_B</td>\n      <td>PGF_OID01493</td>\n      <td>1.562843</td>\n    </tr>\n  </tbody>\n</table>\n<p>57408 rows × 3 columns</p>\n</div>"
     },
     "metadata": {},
     "execution_count": 9
    }
   ],
   "source": [
    "Site_melt"
   ]
  },
  {
   "cell_type": "code",
   "execution_count": 10,
   "metadata": {},
   "outputs": [
    {
     "output_type": "execute_result",
     "data": {
      "text/plain": "         Site         Protein        NPX\n56212  Site_D  PDCD1_OID01098   4.852205\n56213  Site_C  PDCD1_OID01098   8.904216\n56214  Site_D  PDCD1_OID01098   9.424724\n56215  Site_B  PDCD1_OID01098  16.094459\n56216  Site_B  PDCD1_OID01098  13.830650\n56217  Site_D  PDCD1_OID01098   3.497658\n56218  Site_D  PDCD1_OID01098   8.040242\n56219  Site_D  PDCD1_OID01098  12.531948\n56220  Site_E  PDCD1_OID01098  11.356532\n56221  Site_E  PDCD1_OID01098  15.394883\n56222  Site_C  PDCD1_OID01098  12.103147\n56223  Site_D  PDCD1_OID01098   7.924174\n56224  Site_D  PDCD1_OID01098   1.122909\n56225  Site_B  PDCD1_OID01098   9.669040\n56226  Site_C  PDCD1_OID01098   1.540484\n56227  Site_E  PDCD1_OID01098  22.699625\n56228  Site_E  PDCD1_OID01098  16.749231\n56229  Site_C  PDCD1_OID01098   6.578106\n56230  Site_D  PDCD1_OID01098   1.541710\n56231  Site_B  PDCD1_OID01098  12.738942\n56232  Site_E  PDCD1_OID01098  17.394174\n56233  Site_C  PDCD1_OID01098  14.904877\n56234  Site_B  PDCD1_OID01098   7.969711\n56235  Site_C  PDCD1_OID01098  10.924382\n56236  Site_D  PDCD1_OID01098  16.689480\n56237  Site_E  PDCD1_OID01098  10.443568\n56238  Site_A  PDCD1_OID01098  13.831325\n56239  Site_E  PDCD1_OID01098  14.935459\n56240  Site_A  PDCD1_OID01098   2.845474\n56241  Site_D  PDCD1_OID01098   4.594085\n56242  Site_A  PDCD1_OID01098   5.857540\n56243  Site_B  PDCD1_OID01098  16.478920\n56244  Site_C  PDCD1_OID01098  14.925914\n56245  Site_A  PDCD1_OID01098   8.195657\n56246  Site_A  PDCD1_OID01098  15.245798\n56247  Site_C  PDCD1_OID01098  14.447179\n56248  Site_E  PDCD1_OID01098  11.736660\n56249  Site_B  PDCD1_OID01098  11.437653\n56250  Site_C  PDCD1_OID01098  13.132839\n56251  Site_C  PDCD1_OID01098  10.862997\n56252  Site_A  PDCD1_OID01098   3.872618\n56253  Site_B  PDCD1_OID01098  12.403150\n56254  Site_A  PDCD1_OID01098  -0.240877\n56255  Site_E  PDCD1_OID01098  12.673502\n56256  Site_E  PDCD1_OID01098   5.858855\n56257  Site_E  PDCD1_OID01098  18.712255\n56258  Site_B  PDCD1_OID01098  15.570065\n56259  Site_C  PDCD1_OID01098  20.283095\n56260  Site_E  PDCD1_OID01098  10.790882\n56261  Site_B  PDCD1_OID01098  19.603116\n56262  Site_A  PDCD1_OID01098   6.914218\n56263  Site_B  PDCD1_OID01098  14.817417",
      "text/html": "<div>\n<style scoped>\n    .dataframe tbody tr th:only-of-type {\n        vertical-align: middle;\n    }\n\n    .dataframe tbody tr th {\n        vertical-align: top;\n    }\n\n    .dataframe thead th {\n        text-align: right;\n    }\n</style>\n<table border=\"1\" class=\"dataframe\">\n  <thead>\n    <tr style=\"text-align: right;\">\n      <th></th>\n      <th>Site</th>\n      <th>Protein</th>\n      <th>NPX</th>\n    </tr>\n  </thead>\n  <tbody>\n    <tr>\n      <th>56212</th>\n      <td>Site_D</td>\n      <td>PDCD1_OID01098</td>\n      <td>4.852205</td>\n    </tr>\n    <tr>\n      <th>56213</th>\n      <td>Site_C</td>\n      <td>PDCD1_OID01098</td>\n      <td>8.904216</td>\n    </tr>\n    <tr>\n      <th>56214</th>\n      <td>Site_D</td>\n      <td>PDCD1_OID01098</td>\n      <td>9.424724</td>\n    </tr>\n    <tr>\n      <th>56215</th>\n      <td>Site_B</td>\n      <td>PDCD1_OID01098</td>\n      <td>16.094459</td>\n    </tr>\n    <tr>\n      <th>56216</th>\n      <td>Site_B</td>\n      <td>PDCD1_OID01098</td>\n      <td>13.830650</td>\n    </tr>\n    <tr>\n      <th>56217</th>\n      <td>Site_D</td>\n      <td>PDCD1_OID01098</td>\n      <td>3.497658</td>\n    </tr>\n    <tr>\n      <th>56218</th>\n      <td>Site_D</td>\n      <td>PDCD1_OID01098</td>\n      <td>8.040242</td>\n    </tr>\n    <tr>\n      <th>56219</th>\n      <td>Site_D</td>\n      <td>PDCD1_OID01098</td>\n      <td>12.531948</td>\n    </tr>\n    <tr>\n      <th>56220</th>\n      <td>Site_E</td>\n      <td>PDCD1_OID01098</td>\n      <td>11.356532</td>\n    </tr>\n    <tr>\n      <th>56221</th>\n      <td>Site_E</td>\n      <td>PDCD1_OID01098</td>\n      <td>15.394883</td>\n    </tr>\n    <tr>\n      <th>56222</th>\n      <td>Site_C</td>\n      <td>PDCD1_OID01098</td>\n      <td>12.103147</td>\n    </tr>\n    <tr>\n      <th>56223</th>\n      <td>Site_D</td>\n      <td>PDCD1_OID01098</td>\n      <td>7.924174</td>\n    </tr>\n    <tr>\n      <th>56224</th>\n      <td>Site_D</td>\n      <td>PDCD1_OID01098</td>\n      <td>1.122909</td>\n    </tr>\n    <tr>\n      <th>56225</th>\n      <td>Site_B</td>\n      <td>PDCD1_OID01098</td>\n      <td>9.669040</td>\n    </tr>\n    <tr>\n      <th>56226</th>\n      <td>Site_C</td>\n      <td>PDCD1_OID01098</td>\n      <td>1.540484</td>\n    </tr>\n    <tr>\n      <th>56227</th>\n      <td>Site_E</td>\n      <td>PDCD1_OID01098</td>\n      <td>22.699625</td>\n    </tr>\n    <tr>\n      <th>56228</th>\n      <td>Site_E</td>\n      <td>PDCD1_OID01098</td>\n      <td>16.749231</td>\n    </tr>\n    <tr>\n      <th>56229</th>\n      <td>Site_C</td>\n      <td>PDCD1_OID01098</td>\n      <td>6.578106</td>\n    </tr>\n    <tr>\n      <th>56230</th>\n      <td>Site_D</td>\n      <td>PDCD1_OID01098</td>\n      <td>1.541710</td>\n    </tr>\n    <tr>\n      <th>56231</th>\n      <td>Site_B</td>\n      <td>PDCD1_OID01098</td>\n      <td>12.738942</td>\n    </tr>\n    <tr>\n      <th>56232</th>\n      <td>Site_E</td>\n      <td>PDCD1_OID01098</td>\n      <td>17.394174</td>\n    </tr>\n    <tr>\n      <th>56233</th>\n      <td>Site_C</td>\n      <td>PDCD1_OID01098</td>\n      <td>14.904877</td>\n    </tr>\n    <tr>\n      <th>56234</th>\n      <td>Site_B</td>\n      <td>PDCD1_OID01098</td>\n      <td>7.969711</td>\n    </tr>\n    <tr>\n      <th>56235</th>\n      <td>Site_C</td>\n      <td>PDCD1_OID01098</td>\n      <td>10.924382</td>\n    </tr>\n    <tr>\n      <th>56236</th>\n      <td>Site_D</td>\n      <td>PDCD1_OID01098</td>\n      <td>16.689480</td>\n    </tr>\n    <tr>\n      <th>56237</th>\n      <td>Site_E</td>\n      <td>PDCD1_OID01098</td>\n      <td>10.443568</td>\n    </tr>\n    <tr>\n      <th>56238</th>\n      <td>Site_A</td>\n      <td>PDCD1_OID01098</td>\n      <td>13.831325</td>\n    </tr>\n    <tr>\n      <th>56239</th>\n      <td>Site_E</td>\n      <td>PDCD1_OID01098</td>\n      <td>14.935459</td>\n    </tr>\n    <tr>\n      <th>56240</th>\n      <td>Site_A</td>\n      <td>PDCD1_OID01098</td>\n      <td>2.845474</td>\n    </tr>\n    <tr>\n      <th>56241</th>\n      <td>Site_D</td>\n      <td>PDCD1_OID01098</td>\n      <td>4.594085</td>\n    </tr>\n    <tr>\n      <th>56242</th>\n      <td>Site_A</td>\n      <td>PDCD1_OID01098</td>\n      <td>5.857540</td>\n    </tr>\n    <tr>\n      <th>56243</th>\n      <td>Site_B</td>\n      <td>PDCD1_OID01098</td>\n      <td>16.478920</td>\n    </tr>\n    <tr>\n      <th>56244</th>\n      <td>Site_C</td>\n      <td>PDCD1_OID01098</td>\n      <td>14.925914</td>\n    </tr>\n    <tr>\n      <th>56245</th>\n      <td>Site_A</td>\n      <td>PDCD1_OID01098</td>\n      <td>8.195657</td>\n    </tr>\n    <tr>\n      <th>56246</th>\n      <td>Site_A</td>\n      <td>PDCD1_OID01098</td>\n      <td>15.245798</td>\n    </tr>\n    <tr>\n      <th>56247</th>\n      <td>Site_C</td>\n      <td>PDCD1_OID01098</td>\n      <td>14.447179</td>\n    </tr>\n    <tr>\n      <th>56248</th>\n      <td>Site_E</td>\n      <td>PDCD1_OID01098</td>\n      <td>11.736660</td>\n    </tr>\n    <tr>\n      <th>56249</th>\n      <td>Site_B</td>\n      <td>PDCD1_OID01098</td>\n      <td>11.437653</td>\n    </tr>\n    <tr>\n      <th>56250</th>\n      <td>Site_C</td>\n      <td>PDCD1_OID01098</td>\n      <td>13.132839</td>\n    </tr>\n    <tr>\n      <th>56251</th>\n      <td>Site_C</td>\n      <td>PDCD1_OID01098</td>\n      <td>10.862997</td>\n    </tr>\n    <tr>\n      <th>56252</th>\n      <td>Site_A</td>\n      <td>PDCD1_OID01098</td>\n      <td>3.872618</td>\n    </tr>\n    <tr>\n      <th>56253</th>\n      <td>Site_B</td>\n      <td>PDCD1_OID01098</td>\n      <td>12.403150</td>\n    </tr>\n    <tr>\n      <th>56254</th>\n      <td>Site_A</td>\n      <td>PDCD1_OID01098</td>\n      <td>-0.240877</td>\n    </tr>\n    <tr>\n      <th>56255</th>\n      <td>Site_E</td>\n      <td>PDCD1_OID01098</td>\n      <td>12.673502</td>\n    </tr>\n    <tr>\n      <th>56256</th>\n      <td>Site_E</td>\n      <td>PDCD1_OID01098</td>\n      <td>5.858855</td>\n    </tr>\n    <tr>\n      <th>56257</th>\n      <td>Site_E</td>\n      <td>PDCD1_OID01098</td>\n      <td>18.712255</td>\n    </tr>\n    <tr>\n      <th>56258</th>\n      <td>Site_B</td>\n      <td>PDCD1_OID01098</td>\n      <td>15.570065</td>\n    </tr>\n    <tr>\n      <th>56259</th>\n      <td>Site_C</td>\n      <td>PDCD1_OID01098</td>\n      <td>20.283095</td>\n    </tr>\n    <tr>\n      <th>56260</th>\n      <td>Site_E</td>\n      <td>PDCD1_OID01098</td>\n      <td>10.790882</td>\n    </tr>\n    <tr>\n      <th>56261</th>\n      <td>Site_B</td>\n      <td>PDCD1_OID01098</td>\n      <td>19.603116</td>\n    </tr>\n    <tr>\n      <th>56262</th>\n      <td>Site_A</td>\n      <td>PDCD1_OID01098</td>\n      <td>6.914218</td>\n    </tr>\n    <tr>\n      <th>56263</th>\n      <td>Site_B</td>\n      <td>PDCD1_OID01098</td>\n      <td>14.817417</td>\n    </tr>\n  </tbody>\n</table>\n</div>"
     },
     "metadata": {},
     "execution_count": 10
    }
   ],
   "source": [
    "test_data = Site_melt.loc[Site_melt[\"Protein\"] == \"PDCD1_OID01098\"]\n",
    "test_data"
   ]
  },
  {
   "cell_type": "code",
   "execution_count": 11,
   "metadata": {},
   "outputs": [
    {
     "output_type": "execute_result",
     "data": {
      "text/plain": "Site        object\nProtein     object\nNPX        float64\ndtype: object"
     },
     "metadata": {},
     "execution_count": 11
    }
   ],
   "source": [
    "test_data.dtypes"
   ]
  },
  {
   "cell_type": "code",
   "execution_count": 12,
   "metadata": {},
   "outputs": [
    {
     "output_type": "execute_result",
     "data": {
      "text/plain": "<matplotlib.axes._subplots.AxesSubplot at 0x105ebc590>"
     },
     "metadata": {},
     "execution_count": 12
    },
    {
     "output_type": "display_data",
     "data": {
      "text/plain": "<Figure size 432x288 with 1 Axes>",
      "image/svg+xml": "<?xml version=\"1.0\" encoding=\"utf-8\" standalone=\"no\"?>\n<!DOCTYPE svg PUBLIC \"-//W3C//DTD SVG 1.1//EN\"\n  \"http://www.w3.org/Graphics/SVG/1.1/DTD/svg11.dtd\">\n<!-- Created with matplotlib (https://matplotlib.org/) -->\n<svg height=\"262.474375pt\" version=\"1.1\" viewBox=\"0 0 382.603125 262.474375\" width=\"382.603125pt\" xmlns=\"http://www.w3.org/2000/svg\" xmlns:xlink=\"http://www.w3.org/1999/xlink\">\n <defs>\n  <style type=\"text/css\">\n*{stroke-linecap:butt;stroke-linejoin:round;}\n  </style>\n </defs>\n <g id=\"figure_1\">\n  <g id=\"patch_1\">\n   <path d=\"M 0 262.474375 \nL 382.603125 262.474375 \nL 382.603125 0 \nL 0 0 \nz\n\" style=\"fill:none;\"/>\n  </g>\n  <g id=\"axes_1\">\n   <g id=\"patch_2\">\n    <path d=\"M 40.603125 224.64 \nL 375.403125 224.64 \nL 375.403125 7.2 \nL 40.603125 7.2 \nz\n\" style=\"fill:#ffffff;\"/>\n   </g>\n   <g id=\"patch_3\">\n    <path clip-path=\"url(#p6d1a73f1f5)\" d=\"M 47.406261 180.180402 \nL 57.905589 180.180402 \nL 57.905589 134.452666 \nL 47.406261 134.452666 \nL 47.406261 180.180402 \nz\n\" style=\"fill:#ddebba;stroke:#393939;stroke-linejoin:miter;stroke-width:1.5;\"/>\n   </g>\n   <g id=\"patch_4\">\n    <path clip-path=\"url(#p6d1a73f1f5)\" d=\"M 125.079861 127.516152 \nL 135.579189 127.516152 \nL 135.579189 86.221022 \nL 125.079861 86.221022 \nL 125.079861 127.516152 \nz\n\" style=\"fill:#9fceb8;stroke:#393939;stroke-linejoin:miter;stroke-width:1.5;\"/>\n   </g>\n   <g id=\"patch_5\">\n    <path clip-path=\"url(#p6d1a73f1f5)\" d=\"M 202.753461 109.965582 \nL 213.252789 109.965582 \nL 213.252789 76.258031 \nL 202.753461 76.258031 \nL 202.753461 109.965582 \nz\n\" style=\"fill:#51a9b3;stroke:#393939;stroke-linejoin:miter;stroke-width:1.5;\"/>\n   </g>\n   <g id=\"patch_6\">\n    <path clip-path=\"url(#p6d1a73f1f5)\" d=\"M 280.427061 116.042827 \nL 290.926389 116.042827 \nL 290.926389 66.967407 \nL 280.427061 66.967407 \nL 280.427061 116.042827 \nz\n\" style=\"fill:#327ba5;stroke:#393939;stroke-linejoin:miter;stroke-width:1.5;\"/>\n   </g>\n   <g id=\"patch_7\">\n    <path clip-path=\"url(#p6d1a73f1f5)\" d=\"M 358.100661 181.524042 \nL 368.599989 181.524042 \nL 368.599989 129.920507 \nL 358.100661 129.920507 \nL 358.100661 181.524042 \nz\n\" style=\"fill:#33498c;stroke:#393939;stroke-linejoin:miter;stroke-width:1.5;\"/>\n   </g>\n   <g id=\"patch_8\">\n    <path clip-path=\"url(#p6d1a73f1f5)\" d=\"M 74.083125 212.680784 \nL 74.083125 212.680784 \nL 74.083125 212.680784 \nL 74.083125 212.680784 \nz\n\" style=\"fill:#ddebba;stroke:#393939;stroke-linejoin:miter;stroke-width:0.75;\"/>\n   </g>\n   <g id=\"patch_9\">\n    <path clip-path=\"url(#p6d1a73f1f5)\" d=\"M 74.083125 212.680784 \nL 74.083125 212.680784 \nL 74.083125 212.680784 \nL 74.083125 212.680784 \nz\n\" style=\"fill:#9fceb8;stroke:#393939;stroke-linejoin:miter;stroke-width:0.75;\"/>\n   </g>\n   <g id=\"patch_10\">\n    <path clip-path=\"url(#p6d1a73f1f5)\" d=\"M 74.083125 212.680784 \nL 74.083125 212.680784 \nL 74.083125 212.680784 \nL 74.083125 212.680784 \nz\n\" style=\"fill:#51a9b3;stroke:#393939;stroke-linejoin:miter;stroke-width:0.75;\"/>\n   </g>\n   <g id=\"patch_11\">\n    <path clip-path=\"url(#p6d1a73f1f5)\" d=\"M 74.083125 212.680784 \nL 74.083125 212.680784 \nL 74.083125 212.680784 \nL 74.083125 212.680784 \nz\n\" style=\"fill:#327ba5;stroke:#393939;stroke-linejoin:miter;stroke-width:0.75;\"/>\n   </g>\n   <g id=\"patch_12\">\n    <path clip-path=\"url(#p6d1a73f1f5)\" d=\"M 74.083125 212.680784 \nL 74.083125 212.680784 \nL 74.083125 212.680784 \nL 74.083125 212.680784 \nz\n\" style=\"fill:#33498c;stroke:#393939;stroke-linejoin:miter;stroke-width:0.75;\"/>\n   </g>\n   <g id=\"matplotlib.axis_1\">\n    <g id=\"xtick_1\">\n     <g id=\"line2d_1\">\n      <defs>\n       <path d=\"M 0 0 \nL 0 3.5 \n\" id=\"m666c838499\" style=\"stroke:#000000;stroke-width:0.8;\"/>\n      </defs>\n      <g>\n       <use style=\"stroke:#000000;stroke-width:0.8;\" x=\"74.083125\" xlink:href=\"#m666c838499\" y=\"224.64\"/>\n      </g>\n     </g>\n     <g id=\"text_1\">\n      <!-- Site_D -->\n      <defs>\n       <path d=\"M 53.515625 70.515625 \nL 53.515625 60.890625 \nQ 47.90625 63.578125 42.921875 64.890625 \nQ 37.9375 66.21875 33.296875 66.21875 \nQ 25.25 66.21875 20.875 63.09375 \nQ 16.5 59.96875 16.5 54.203125 \nQ 16.5 49.359375 19.40625 46.890625 \nQ 22.3125 44.4375 30.421875 42.921875 \nL 36.375 41.703125 \nQ 47.40625 39.59375 52.65625 34.296875 \nQ 57.90625 29 57.90625 20.125 \nQ 57.90625 9.515625 50.796875 4.046875 \nQ 43.703125 -1.421875 29.984375 -1.421875 \nQ 24.8125 -1.421875 18.96875 -0.25 \nQ 13.140625 0.921875 6.890625 3.21875 \nL 6.890625 13.375 \nQ 12.890625 10.015625 18.65625 8.296875 \nQ 24.421875 6.59375 29.984375 6.59375 \nQ 38.421875 6.59375 43.015625 9.90625 \nQ 47.609375 13.234375 47.609375 19.390625 \nQ 47.609375 24.75 44.3125 27.78125 \nQ 41.015625 30.8125 33.5 32.328125 \nL 27.484375 33.5 \nQ 16.453125 35.6875 11.515625 40.375 \nQ 6.59375 45.0625 6.59375 53.421875 \nQ 6.59375 63.09375 13.40625 68.65625 \nQ 20.21875 74.21875 32.171875 74.21875 \nQ 37.3125 74.21875 42.625 73.28125 \nQ 47.953125 72.359375 53.515625 70.515625 \nz\n\" id=\"DejaVuSans-83\"/>\n       <path d=\"M 9.421875 54.6875 \nL 18.40625 54.6875 \nL 18.40625 0 \nL 9.421875 0 \nz\nM 9.421875 75.984375 \nL 18.40625 75.984375 \nL 18.40625 64.59375 \nL 9.421875 64.59375 \nz\n\" id=\"DejaVuSans-105\"/>\n       <path d=\"M 18.3125 70.21875 \nL 18.3125 54.6875 \nL 36.8125 54.6875 \nL 36.8125 47.703125 \nL 18.3125 47.703125 \nL 18.3125 18.015625 \nQ 18.3125 11.328125 20.140625 9.421875 \nQ 21.96875 7.515625 27.59375 7.515625 \nL 36.8125 7.515625 \nL 36.8125 0 \nL 27.59375 0 \nQ 17.1875 0 13.234375 3.875 \nQ 9.28125 7.765625 9.28125 18.015625 \nL 9.28125 47.703125 \nL 2.6875 47.703125 \nL 2.6875 54.6875 \nL 9.28125 54.6875 \nL 9.28125 70.21875 \nz\n\" id=\"DejaVuSans-116\"/>\n       <path d=\"M 56.203125 29.59375 \nL 56.203125 25.203125 \nL 14.890625 25.203125 \nQ 15.484375 15.921875 20.484375 11.0625 \nQ 25.484375 6.203125 34.421875 6.203125 \nQ 39.59375 6.203125 44.453125 7.46875 \nQ 49.3125 8.734375 54.109375 11.28125 \nL 54.109375 2.78125 \nQ 49.265625 0.734375 44.1875 -0.34375 \nQ 39.109375 -1.421875 33.890625 -1.421875 \nQ 20.796875 -1.421875 13.15625 6.1875 \nQ 5.515625 13.8125 5.515625 26.8125 \nQ 5.515625 40.234375 12.765625 48.109375 \nQ 20.015625 56 32.328125 56 \nQ 43.359375 56 49.78125 48.890625 \nQ 56.203125 41.796875 56.203125 29.59375 \nz\nM 47.21875 32.234375 \nQ 47.125 39.59375 43.09375 43.984375 \nQ 39.0625 48.390625 32.421875 48.390625 \nQ 24.90625 48.390625 20.390625 44.140625 \nQ 15.875 39.890625 15.1875 32.171875 \nz\n\" id=\"DejaVuSans-101\"/>\n       <path d=\"M 50.984375 -16.609375 \nL 50.984375 -23.578125 \nL -0.984375 -23.578125 \nL -0.984375 -16.609375 \nz\n\" id=\"DejaVuSans-95\"/>\n       <path d=\"M 19.671875 64.796875 \nL 19.671875 8.109375 \nL 31.59375 8.109375 \nQ 46.6875 8.109375 53.6875 14.9375 \nQ 60.6875 21.78125 60.6875 36.53125 \nQ 60.6875 51.171875 53.6875 57.984375 \nQ 46.6875 64.796875 31.59375 64.796875 \nz\nM 9.8125 72.90625 \nL 30.078125 72.90625 \nQ 51.265625 72.90625 61.171875 64.09375 \nQ 71.09375 55.28125 71.09375 36.53125 \nQ 71.09375 17.671875 61.125 8.828125 \nQ 51.171875 0 30.078125 0 \nL 9.8125 0 \nz\n\" id=\"DejaVuSans-68\"/>\n      </defs>\n      <g transform=\"translate(58.133125 239.238438)scale(0.1 -0.1)\">\n       <use xlink:href=\"#DejaVuSans-83\"/>\n       <use x=\"63.476562\" xlink:href=\"#DejaVuSans-105\"/>\n       <use x=\"91.259766\" xlink:href=\"#DejaVuSans-116\"/>\n       <use x=\"130.46875\" xlink:href=\"#DejaVuSans-101\"/>\n       <use x=\"191.992188\" xlink:href=\"#DejaVuSans-95\"/>\n       <use x=\"241.992188\" xlink:href=\"#DejaVuSans-68\"/>\n      </g>\n     </g>\n    </g>\n    <g id=\"xtick_2\">\n     <g id=\"line2d_2\">\n      <g>\n       <use style=\"stroke:#000000;stroke-width:0.8;\" x=\"141.043125\" xlink:href=\"#m666c838499\" y=\"224.64\"/>\n      </g>\n     </g>\n     <g id=\"text_2\">\n      <!-- Site_C -->\n      <defs>\n       <path d=\"M 64.40625 67.28125 \nL 64.40625 56.890625 \nQ 59.421875 61.53125 53.78125 63.8125 \nQ 48.140625 66.109375 41.796875 66.109375 \nQ 29.296875 66.109375 22.65625 58.46875 \nQ 16.015625 50.828125 16.015625 36.375 \nQ 16.015625 21.96875 22.65625 14.328125 \nQ 29.296875 6.6875 41.796875 6.6875 \nQ 48.140625 6.6875 53.78125 8.984375 \nQ 59.421875 11.28125 64.40625 15.921875 \nL 64.40625 5.609375 \nQ 59.234375 2.09375 53.4375 0.328125 \nQ 47.65625 -1.421875 41.21875 -1.421875 \nQ 24.65625 -1.421875 15.125 8.703125 \nQ 5.609375 18.84375 5.609375 36.375 \nQ 5.609375 53.953125 15.125 64.078125 \nQ 24.65625 74.21875 41.21875 74.21875 \nQ 47.75 74.21875 53.53125 72.484375 \nQ 59.328125 70.75 64.40625 67.28125 \nz\n\" id=\"DejaVuSans-67\"/>\n      </defs>\n      <g transform=\"translate(125.451719 239.238438)scale(0.1 -0.1)\">\n       <use xlink:href=\"#DejaVuSans-83\"/>\n       <use x=\"63.476562\" xlink:href=\"#DejaVuSans-105\"/>\n       <use x=\"91.259766\" xlink:href=\"#DejaVuSans-116\"/>\n       <use x=\"130.46875\" xlink:href=\"#DejaVuSans-101\"/>\n       <use x=\"191.992188\" xlink:href=\"#DejaVuSans-95\"/>\n       <use x=\"241.992188\" xlink:href=\"#DejaVuSans-67\"/>\n      </g>\n     </g>\n    </g>\n    <g id=\"xtick_3\">\n     <g id=\"line2d_3\">\n      <g>\n       <use style=\"stroke:#000000;stroke-width:0.8;\" x=\"208.003125\" xlink:href=\"#m666c838499\" y=\"224.64\"/>\n      </g>\n     </g>\n     <g id=\"text_3\">\n      <!-- Site_B -->\n      <defs>\n       <path d=\"M 19.671875 34.8125 \nL 19.671875 8.109375 \nL 35.5 8.109375 \nQ 43.453125 8.109375 47.28125 11.40625 \nQ 51.125 14.703125 51.125 21.484375 \nQ 51.125 28.328125 47.28125 31.5625 \nQ 43.453125 34.8125 35.5 34.8125 \nz\nM 19.671875 64.796875 \nL 19.671875 42.828125 \nL 34.28125 42.828125 \nQ 41.5 42.828125 45.03125 45.53125 \nQ 48.578125 48.25 48.578125 53.8125 \nQ 48.578125 59.328125 45.03125 62.0625 \nQ 41.5 64.796875 34.28125 64.796875 \nz\nM 9.8125 72.90625 \nL 35.015625 72.90625 \nQ 46.296875 72.90625 52.390625 68.21875 \nQ 58.5 63.53125 58.5 54.890625 \nQ 58.5 48.1875 55.375 44.234375 \nQ 52.25 40.28125 46.1875 39.3125 \nQ 53.46875 37.75 57.5 32.78125 \nQ 61.53125 27.828125 61.53125 20.40625 \nQ 61.53125 10.640625 54.890625 5.3125 \nQ 48.25 0 35.984375 0 \nL 9.8125 0 \nz\n\" id=\"DejaVuSans-66\"/>\n      </defs>\n      <g transform=\"translate(192.472656 239.238438)scale(0.1 -0.1)\">\n       <use xlink:href=\"#DejaVuSans-83\"/>\n       <use x=\"63.476562\" xlink:href=\"#DejaVuSans-105\"/>\n       <use x=\"91.259766\" xlink:href=\"#DejaVuSans-116\"/>\n       <use x=\"130.46875\" xlink:href=\"#DejaVuSans-101\"/>\n       <use x=\"191.992188\" xlink:href=\"#DejaVuSans-95\"/>\n       <use x=\"241.992188\" xlink:href=\"#DejaVuSans-66\"/>\n      </g>\n     </g>\n    </g>\n    <g id=\"xtick_4\">\n     <g id=\"line2d_4\">\n      <g>\n       <use style=\"stroke:#000000;stroke-width:0.8;\" x=\"274.963125\" xlink:href=\"#m666c838499\" y=\"224.64\"/>\n      </g>\n     </g>\n     <g id=\"text_4\">\n      <!-- Site_E -->\n      <defs>\n       <path d=\"M 9.8125 72.90625 \nL 55.90625 72.90625 \nL 55.90625 64.59375 \nL 19.671875 64.59375 \nL 19.671875 43.015625 \nL 54.390625 43.015625 \nL 54.390625 34.71875 \nL 19.671875 34.71875 \nL 19.671875 8.296875 \nL 56.78125 8.296875 \nL 56.78125 0 \nL 9.8125 0 \nz\n\" id=\"DejaVuSans-69\"/>\n      </defs>\n      <g transform=\"translate(259.70375 239.238438)scale(0.1 -0.1)\">\n       <use xlink:href=\"#DejaVuSans-83\"/>\n       <use x=\"63.476562\" xlink:href=\"#DejaVuSans-105\"/>\n       <use x=\"91.259766\" xlink:href=\"#DejaVuSans-116\"/>\n       <use x=\"130.46875\" xlink:href=\"#DejaVuSans-101\"/>\n       <use x=\"191.992188\" xlink:href=\"#DejaVuSans-95\"/>\n       <use x=\"241.992188\" xlink:href=\"#DejaVuSans-69\"/>\n      </g>\n     </g>\n    </g>\n    <g id=\"xtick_5\">\n     <g id=\"line2d_5\">\n      <g>\n       <use style=\"stroke:#000000;stroke-width:0.8;\" x=\"341.923125\" xlink:href=\"#m666c838499\" y=\"224.64\"/>\n      </g>\n     </g>\n     <g id=\"text_5\">\n      <!-- Site_A -->\n      <defs>\n       <path d=\"M 34.1875 63.1875 \nL 20.796875 26.90625 \nL 47.609375 26.90625 \nz\nM 28.609375 72.90625 \nL 39.796875 72.90625 \nL 67.578125 0 \nL 57.328125 0 \nL 50.6875 18.703125 \nL 17.828125 18.703125 \nL 11.1875 0 \nL 0.78125 0 \nz\n\" id=\"DejaVuSans-65\"/>\n      </defs>\n      <g transform=\"translate(326.402812 239.238438)scale(0.1 -0.1)\">\n       <use xlink:href=\"#DejaVuSans-83\"/>\n       <use x=\"63.476562\" xlink:href=\"#DejaVuSans-105\"/>\n       <use x=\"91.259766\" xlink:href=\"#DejaVuSans-116\"/>\n       <use x=\"130.46875\" xlink:href=\"#DejaVuSans-101\"/>\n       <use x=\"191.992188\" xlink:href=\"#DejaVuSans-95\"/>\n       <use x=\"241.992188\" xlink:href=\"#DejaVuSans-65\"/>\n      </g>\n     </g>\n    </g>\n    <g id=\"text_6\">\n     <!-- Site -->\n     <g transform=\"translate(198.403125 253.194688)scale(0.1 -0.1)\">\n      <use xlink:href=\"#DejaVuSans-83\"/>\n      <use x=\"63.476562\" xlink:href=\"#DejaVuSans-105\"/>\n      <use x=\"91.259766\" xlink:href=\"#DejaVuSans-116\"/>\n      <use x=\"130.46875\" xlink:href=\"#DejaVuSans-101\"/>\n     </g>\n    </g>\n   </g>\n   <g id=\"matplotlib.axis_2\">\n    <g id=\"ytick_1\">\n     <g id=\"line2d_6\">\n      <defs>\n       <path d=\"M 0 0 \nL -3.5 0 \n\" id=\"m2531e00b00\" style=\"stroke:#000000;stroke-width:0.8;\"/>\n      </defs>\n      <g>\n       <use style=\"stroke:#000000;stroke-width:0.8;\" x=\"40.603125\" xlink:href=\"#m2531e00b00\" y=\"212.680784\"/>\n      </g>\n     </g>\n     <g id=\"text_7\">\n      <!-- 0 -->\n      <defs>\n       <path d=\"M 31.78125 66.40625 \nQ 24.171875 66.40625 20.328125 58.90625 \nQ 16.5 51.421875 16.5 36.375 \nQ 16.5 21.390625 20.328125 13.890625 \nQ 24.171875 6.390625 31.78125 6.390625 \nQ 39.453125 6.390625 43.28125 13.890625 \nQ 47.125 21.390625 47.125 36.375 \nQ 47.125 51.421875 43.28125 58.90625 \nQ 39.453125 66.40625 31.78125 66.40625 \nz\nM 31.78125 74.21875 \nQ 44.046875 74.21875 50.515625 64.515625 \nQ 56.984375 54.828125 56.984375 36.375 \nQ 56.984375 17.96875 50.515625 8.265625 \nQ 44.046875 -1.421875 31.78125 -1.421875 \nQ 19.53125 -1.421875 13.0625 8.265625 \nQ 6.59375 17.96875 6.59375 36.375 \nQ 6.59375 54.828125 13.0625 64.515625 \nQ 19.53125 74.21875 31.78125 74.21875 \nz\n\" id=\"DejaVuSans-48\"/>\n      </defs>\n      <g transform=\"translate(27.240625 216.480003)scale(0.1 -0.1)\">\n       <use xlink:href=\"#DejaVuSans-48\"/>\n      </g>\n     </g>\n    </g>\n    <g id=\"ytick_2\">\n     <g id=\"line2d_7\">\n      <g>\n       <use style=\"stroke:#000000;stroke-width:0.8;\" x=\"40.603125\" xlink:href=\"#m2531e00b00\" y=\"169.597\"/>\n      </g>\n     </g>\n     <g id=\"text_8\">\n      <!-- 5 -->\n      <defs>\n       <path d=\"M 10.796875 72.90625 \nL 49.515625 72.90625 \nL 49.515625 64.59375 \nL 19.828125 64.59375 \nL 19.828125 46.734375 \nQ 21.96875 47.46875 24.109375 47.828125 \nQ 26.265625 48.1875 28.421875 48.1875 \nQ 40.625 48.1875 47.75 41.5 \nQ 54.890625 34.8125 54.890625 23.390625 \nQ 54.890625 11.625 47.5625 5.09375 \nQ 40.234375 -1.421875 26.90625 -1.421875 \nQ 22.3125 -1.421875 17.546875 -0.640625 \nQ 12.796875 0.140625 7.71875 1.703125 \nL 7.71875 11.625 \nQ 12.109375 9.234375 16.796875 8.0625 \nQ 21.484375 6.890625 26.703125 6.890625 \nQ 35.15625 6.890625 40.078125 11.328125 \nQ 45.015625 15.765625 45.015625 23.390625 \nQ 45.015625 31 40.078125 35.4375 \nQ 35.15625 39.890625 26.703125 39.890625 \nQ 22.75 39.890625 18.8125 39.015625 \nQ 14.890625 38.140625 10.796875 36.28125 \nz\n\" id=\"DejaVuSans-53\"/>\n      </defs>\n      <g transform=\"translate(27.240625 173.396219)scale(0.1 -0.1)\">\n       <use xlink:href=\"#DejaVuSans-53\"/>\n      </g>\n     </g>\n    </g>\n    <g id=\"ytick_3\">\n     <g id=\"line2d_8\">\n      <g>\n       <use style=\"stroke:#000000;stroke-width:0.8;\" x=\"40.603125\" xlink:href=\"#m2531e00b00\" y=\"126.513216\"/>\n      </g>\n     </g>\n     <g id=\"text_9\">\n      <!-- 10 -->\n      <defs>\n       <path d=\"M 12.40625 8.296875 \nL 28.515625 8.296875 \nL 28.515625 63.921875 \nL 10.984375 60.40625 \nL 10.984375 69.390625 \nL 28.421875 72.90625 \nL 38.28125 72.90625 \nL 38.28125 8.296875 \nL 54.390625 8.296875 \nL 54.390625 0 \nL 12.40625 0 \nz\n\" id=\"DejaVuSans-49\"/>\n      </defs>\n      <g transform=\"translate(20.878125 130.312435)scale(0.1 -0.1)\">\n       <use xlink:href=\"#DejaVuSans-49\"/>\n       <use x=\"63.623047\" xlink:href=\"#DejaVuSans-48\"/>\n      </g>\n     </g>\n    </g>\n    <g id=\"ytick_4\">\n     <g id=\"line2d_9\">\n      <g>\n       <use style=\"stroke:#000000;stroke-width:0.8;\" x=\"40.603125\" xlink:href=\"#m2531e00b00\" y=\"83.429432\"/>\n      </g>\n     </g>\n     <g id=\"text_10\">\n      <!-- 15 -->\n      <g transform=\"translate(20.878125 87.228651)scale(0.1 -0.1)\">\n       <use xlink:href=\"#DejaVuSans-49\"/>\n       <use x=\"63.623047\" xlink:href=\"#DejaVuSans-53\"/>\n      </g>\n     </g>\n    </g>\n    <g id=\"ytick_5\">\n     <g id=\"line2d_10\">\n      <g>\n       <use style=\"stroke:#000000;stroke-width:0.8;\" x=\"40.603125\" xlink:href=\"#m2531e00b00\" y=\"40.345648\"/>\n      </g>\n     </g>\n     <g id=\"text_11\">\n      <!-- 20 -->\n      <defs>\n       <path d=\"M 19.1875 8.296875 \nL 53.609375 8.296875 \nL 53.609375 0 \nL 7.328125 0 \nL 7.328125 8.296875 \nQ 12.9375 14.109375 22.625 23.890625 \nQ 32.328125 33.6875 34.8125 36.53125 \nQ 39.546875 41.84375 41.421875 45.53125 \nQ 43.3125 49.21875 43.3125 52.78125 \nQ 43.3125 58.59375 39.234375 62.25 \nQ 35.15625 65.921875 28.609375 65.921875 \nQ 23.96875 65.921875 18.8125 64.3125 \nQ 13.671875 62.703125 7.8125 59.421875 \nL 7.8125 69.390625 \nQ 13.765625 71.78125 18.9375 73 \nQ 24.125 74.21875 28.421875 74.21875 \nQ 39.75 74.21875 46.484375 68.546875 \nQ 53.21875 62.890625 53.21875 53.421875 \nQ 53.21875 48.921875 51.53125 44.890625 \nQ 49.859375 40.875 45.40625 35.40625 \nQ 44.1875 33.984375 37.640625 27.21875 \nQ 31.109375 20.453125 19.1875 8.296875 \nz\n\" id=\"DejaVuSans-50\"/>\n      </defs>\n      <g transform=\"translate(20.878125 44.144867)scale(0.1 -0.1)\">\n       <use xlink:href=\"#DejaVuSans-50\"/>\n       <use x=\"63.623047\" xlink:href=\"#DejaVuSans-48\"/>\n      </g>\n     </g>\n    </g>\n    <g id=\"text_12\">\n     <!-- NPX -->\n     <defs>\n      <path d=\"M 9.8125 72.90625 \nL 23.09375 72.90625 \nL 55.421875 11.921875 \nL 55.421875 72.90625 \nL 64.984375 72.90625 \nL 64.984375 0 \nL 51.703125 0 \nL 19.390625 60.984375 \nL 19.390625 0 \nL 9.8125 0 \nz\n\" id=\"DejaVuSans-78\"/>\n      <path d=\"M 19.671875 64.796875 \nL 19.671875 37.40625 \nL 32.078125 37.40625 \nQ 38.96875 37.40625 42.71875 40.96875 \nQ 46.484375 44.53125 46.484375 51.125 \nQ 46.484375 57.671875 42.71875 61.234375 \nQ 38.96875 64.796875 32.078125 64.796875 \nz\nM 9.8125 72.90625 \nL 32.078125 72.90625 \nQ 44.34375 72.90625 50.609375 67.359375 \nQ 56.890625 61.8125 56.890625 51.125 \nQ 56.890625 40.328125 50.609375 34.8125 \nQ 44.34375 29.296875 32.078125 29.296875 \nL 19.671875 29.296875 \nL 19.671875 0 \nL 9.8125 0 \nz\n\" id=\"DejaVuSans-80\"/>\n      <path d=\"M 6.296875 72.90625 \nL 16.890625 72.90625 \nL 35.015625 45.796875 \nL 53.21875 72.90625 \nL 63.8125 72.90625 \nL 40.375 37.890625 \nL 65.375 0 \nL 54.78125 0 \nL 34.28125 31 \nL 13.625 0 \nL 2.984375 0 \nL 29 38.921875 \nz\n\" id=\"DejaVuSans-88\"/>\n     </defs>\n     <g transform=\"translate(14.798438 126.100469)rotate(-90)scale(0.1 -0.1)\">\n      <use xlink:href=\"#DejaVuSans-78\"/>\n      <use x=\"74.804688\" xlink:href=\"#DejaVuSans-80\"/>\n      <use x=\"135.107422\" xlink:href=\"#DejaVuSans-88\"/>\n     </g>\n    </g>\n   </g>\n   <g id=\"line2d_11\">\n    <path clip-path=\"url(#p6d1a73f1f5)\" d=\"M 52.655925 180.180402 \nL 52.655925 203.004947 \n\" style=\"fill:none;stroke:#393939;stroke-linecap:square;stroke-width:1.5;\"/>\n   </g>\n   <g id=\"line2d_12\">\n    <path clip-path=\"url(#p6d1a73f1f5)\" d=\"M 52.655925 134.452666 \nL 52.655925 68.871592 \n\" style=\"fill:none;stroke:#393939;stroke-linecap:square;stroke-width:1.5;\"/>\n   </g>\n   <g id=\"line2d_13\">\n    <path clip-path=\"url(#p6d1a73f1f5)\" d=\"M 50.031093 203.004947 \nL 55.280757 203.004947 \n\" style=\"fill:none;stroke:#393939;stroke-linecap:square;stroke-width:1.5;\"/>\n   </g>\n   <g id=\"line2d_14\">\n    <path clip-path=\"url(#p6d1a73f1f5)\" d=\"M 50.031093 68.871592 \nL 55.280757 68.871592 \n\" style=\"fill:none;stroke:#393939;stroke-linecap:square;stroke-width:1.5;\"/>\n   </g>\n   <g id=\"line2d_15\"/>\n   <g id=\"line2d_16\">\n    <path clip-path=\"url(#p6d1a73f1f5)\" d=\"M 130.329525 127.516152 \nL 130.329525 155.998843 \n\" style=\"fill:none;stroke:#393939;stroke-linecap:square;stroke-width:1.5;\"/>\n   </g>\n   <g id=\"line2d_17\">\n    <path clip-path=\"url(#p6d1a73f1f5)\" d=\"M 130.329525 86.221022 \nL 130.329525 37.906287 \n\" style=\"fill:none;stroke:#393939;stroke-linecap:square;stroke-width:1.5;\"/>\n   </g>\n   <g id=\"line2d_18\">\n    <path clip-path=\"url(#p6d1a73f1f5)\" d=\"M 127.704693 155.998843 \nL 132.954357 155.998843 \n\" style=\"fill:none;stroke:#393939;stroke-linecap:square;stroke-width:1.5;\"/>\n   </g>\n   <g id=\"line2d_19\">\n    <path clip-path=\"url(#p6d1a73f1f5)\" d=\"M 127.704693 37.906287 \nL 132.954357 37.906287 \n\" style=\"fill:none;stroke:#393939;stroke-linecap:square;stroke-width:1.5;\"/>\n   </g>\n   <g id=\"line2d_20\">\n    <defs>\n     <path d=\"M -0 3.535534 \nL 2.12132 0 \nL -0 -3.535534 \nL -2.12132 -0 \nz\n\" id=\"m542a2692bc\" style=\"stroke:#393939;stroke-linejoin:miter;\"/>\n    </defs>\n    <g clip-path=\"url(#p6d1a73f1f5)\">\n     <use style=\"fill:#393939;stroke:#393939;stroke-linejoin:miter;\" x=\"130.329525\" xlink:href=\"#m542a2692bc\" y=\"199.406807\"/>\n    </g>\n   </g>\n   <g id=\"line2d_21\">\n    <path clip-path=\"url(#p6d1a73f1f5)\" d=\"M 208.003125 109.965582 \nL 208.003125 144.007723 \n\" style=\"fill:none;stroke:#393939;stroke-linecap:square;stroke-width:1.5;\"/>\n   </g>\n   <g id=\"line2d_22\">\n    <path clip-path=\"url(#p6d1a73f1f5)\" d=\"M 208.003125 76.258031 \nL 208.003125 43.765502 \n\" style=\"fill:none;stroke:#393939;stroke-linecap:square;stroke-width:1.5;\"/>\n   </g>\n   <g id=\"line2d_23\">\n    <path clip-path=\"url(#p6d1a73f1f5)\" d=\"M 205.378293 144.007723 \nL 210.627957 144.007723 \n\" style=\"fill:none;stroke:#393939;stroke-linecap:square;stroke-width:1.5;\"/>\n   </g>\n   <g id=\"line2d_24\">\n    <path clip-path=\"url(#p6d1a73f1f5)\" d=\"M 205.378293 43.765502 \nL 210.627957 43.765502 \n\" style=\"fill:none;stroke:#393939;stroke-linecap:square;stroke-width:1.5;\"/>\n   </g>\n   <g id=\"line2d_25\"/>\n   <g id=\"line2d_26\">\n    <path clip-path=\"url(#p6d1a73f1f5)\" d=\"M 285.676725 116.042827 \nL 285.676725 162.196459 \n\" style=\"fill:none;stroke:#393939;stroke-linecap:square;stroke-width:1.5;\"/>\n   </g>\n   <g id=\"line2d_27\">\n    <path clip-path=\"url(#p6d1a73f1f5)\" d=\"M 285.676725 66.967407 \nL 285.676725 17.083636 \n\" style=\"fill:none;stroke:#393939;stroke-linecap:square;stroke-width:1.5;\"/>\n   </g>\n   <g id=\"line2d_28\">\n    <path clip-path=\"url(#p6d1a73f1f5)\" d=\"M 283.051893 162.196459 \nL 288.301557 162.196459 \n\" style=\"fill:none;stroke:#393939;stroke-linecap:square;stroke-width:1.5;\"/>\n   </g>\n   <g id=\"line2d_29\">\n    <path clip-path=\"url(#p6d1a73f1f5)\" d=\"M 283.051893 17.083636 \nL 288.301557 17.083636 \n\" style=\"fill:none;stroke:#393939;stroke-linecap:square;stroke-width:1.5;\"/>\n   </g>\n   <g id=\"line2d_30\"/>\n   <g id=\"line2d_31\">\n    <path clip-path=\"url(#p6d1a73f1f5)\" d=\"M 363.350325 181.524042 \nL 363.350325 214.756364 \n\" style=\"fill:none;stroke:#393939;stroke-linecap:square;stroke-width:1.5;\"/>\n   </g>\n   <g id=\"line2d_32\">\n    <path clip-path=\"url(#p6d1a73f1f5)\" d=\"M 363.350325 129.920507 \nL 363.350325 81.311451 \n\" style=\"fill:none;stroke:#393939;stroke-linecap:square;stroke-width:1.5;\"/>\n   </g>\n   <g id=\"line2d_33\">\n    <path clip-path=\"url(#p6d1a73f1f5)\" d=\"M 360.725493 214.756364 \nL 365.975157 214.756364 \n\" style=\"fill:none;stroke:#393939;stroke-linecap:square;stroke-width:1.5;\"/>\n   </g>\n   <g id=\"line2d_34\">\n    <path clip-path=\"url(#p6d1a73f1f5)\" d=\"M 360.725493 81.311451 \nL 365.975157 81.311451 \n\" style=\"fill:none;stroke:#393939;stroke-linecap:square;stroke-width:1.5;\"/>\n   </g>\n   <g id=\"line2d_35\"/>\n   <g id=\"line2d_36\">\n    <path clip-path=\"url(#p6d1a73f1f5)\" d=\"M 47.406261 157.635307 \nL 57.905589 157.635307 \n\" style=\"fill:none;stroke:#393939;stroke-linecap:square;stroke-width:1.5;\"/>\n   </g>\n   <g id=\"line2d_37\">\n    <path clip-path=\"url(#p6d1a73f1f5)\" d=\"M 125.079861 108.390914 \nL 135.579189 108.390914 \n\" style=\"fill:none;stroke:#393939;stroke-linecap:square;stroke-width:1.5;\"/>\n   </g>\n   <g id=\"line2d_38\">\n    <path clip-path=\"url(#p6d1a73f1f5)\" d=\"M 202.753461 93.505436 \nL 213.252789 93.505436 \n\" style=\"fill:none;stroke:#393939;stroke-linecap:square;stroke-width:1.5;\"/>\n   </g>\n   <g id=\"line2d_39\">\n    <path clip-path=\"url(#p6d1a73f1f5)\" d=\"M 280.427061 93.730934 \nL 290.926389 93.730934 \n\" style=\"fill:none;stroke:#393939;stroke-linecap:square;stroke-width:1.5;\"/>\n   </g>\n   <g id=\"line2d_40\">\n    <path clip-path=\"url(#p6d1a73f1f5)\" d=\"M 358.100661 157.655214 \nL 368.599989 157.655214 \n\" style=\"fill:none;stroke:#393939;stroke-linecap:square;stroke-width:1.5;\"/>\n   </g>\n   <g id=\"patch_13\">\n    <path d=\"M 40.603125 224.64 \nL 40.603125 7.2 \n\" style=\"fill:none;stroke:#000000;stroke-linecap:square;stroke-linejoin:miter;stroke-width:0.8;\"/>\n   </g>\n   <g id=\"patch_14\">\n    <path d=\"M 375.403125 224.64 \nL 375.403125 7.2 \n\" style=\"fill:none;stroke:#000000;stroke-linecap:square;stroke-linejoin:miter;stroke-width:0.8;\"/>\n   </g>\n   <g id=\"patch_15\">\n    <path d=\"M 40.603125 224.64 \nL 375.403125 224.64 \n\" style=\"fill:none;stroke:#000000;stroke-linecap:square;stroke-linejoin:miter;stroke-width:0.8;\"/>\n   </g>\n   <g id=\"patch_16\">\n    <path d=\"M 40.603125 7.2 \nL 375.403125 7.2 \n\" style=\"fill:none;stroke:#000000;stroke-linecap:square;stroke-linejoin:miter;stroke-width:0.8;\"/>\n   </g>\n   <g id=\"legend_1\">\n    <g id=\"patch_17\">\n     <path d=\"M 304.503125 104.659375 \nL 368.403125 104.659375 \nQ 370.403125 104.659375 370.403125 102.659375 \nL 370.403125 14.2 \nQ 370.403125 12.2 368.403125 12.2 \nL 304.503125 12.2 \nQ 302.503125 12.2 302.503125 14.2 \nL 302.503125 102.659375 \nQ 302.503125 104.659375 304.503125 104.659375 \nz\n\" style=\"fill:#ffffff;opacity:0.8;stroke:#cccccc;stroke-linejoin:miter;\"/>\n    </g>\n    <g id=\"text_13\">\n     <!-- Site -->\n     <g transform=\"translate(326.853125 23.798438)scale(0.1 -0.1)\">\n      <use xlink:href=\"#DejaVuSans-83\"/>\n      <use x=\"63.476562\" xlink:href=\"#DejaVuSans-105\"/>\n      <use x=\"91.259766\" xlink:href=\"#DejaVuSans-116\"/>\n      <use x=\"130.46875\" xlink:href=\"#DejaVuSans-101\"/>\n     </g>\n    </g>\n    <g id=\"patch_18\">\n     <path d=\"M 306.503125 38.476563 \nL 326.503125 38.476563 \nL 326.503125 31.476563 \nL 306.503125 31.476563 \nz\n\" style=\"fill:#ddebba;stroke:#393939;stroke-linejoin:miter;stroke-width:0.75;\"/>\n    </g>\n    <g id=\"text_14\">\n     <!-- Site_D -->\n     <g transform=\"translate(334.503125 38.476563)scale(0.1 -0.1)\">\n      <use xlink:href=\"#DejaVuSans-83\"/>\n      <use x=\"63.476562\" xlink:href=\"#DejaVuSans-105\"/>\n      <use x=\"91.259766\" xlink:href=\"#DejaVuSans-116\"/>\n      <use x=\"130.46875\" xlink:href=\"#DejaVuSans-101\"/>\n      <use x=\"191.992188\" xlink:href=\"#DejaVuSans-95\"/>\n      <use x=\"241.992188\" xlink:href=\"#DejaVuSans-68\"/>\n     </g>\n    </g>\n    <g id=\"patch_19\">\n     <path d=\"M 306.503125 53.432813 \nL 326.503125 53.432813 \nL 326.503125 46.432813 \nL 306.503125 46.432813 \nz\n\" style=\"fill:#9fceb8;stroke:#393939;stroke-linejoin:miter;stroke-width:0.75;\"/>\n    </g>\n    <g id=\"text_15\">\n     <!-- Site_C -->\n     <g transform=\"translate(334.503125 53.432813)scale(0.1 -0.1)\">\n      <use xlink:href=\"#DejaVuSans-83\"/>\n      <use x=\"63.476562\" xlink:href=\"#DejaVuSans-105\"/>\n      <use x=\"91.259766\" xlink:href=\"#DejaVuSans-116\"/>\n      <use x=\"130.46875\" xlink:href=\"#DejaVuSans-101\"/>\n      <use x=\"191.992188\" xlink:href=\"#DejaVuSans-95\"/>\n      <use x=\"241.992188\" xlink:href=\"#DejaVuSans-67\"/>\n     </g>\n    </g>\n    <g id=\"patch_20\">\n     <path d=\"M 306.503125 68.389063 \nL 326.503125 68.389063 \nL 326.503125 61.389063 \nL 306.503125 61.389063 \nz\n\" style=\"fill:#51a9b3;stroke:#393939;stroke-linejoin:miter;stroke-width:0.75;\"/>\n    </g>\n    <g id=\"text_16\">\n     <!-- Site_B -->\n     <g transform=\"translate(334.503125 68.389063)scale(0.1 -0.1)\">\n      <use xlink:href=\"#DejaVuSans-83\"/>\n      <use x=\"63.476562\" xlink:href=\"#DejaVuSans-105\"/>\n      <use x=\"91.259766\" xlink:href=\"#DejaVuSans-116\"/>\n      <use x=\"130.46875\" xlink:href=\"#DejaVuSans-101\"/>\n      <use x=\"191.992188\" xlink:href=\"#DejaVuSans-95\"/>\n      <use x=\"241.992188\" xlink:href=\"#DejaVuSans-66\"/>\n     </g>\n    </g>\n    <g id=\"patch_21\">\n     <path d=\"M 306.503125 83.345313 \nL 326.503125 83.345313 \nL 326.503125 76.345313 \nL 306.503125 76.345313 \nz\n\" style=\"fill:#327ba5;stroke:#393939;stroke-linejoin:miter;stroke-width:0.75;\"/>\n    </g>\n    <g id=\"text_17\">\n     <!-- Site_E -->\n     <g transform=\"translate(334.503125 83.345313)scale(0.1 -0.1)\">\n      <use xlink:href=\"#DejaVuSans-83\"/>\n      <use x=\"63.476562\" xlink:href=\"#DejaVuSans-105\"/>\n      <use x=\"91.259766\" xlink:href=\"#DejaVuSans-116\"/>\n      <use x=\"130.46875\" xlink:href=\"#DejaVuSans-101\"/>\n      <use x=\"191.992188\" xlink:href=\"#DejaVuSans-95\"/>\n      <use x=\"241.992188\" xlink:href=\"#DejaVuSans-69\"/>\n     </g>\n    </g>\n    <g id=\"patch_22\">\n     <path d=\"M 306.503125 98.301563 \nL 326.503125 98.301563 \nL 326.503125 91.301563 \nL 306.503125 91.301563 \nz\n\" style=\"fill:#33498c;stroke:#393939;stroke-linejoin:miter;stroke-width:0.75;\"/>\n    </g>\n    <g id=\"text_18\">\n     <!-- Site_A -->\n     <g transform=\"translate(334.503125 98.301563)scale(0.1 -0.1)\">\n      <use xlink:href=\"#DejaVuSans-83\"/>\n      <use x=\"63.476562\" xlink:href=\"#DejaVuSans-105\"/>\n      <use x=\"91.259766\" xlink:href=\"#DejaVuSans-116\"/>\n      <use x=\"130.46875\" xlink:href=\"#DejaVuSans-101\"/>\n      <use x=\"191.992188\" xlink:href=\"#DejaVuSans-95\"/>\n      <use x=\"241.992188\" xlink:href=\"#DejaVuSans-65\"/>\n     </g>\n    </g>\n   </g>\n  </g>\n </g>\n <defs>\n  <clipPath id=\"p6d1a73f1f5\">\n   <rect height=\"217.44\" width=\"334.8\" x=\"40.603125\" y=\"7.2\"/>\n  </clipPath>\n </defs>\n</svg>\n",
      "image/png": "[encoded data removed]"
     },
     "metadata": {
      "needs_background": "light"
     }
    }
   ],
   "source": [
    "# generate a boxplot to see the data distribution by Time \n",
    "sns.boxplot(x=\"Site\", y=\"NPX\", hue=\"Site\", data=test_data, palette=\"YlGnBu\")"
   ]
  },
  {
   "cell_type": "code",
   "execution_count": 13,
   "metadata": {},
   "outputs": [
    {
     "output_type": "execute_result",
     "data": {
      "text/plain": "              sum_sq    df         F    PR(>F)\nC(Site)   479.473349   4.0  5.681956  0.000816\nResidual  991.526899  47.0       NaN       NaN",
      "text/html": "<div>\n<style scoped>\n    .dataframe tbody tr th:only-of-type {\n        vertical-align: middle;\n    }\n\n    .dataframe tbody tr th {\n        vertical-align: top;\n    }\n\n    .dataframe thead th {\n        text-align: right;\n    }\n</style>\n<table border=\"1\" class=\"dataframe\">\n  <thead>\n    <tr style=\"text-align: right;\">\n      <th></th>\n      <th>sum_sq</th>\n      <th>df</th>\n      <th>F</th>\n      <th>PR(&gt;F)</th>\n    </tr>\n  </thead>\n  <tbody>\n    <tr>\n      <th>C(Site)</th>\n      <td>479.473349</td>\n      <td>4.0</td>\n      <td>5.681956</td>\n      <td>0.000816</td>\n    </tr>\n    <tr>\n      <th>Residual</th>\n      <td>991.526899</td>\n      <td>47.0</td>\n      <td>NaN</td>\n      <td>NaN</td>\n    </tr>\n  </tbody>\n</table>\n</div>"
     },
     "metadata": {},
     "execution_count": 13
    }
   ],
   "source": [
    "# C(Site):C(Uniprot ID) represent interaction term\n",
    "model = ols('NPX ~ C(Site)', data=test_data).fit()\n",
    "\n",
    "# Type 3 sums of squares (SS) ('typ=3') is recommended for an unbalanced design for multifactorial ANOVA\n",
    "anova_table_test = sm.stats.anova_lm(model, typ=2)\n",
    "anova_table_test"
   ]
  },
  {
   "cell_type": "code",
   "execution_count": 14,
   "metadata": {},
   "outputs": [
    {
     "output_type": "execute_result",
     "data": {
      "text/plain": "sum_sq    float64\ndf        float64\nF         float64\nPR(>F)    float64\ndtype: object"
     },
     "metadata": {},
     "execution_count": 14
    }
   ],
   "source": [
    "anova_table_test.dtypes"
   ]
  },
  {
   "cell_type": "markdown",
   "metadata": {},
   "source": [
    "## Responder ANOVA by all Proteins"
   ]
  },
  {
   "cell_type": "code",
   "execution_count": 15,
   "metadata": {},
   "outputs": [],
   "source": [
    "# anova_protein = {\"Protein\":[], \"ANOVA\":[]}\n",
    "# for protein in protein_list:\n",
    "#     data = Responder_melt.loc[Responder_melt[\"Protein\"] == protein]\n",
    "#     model = ols('NPX ~ C(Time)', data=data).fit()\n",
    "#     anova_table = sm.stats.anova_lm(model, typ=2)\n",
    "#     anova_protein[\"Protein\"].append(protein)\n",
    "#     anova_protein[\"ANOVA\"].append(anova_table)\n"
   ]
  },
  {
   "cell_type": "code",
   "execution_count": 16,
   "metadata": {},
   "outputs": [],
   "source": [
    "anova_protein = {\"Protein\":[], \"C(Time): sum_sq\":[],\n",
    "\"Residual: sum_sq\": [], \"C(Time): df\":[], \"Residual: df\":[], \n",
    "\"C(Time): F\":[], \"Residual: F\":[],\n",
    "\"C(Time): PR(>F)\":[], \"Residual: PR(>F)\":[]}\n",
    "\n",
    "for protein in protein_list:\n",
    "    data = Responder_melt.loc[Responder_melt[\"Protein\"] == protein]\n",
    "    model = ols('NPX ~ C(Time)', data=data).fit()\n",
    "    anova_table = sm.stats.anova_lm(model, typ=2)\n",
    "    anova_protein[\"Protein\"].append(protein)\n",
    "    anova_protein[\"C(Time): sum_sq\"].append(anova_table[\"sum_sq\"][0])\n",
    "    anova_protein[\"Residual: sum_sq\"].append(anova_table[\"sum_sq\"][1])\n",
    "    anova_protein[\"C(Time): df\"].append(anova_table[\"df\"][0])\n",
    "    anova_protein[\"Residual: df\"].append(anova_table[\"df\"][1])\n",
    "    anova_protein[\"C(Time): F\"].append(anova_table[\"F\"][0])\n",
    "    anova_protein[\"Residual: F\"].append(anova_table[\"F\"][1])\n",
    "    anova_protein[\"C(Time): PR(>F)\"].append(anova_table[\"PR(>F)\"][0])\n",
    "    anova_protein[\"Residual: PR(>F)\"].append(anova_table[\"PR(>F)\"][1])"
   ]
  },
  {
   "cell_type": "code",
   "execution_count": 17,
   "metadata": {},
   "outputs": [
    {
     "output_type": "execute_result",
     "data": {
      "text/plain": "           Protein  C(Time): sum_sq  Residual: sum_sq  C(Time): df  \\\n0    CHL1_OID01216        33.772532        944.790646          2.0   \n1    NRP1_OID01217         6.660551        614.762356          2.0   \n2  PLXNB2_OID01218         3.092323        124.203790          2.0   \n3  FCGR3B_OID01219       432.837493       1607.112364          2.0   \n4  LILRB5_OID01220        11.007607        474.192702          2.0   \n\n   Residual: df  C(Time): F  Residual: F  C(Time): PR(>F)  Residual: PR(>F)  \n0          66.0    1.179620          NaN         0.313792               NaN  \n1          66.0    0.357534          NaN         0.700745               NaN  \n2          66.0    0.821607          NaN         0.444171               NaN  \n3          66.0    8.887765          NaN         0.000382               NaN  \n4          66.0    0.766041          NaN         0.468938               NaN  ",
      "text/html": "<div>\n<style scoped>\n    .dataframe tbody tr th:only-of-type {\n        vertical-align: middle;\n    }\n\n    .dataframe tbody tr th {\n        vertical-align: top;\n    }\n\n    .dataframe thead th {\n        text-align: right;\n    }\n</style>\n<table border=\"1\" class=\"dataframe\">\n  <thead>\n    <tr style=\"text-align: right;\">\n      <th></th>\n      <th>Protein</th>\n      <th>C(Time): sum_sq</th>\n      <th>Residual: sum_sq</th>\n      <th>C(Time): df</th>\n      <th>Residual: df</th>\n      <th>C(Time): F</th>\n      <th>Residual: F</th>\n      <th>C(Time): PR(&gt;F)</th>\n      <th>Residual: PR(&gt;F)</th>\n    </tr>\n  </thead>\n  <tbody>\n    <tr>\n      <th>0</th>\n      <td>CHL1_OID01216</td>\n      <td>33.772532</td>\n      <td>944.790646</td>\n      <td>2.0</td>\n      <td>66.0</td>\n      <td>1.179620</td>\n      <td>NaN</td>\n      <td>0.313792</td>\n      <td>NaN</td>\n    </tr>\n    <tr>\n      <th>1</th>\n      <td>NRP1_OID01217</td>\n      <td>6.660551</td>\n      <td>614.762356</td>\n      <td>2.0</td>\n      <td>66.0</td>\n      <td>0.357534</td>\n      <td>NaN</td>\n      <td>0.700745</td>\n      <td>NaN</td>\n    </tr>\n    <tr>\n      <th>2</th>\n      <td>PLXNB2_OID01218</td>\n      <td>3.092323</td>\n      <td>124.203790</td>\n      <td>2.0</td>\n      <td>66.0</td>\n      <td>0.821607</td>\n      <td>NaN</td>\n      <td>0.444171</td>\n      <td>NaN</td>\n    </tr>\n    <tr>\n      <th>3</th>\n      <td>FCGR3B_OID01219</td>\n      <td>432.837493</td>\n      <td>1607.112364</td>\n      <td>2.0</td>\n      <td>66.0</td>\n      <td>8.887765</td>\n      <td>NaN</td>\n      <td>0.000382</td>\n      <td>NaN</td>\n    </tr>\n    <tr>\n      <th>4</th>\n      <td>LILRB5_OID01220</td>\n      <td>11.007607</td>\n      <td>474.192702</td>\n      <td>2.0</td>\n      <td>66.0</td>\n      <td>0.766041</td>\n      <td>NaN</td>\n      <td>0.468938</td>\n      <td>NaN</td>\n    </tr>\n  </tbody>\n</table>\n</div>"
     },
     "metadata": {},
     "execution_count": 17
    }
   ],
   "source": [
    "anova_responder_df = pd.DataFrame(anova_protein)\n",
    "anova_responder_df.head()"
   ]
  },
  {
   "cell_type": "code",
   "execution_count": 18,
   "metadata": {},
   "outputs": [
    {
     "output_type": "execute_result",
     "data": {
      "text/plain": "                Protein  C(Time): sum_sq  Residual: sum_sq  C(Time): df  \\\n3       FCGR3B_OID01219       432.837493       1607.112364          2.0   \n16    SERPINA7_OID01232       174.341448        993.282144          2.0   \n17          C2_OID01233        86.301679        742.087961          2.0   \n32        CD59_OID01248        68.527530        192.752379          2.0   \n36     ST6GAL1_OID01252         6.754234         68.113464          2.0   \n...                 ...              ...               ...          ...   \n1071       MAX_OID01088       254.227825       1519.970739          2.0   \n1083  SERPINA9_OID01100        88.357134        199.916506          2.0   \n1091     CNTN2_OID01108        57.340437        556.152952          2.0   \n1099  TMPRSS15_OID01116        76.474385        309.695017          2.0   \n1100       LHB_OID01117         3.890403         36.500763          2.0   \n\n      Residual: df  C(Time): F  Residual: F  C(Time): PR(>F)  Residual: PR(>F)  \n3             66.0    8.887765          NaN         0.000382               NaN  \n16            66.0    5.792179          NaN         0.004813               NaN  \n17            66.0    3.837760          NaN         0.026502               NaN  \n32            66.0   11.732195          NaN         0.000044               NaN  \n36            66.0    3.272330          NaN         0.044154               NaN  \n...            ...         ...          ...              ...               ...  \n1071          66.0    5.519526          NaN         0.006074               NaN  \n1083          66.0   14.585016          NaN         0.000006               NaN  \n1091          66.0    3.402363          NaN         0.039236               NaN  \n1099          66.0    8.148839          NaN         0.000687               NaN  \n1100          66.0    3.517277          NaN         0.035360               NaN  \n\n[80 rows x 9 columns]",
      "text/html": "<div>\n<style scoped>\n    .dataframe tbody tr th:only-of-type {\n        vertical-align: middle;\n    }\n\n    .dataframe tbody tr th {\n        vertical-align: top;\n    }\n\n    .dataframe thead th {\n        text-align: right;\n    }\n</style>\n<table border=\"1\" class=\"dataframe\">\n  <thead>\n    <tr style=\"text-align: right;\">\n      <th></th>\n      <th>Protein</th>\n      <th>C(Time): sum_sq</th>\n      <th>Residual: sum_sq</th>\n      <th>C(Time): df</th>\n      <th>Residual: df</th>\n      <th>C(Time): F</th>\n      <th>Residual: F</th>\n      <th>C(Time): PR(&gt;F)</th>\n      <th>Residual: PR(&gt;F)</th>\n    </tr>\n  </thead>\n  <tbody>\n    <tr>\n      <th>3</th>\n      <td>FCGR3B_OID01219</td>\n      <td>432.837493</td>\n      <td>1607.112364</td>\n      <td>2.0</td>\n      <td>66.0</td>\n      <td>8.887765</td>\n      <td>NaN</td>\n      <td>0.000382</td>\n      <td>NaN</td>\n    </tr>\n    <tr>\n      <th>16</th>\n      <td>SERPINA7_OID01232</td>\n      <td>174.341448</td>\n      <td>993.282144</td>\n      <td>2.0</td>\n      <td>66.0</td>\n      <td>5.792179</td>\n      <td>NaN</td>\n      <td>0.004813</td>\n      <td>NaN</td>\n    </tr>\n    <tr>\n      <th>17</th>\n      <td>C2_OID01233</td>\n      <td>86.301679</td>\n      <td>742.087961</td>\n      <td>2.0</td>\n      <td>66.0</td>\n      <td>3.837760</td>\n      <td>NaN</td>\n      <td>0.026502</td>\n      <td>NaN</td>\n    </tr>\n    <tr>\n      <th>32</th>\n      <td>CD59_OID01248</td>\n      <td>68.527530</td>\n      <td>192.752379</td>\n      <td>2.0</td>\n      <td>66.0</td>\n      <td>11.732195</td>\n      <td>NaN</td>\n      <td>0.000044</td>\n      <td>NaN</td>\n    </tr>\n    <tr>\n      <th>36</th>\n      <td>ST6GAL1_OID01252</td>\n      <td>6.754234</td>\n      <td>68.113464</td>\n      <td>2.0</td>\n      <td>66.0</td>\n      <td>3.272330</td>\n      <td>NaN</td>\n      <td>0.044154</td>\n      <td>NaN</td>\n    </tr>\n    <tr>\n      <th>...</th>\n      <td>...</td>\n      <td>...</td>\n      <td>...</td>\n      <td>...</td>\n      <td>...</td>\n      <td>...</td>\n      <td>...</td>\n      <td>...</td>\n      <td>...</td>\n    </tr>\n    <tr>\n      <th>1071</th>\n      <td>MAX_OID01088</td>\n      <td>254.227825</td>\n      <td>1519.970739</td>\n      <td>2.0</td>\n      <td>66.0</td>\n      <td>5.519526</td>\n      <td>NaN</td>\n      <td>0.006074</td>\n      <td>NaN</td>\n    </tr>\n    <tr>\n      <th>1083</th>\n      <td>SERPINA9_OID01100</td>\n      <td>88.357134</td>\n      <td>199.916506</td>\n      <td>2.0</td>\n      <td>66.0</td>\n      <td>14.585016</td>\n      <td>NaN</td>\n      <td>0.000006</td>\n      <td>NaN</td>\n    </tr>\n    <tr>\n      <th>1091</th>\n      <td>CNTN2_OID01108</td>\n      <td>57.340437</td>\n      <td>556.152952</td>\n      <td>2.0</td>\n      <td>66.0</td>\n      <td>3.402363</td>\n      <td>NaN</td>\n      <td>0.039236</td>\n      <td>NaN</td>\n    </tr>\n    <tr>\n      <th>1099</th>\n      <td>TMPRSS15_OID01116</td>\n      <td>76.474385</td>\n      <td>309.695017</td>\n      <td>2.0</td>\n      <td>66.0</td>\n      <td>8.148839</td>\n      <td>NaN</td>\n      <td>0.000687</td>\n      <td>NaN</td>\n    </tr>\n    <tr>\n      <th>1100</th>\n      <td>LHB_OID01117</td>\n      <td>3.890403</td>\n      <td>36.500763</td>\n      <td>2.0</td>\n      <td>66.0</td>\n      <td>3.517277</td>\n      <td>NaN</td>\n      <td>0.035360</td>\n      <td>NaN</td>\n    </tr>\n  </tbody>\n</table>\n<p>80 rows × 9 columns</p>\n</div>"
     },
     "metadata": {},
     "execution_count": 18
    }
   ],
   "source": [
    "anova_responder_df.loc[anova_responder_df[\"C(Time): PR(>F)\"] < 0.05]"
   ]
  },
  {
   "cell_type": "code",
   "execution_count": 19,
   "metadata": {},
   "outputs": [],
   "source": [
    "# anova_protein[\"ANOVA\"][1100]"
   ]
  },
  {
   "cell_type": "markdown",
   "metadata": {},
   "source": [
    "## Nonresponder (NR) ANOVA by all Proteins"
   ]
  },
  {
   "cell_type": "code",
   "execution_count": 35,
   "metadata": {},
   "outputs": [],
   "source": [
    "# run ANOVA for all proteins for NR data\n",
    "# anova_NR = {\"Protein\":[], \"ANOVA\":[]}\n",
    "# for protein in protein_list:\n",
    "#     data = NR_melt.loc[NR_melt[\"Protein\"] == protein]\n",
    "#     model = ols('NPX ~ C(Time)', data=data).fit()\n",
    "#     anova_table = sm.stats.anova_lm(model, typ=2)\n",
    "#     anova_NR[\"Protein\"].append(protein)\n",
    "#     anova_NR[\"ANOVA\"].append(anova_table)"
   ]
  },
  {
   "cell_type": "code",
   "execution_count": 20,
   "metadata": {},
   "outputs": [],
   "source": [
    "anova_NR = {\"Protein\":[], \"C(Time): sum_sq\":[],\n",
    "\"Residual: sum_sq\": [], \"C(Time): df\":[], \"Residual: df\":[], \n",
    "\"C(Time): F\":[], \"Residual: F\":[],\n",
    "\"C(Time): PR(>F)\":[], \"Residual: PR(>F)\":[]}\n",
    "\n",
    "for protein in protein_list:\n",
    "    data = NR_melt.loc[NR_melt[\"Protein\"] == protein]\n",
    "    model = ols('NPX ~ C(Time)', data=data).fit()\n",
    "    anova_table = sm.stats.anova_lm(model, typ=2)\n",
    "    anova_NR[\"Protein\"].append(protein)\n",
    "    anova_NR[\"C(Time): sum_sq\"].append(anova_table[\"sum_sq\"][0])\n",
    "    anova_NR[\"Residual: sum_sq\"].append(anova_table[\"sum_sq\"][1])\n",
    "    anova_NR[\"C(Time): df\"].append(anova_table[\"df\"][0])\n",
    "    anova_NR[\"Residual: df\"].append(anova_table[\"df\"][1])\n",
    "    anova_NR[\"C(Time): F\"].append(anova_table[\"F\"][0])\n",
    "    anova_NR[\"Residual: F\"].append(anova_table[\"F\"][1])\n",
    "    anova_NR[\"C(Time): PR(>F)\"].append(anova_table[\"PR(>F)\"][0])\n",
    "    anova_NR[\"Residual: PR(>F)\"].append(anova_table[\"PR(>F)\"][1])"
   ]
  },
  {
   "cell_type": "code",
   "execution_count": 21,
   "metadata": {},
   "outputs": [
    {
     "output_type": "execute_result",
     "data": {
      "text/plain": "           Protein  C(Time): sum_sq  Residual: sum_sq  C(Time): df  \\\n0    CHL1_OID01216        31.279592       1310.759969          2.0   \n1    NRP1_OID01217        37.320825       1127.021510          2.0   \n2  PLXNB2_OID01218         1.172355        121.671278          2.0   \n3  FCGR3B_OID01219        29.695964       2664.347850          2.0   \n4  LILRB5_OID01220         0.730344        780.172631          2.0   \n\n   Residual: df  C(Time): F  Residual: F  C(Time): PR(>F)  Residual: PR(>F)  \n0          84.0    1.002276          NaN         0.371390               NaN  \n1          84.0    1.390812          NaN         0.254544               NaN  \n2          84.0    0.404688          NaN         0.668479               NaN  \n3          84.0    0.468118          NaN         0.627803               NaN  \n4          84.0    0.039318          NaN         0.961463               NaN  ",
      "text/html": "<div>\n<style scoped>\n    .dataframe tbody tr th:only-of-type {\n        vertical-align: middle;\n    }\n\n    .dataframe tbody tr th {\n        vertical-align: top;\n    }\n\n    .dataframe thead th {\n        text-align: right;\n    }\n</style>\n<table border=\"1\" class=\"dataframe\">\n  <thead>\n    <tr style=\"text-align: right;\">\n      <th></th>\n      <th>Protein</th>\n      <th>C(Time): sum_sq</th>\n      <th>Residual: sum_sq</th>\n      <th>C(Time): df</th>\n      <th>Residual: df</th>\n      <th>C(Time): F</th>\n      <th>Residual: F</th>\n      <th>C(Time): PR(&gt;F)</th>\n      <th>Residual: PR(&gt;F)</th>\n    </tr>\n  </thead>\n  <tbody>\n    <tr>\n      <th>0</th>\n      <td>CHL1_OID01216</td>\n      <td>31.279592</td>\n      <td>1310.759969</td>\n      <td>2.0</td>\n      <td>84.0</td>\n      <td>1.002276</td>\n      <td>NaN</td>\n      <td>0.371390</td>\n      <td>NaN</td>\n    </tr>\n    <tr>\n      <th>1</th>\n      <td>NRP1_OID01217</td>\n      <td>37.320825</td>\n      <td>1127.021510</td>\n      <td>2.0</td>\n      <td>84.0</td>\n      <td>1.390812</td>\n      <td>NaN</td>\n      <td>0.254544</td>\n      <td>NaN</td>\n    </tr>\n    <tr>\n      <th>2</th>\n      <td>PLXNB2_OID01218</td>\n      <td>1.172355</td>\n      <td>121.671278</td>\n      <td>2.0</td>\n      <td>84.0</td>\n      <td>0.404688</td>\n      <td>NaN</td>\n      <td>0.668479</td>\n      <td>NaN</td>\n    </tr>\n    <tr>\n      <th>3</th>\n      <td>FCGR3B_OID01219</td>\n      <td>29.695964</td>\n      <td>2664.347850</td>\n      <td>2.0</td>\n      <td>84.0</td>\n      <td>0.468118</td>\n      <td>NaN</td>\n      <td>0.627803</td>\n      <td>NaN</td>\n    </tr>\n    <tr>\n      <th>4</th>\n      <td>LILRB5_OID01220</td>\n      <td>0.730344</td>\n      <td>780.172631</td>\n      <td>2.0</td>\n      <td>84.0</td>\n      <td>0.039318</td>\n      <td>NaN</td>\n      <td>0.961463</td>\n      <td>NaN</td>\n    </tr>\n  </tbody>\n</table>\n</div>"
     },
     "metadata": {},
     "execution_count": 21
    }
   ],
   "source": [
    "anova_NR_df = pd.DataFrame(anova_NR)\n",
    "anova_NR_df.head()"
   ]
  },
  {
   "cell_type": "code",
   "execution_count": 22,
   "metadata": {},
   "outputs": [
    {
     "output_type": "execute_result",
     "data": {
      "text/plain": "                 Protein  C(Time): sum_sq  Residual: sum_sq  C(Time): df  \\\n14        ICAM1_OID01230         7.228915         93.805658          2.0   \n30         CCL5_OID01246        75.583737        993.517189          2.0   \n94          ADM_OID00381         6.761573         68.910733          2.0   \n241       U-PAR_OID00620        60.613230        734.831820          2.0   \n300         JUN_OID01332        63.354820        508.667719          2.0   \n359      SLAMF8_OID01391        77.030039        835.300130          2.0   \n411        DAG1_OID01444         8.329000         86.993162          2.0   \n501        CD28_OID00977        74.237942        916.079740          2.0   \n623   IFN-gamma_OID00544        74.274414        980.040161          2.0   \n642        DNER_OID01213        84.434423       1064.795971          2.0   \n664        GHRL_OID01140        16.174004        216.645744          2.0   \n727        PAG1_OID01203        17.642034        225.767597          2.0   \n849       SMPD1_OID00309        80.329243       1085.895040          2.0   \n997      CXCL13_OID00733        28.230574        308.801976          2.0   \n1053       YES1_OID01070        77.154562        978.795892          2.0   \n1087      PSMA1_OID01104         4.779902         61.098080          2.0   \n\n      Residual: df  C(Time): F  Residual: F  C(Time): PR(>F)  Residual: PR(>F)  \n14            84.0    3.236632          NaN         0.044247               NaN  \n30            84.0    3.195231          NaN         0.045981               NaN  \n94            84.0    4.121072          NaN         0.019620               NaN  \n241           84.0    3.464406          NaN         0.035832               NaN  \n300           84.0    5.231121          NaN         0.007226               NaN  \n359           84.0    3.873173          NaN         0.024604               NaN  \n411           84.0    4.021213          NaN         0.021490               NaN  \n501           84.0    3.403627          NaN         0.037902               NaN  \n623           84.0    3.183059          NaN         0.046504               NaN  \n642           84.0    3.330446          NaN         0.040559               NaN  \n664           84.0    3.135571          NaN         0.048604               NaN  \n727           84.0    3.281983          NaN         0.042423               NaN  \n849           84.0    3.106956          NaN         0.049916               NaN  \n997           84.0    3.839626          NaN         0.025371               NaN  \n1053          84.0    3.310692          NaN         0.041309               NaN  \n1087          84.0    3.285797          NaN         0.042273               NaN  ",
      "text/html": "<div>\n<style scoped>\n    .dataframe tbody tr th:only-of-type {\n        vertical-align: middle;\n    }\n\n    .dataframe tbody tr th {\n        vertical-align: top;\n    }\n\n    .dataframe thead th {\n        text-align: right;\n    }\n</style>\n<table border=\"1\" class=\"dataframe\">\n  <thead>\n    <tr style=\"text-align: right;\">\n      <th></th>\n      <th>Protein</th>\n      <th>C(Time): sum_sq</th>\n      <th>Residual: sum_sq</th>\n      <th>C(Time): df</th>\n      <th>Residual: df</th>\n      <th>C(Time): F</th>\n      <th>Residual: F</th>\n      <th>C(Time): PR(&gt;F)</th>\n      <th>Residual: PR(&gt;F)</th>\n    </tr>\n  </thead>\n  <tbody>\n    <tr>\n      <th>14</th>\n      <td>ICAM1_OID01230</td>\n      <td>7.228915</td>\n      <td>93.805658</td>\n      <td>2.0</td>\n      <td>84.0</td>\n      <td>3.236632</td>\n      <td>NaN</td>\n      <td>0.044247</td>\n      <td>NaN</td>\n    </tr>\n    <tr>\n      <th>30</th>\n      <td>CCL5_OID01246</td>\n      <td>75.583737</td>\n      <td>993.517189</td>\n      <td>2.0</td>\n      <td>84.0</td>\n      <td>3.195231</td>\n      <td>NaN</td>\n      <td>0.045981</td>\n      <td>NaN</td>\n    </tr>\n    <tr>\n      <th>94</th>\n      <td>ADM_OID00381</td>\n      <td>6.761573</td>\n      <td>68.910733</td>\n      <td>2.0</td>\n      <td>84.0</td>\n      <td>4.121072</td>\n      <td>NaN</td>\n      <td>0.019620</td>\n      <td>NaN</td>\n    </tr>\n    <tr>\n      <th>241</th>\n      <td>U-PAR_OID00620</td>\n      <td>60.613230</td>\n      <td>734.831820</td>\n      <td>2.0</td>\n      <td>84.0</td>\n      <td>3.464406</td>\n      <td>NaN</td>\n      <td>0.035832</td>\n      <td>NaN</td>\n    </tr>\n    <tr>\n      <th>300</th>\n      <td>JUN_OID01332</td>\n      <td>63.354820</td>\n      <td>508.667719</td>\n      <td>2.0</td>\n      <td>84.0</td>\n      <td>5.231121</td>\n      <td>NaN</td>\n      <td>0.007226</td>\n      <td>NaN</td>\n    </tr>\n    <tr>\n      <th>359</th>\n      <td>SLAMF8_OID01391</td>\n      <td>77.030039</td>\n      <td>835.300130</td>\n      <td>2.0</td>\n      <td>84.0</td>\n      <td>3.873173</td>\n      <td>NaN</td>\n      <td>0.024604</td>\n      <td>NaN</td>\n    </tr>\n    <tr>\n      <th>411</th>\n      <td>DAG1_OID01444</td>\n      <td>8.329000</td>\n      <td>86.993162</td>\n      <td>2.0</td>\n      <td>84.0</td>\n      <td>4.021213</td>\n      <td>NaN</td>\n      <td>0.021490</td>\n      <td>NaN</td>\n    </tr>\n    <tr>\n      <th>501</th>\n      <td>CD28_OID00977</td>\n      <td>74.237942</td>\n      <td>916.079740</td>\n      <td>2.0</td>\n      <td>84.0</td>\n      <td>3.403627</td>\n      <td>NaN</td>\n      <td>0.037902</td>\n      <td>NaN</td>\n    </tr>\n    <tr>\n      <th>623</th>\n      <td>IFN-gamma_OID00544</td>\n      <td>74.274414</td>\n      <td>980.040161</td>\n      <td>2.0</td>\n      <td>84.0</td>\n      <td>3.183059</td>\n      <td>NaN</td>\n      <td>0.046504</td>\n      <td>NaN</td>\n    </tr>\n    <tr>\n      <th>642</th>\n      <td>DNER_OID01213</td>\n      <td>84.434423</td>\n      <td>1064.795971</td>\n      <td>2.0</td>\n      <td>84.0</td>\n      <td>3.330446</td>\n      <td>NaN</td>\n      <td>0.040559</td>\n      <td>NaN</td>\n    </tr>\n    <tr>\n      <th>664</th>\n      <td>GHRL_OID01140</td>\n      <td>16.174004</td>\n      <td>216.645744</td>\n      <td>2.0</td>\n      <td>84.0</td>\n      <td>3.135571</td>\n      <td>NaN</td>\n      <td>0.048604</td>\n      <td>NaN</td>\n    </tr>\n    <tr>\n      <th>727</th>\n      <td>PAG1_OID01203</td>\n      <td>17.642034</td>\n      <td>225.767597</td>\n      <td>2.0</td>\n      <td>84.0</td>\n      <td>3.281983</td>\n      <td>NaN</td>\n      <td>0.042423</td>\n      <td>NaN</td>\n    </tr>\n    <tr>\n      <th>849</th>\n      <td>SMPD1_OID00309</td>\n      <td>80.329243</td>\n      <td>1085.895040</td>\n      <td>2.0</td>\n      <td>84.0</td>\n      <td>3.106956</td>\n      <td>NaN</td>\n      <td>0.049916</td>\n      <td>NaN</td>\n    </tr>\n    <tr>\n      <th>997</th>\n      <td>CXCL13_OID00733</td>\n      <td>28.230574</td>\n      <td>308.801976</td>\n      <td>2.0</td>\n      <td>84.0</td>\n      <td>3.839626</td>\n      <td>NaN</td>\n      <td>0.025371</td>\n      <td>NaN</td>\n    </tr>\n    <tr>\n      <th>1053</th>\n      <td>YES1_OID01070</td>\n      <td>77.154562</td>\n      <td>978.795892</td>\n      <td>2.0</td>\n      <td>84.0</td>\n      <td>3.310692</td>\n      <td>NaN</td>\n      <td>0.041309</td>\n      <td>NaN</td>\n    </tr>\n    <tr>\n      <th>1087</th>\n      <td>PSMA1_OID01104</td>\n      <td>4.779902</td>\n      <td>61.098080</td>\n      <td>2.0</td>\n      <td>84.0</td>\n      <td>3.285797</td>\n      <td>NaN</td>\n      <td>0.042273</td>\n      <td>NaN</td>\n    </tr>\n  </tbody>\n</table>\n</div>"
     },
     "metadata": {},
     "execution_count": 22
    }
   ],
   "source": [
    "anova_NR_df.loc[anova_NR_df[\"C(Time): PR(>F)\"] < 0.05]"
   ]
  },
  {
   "cell_type": "markdown",
   "metadata": {},
   "source": [
    "## Site ANOVA by all Proteins"
   ]
  },
  {
   "cell_type": "code",
   "execution_count": 23,
   "metadata": {},
   "outputs": [],
   "source": [
    "# run ANOVA for all proteins for Site, baseline only patient data\n",
    "# anova_Site = {\"Protein\":[], \"ANOVA\":[]}\n",
    "# for protein in protein_list:\n",
    "#     data = Site_melt.loc[Site_melt[\"Protein\"] == protein]\n",
    "#     model = ols('NPX ~ C(Site)', data=data).fit()\n",
    "#     anova_table = sm.stats.anova_lm(model, typ=2)\n",
    "#     anova_Site[\"Protein\"].append(protein)\n",
    "#     anova_Site[\"ANOVA\"].append(anova_table)"
   ]
  },
  {
   "cell_type": "code",
   "execution_count": 24,
   "metadata": {},
   "outputs": [],
   "source": [
    "anova_Site = {\"Protein\":[], \"C(Site): sum_sq\":[],\n",
    "\"Residual: sum_sq\": [], \"C(Site): df\":[], \"Residual: df\":[], \n",
    "\"C(Site): F\":[], \"Residual: F\":[],\n",
    "\"C(Site): PR(>F)\":[], \"Residual: PR(>F)\":[]}\n",
    "\n",
    "for protein in protein_list:\n",
    "    data = Site_melt.loc[Site_melt[\"Protein\"] == protein]\n",
    "    model = ols('NPX ~ C(Site)', data=data).fit()\n",
    "    anova_table = sm.stats.anova_lm(model, typ=2)\n",
    "    anova_Site[\"Protein\"].append(protein)\n",
    "    anova_Site[\"C(Site): sum_sq\"].append(anova_table[\"sum_sq\"][0])\n",
    "    anova_Site[\"Residual: sum_sq\"].append(anova_table[\"sum_sq\"][1])\n",
    "    anova_Site[\"C(Site): df\"].append(anova_table[\"df\"][0])\n",
    "    anova_Site[\"Residual: df\"].append(anova_table[\"df\"][1])\n",
    "    anova_Site[\"C(Site): F\"].append(anova_table[\"F\"][0])\n",
    "    anova_Site[\"Residual: F\"].append(anova_table[\"F\"][1])\n",
    "    anova_Site[\"C(Site): PR(>F)\"].append(anova_table[\"PR(>F)\"][0])\n",
    "    anova_Site[\"Residual: PR(>F)\"].append(anova_table[\"PR(>F)\"][1])"
   ]
  },
  {
   "cell_type": "code",
   "execution_count": 25,
   "metadata": {},
   "outputs": [
    {
     "output_type": "execute_result",
     "data": {
      "text/plain": "           Protein  C(Site): sum_sq  Residual: sum_sq  C(Site): df  \\\n0    CHL1_OID01216        49.805733        595.653602          4.0   \n1    NRP1_OID01217        47.347855        512.395858          4.0   \n2  PLXNB2_OID01218        17.255219         51.114147          4.0   \n3  FCGR3B_OID01219       276.603617       1484.505722          4.0   \n4  LILRB5_OID01220        97.365959        433.513165          4.0   \n\n   Residual: df  C(Site): F  Residual: F  C(Site): PR(>F)  Residual: PR(>F)  \n0          47.0    0.982479          NaN         0.426242               NaN  \n1          47.0    1.085757          NaN         0.374404               NaN  \n2          47.0    3.966589          NaN         0.007452               NaN  \n3          47.0    2.189343          NaN         0.084617               NaN  \n4          47.0    2.639020          NaN         0.045421               NaN  ",
      "text/html": "<div>\n<style scoped>\n    .dataframe tbody tr th:only-of-type {\n        vertical-align: middle;\n    }\n\n    .dataframe tbody tr th {\n        vertical-align: top;\n    }\n\n    .dataframe thead th {\n        text-align: right;\n    }\n</style>\n<table border=\"1\" class=\"dataframe\">\n  <thead>\n    <tr style=\"text-align: right;\">\n      <th></th>\n      <th>Protein</th>\n      <th>C(Site): sum_sq</th>\n      <th>Residual: sum_sq</th>\n      <th>C(Site): df</th>\n      <th>Residual: df</th>\n      <th>C(Site): F</th>\n      <th>Residual: F</th>\n      <th>C(Site): PR(&gt;F)</th>\n      <th>Residual: PR(&gt;F)</th>\n    </tr>\n  </thead>\n  <tbody>\n    <tr>\n      <th>0</th>\n      <td>CHL1_OID01216</td>\n      <td>49.805733</td>\n      <td>595.653602</td>\n      <td>4.0</td>\n      <td>47.0</td>\n      <td>0.982479</td>\n      <td>NaN</td>\n      <td>0.426242</td>\n      <td>NaN</td>\n    </tr>\n    <tr>\n      <th>1</th>\n      <td>NRP1_OID01217</td>\n      <td>47.347855</td>\n      <td>512.395858</td>\n      <td>4.0</td>\n      <td>47.0</td>\n      <td>1.085757</td>\n      <td>NaN</td>\n      <td>0.374404</td>\n      <td>NaN</td>\n    </tr>\n    <tr>\n      <th>2</th>\n      <td>PLXNB2_OID01218</td>\n      <td>17.255219</td>\n      <td>51.114147</td>\n      <td>4.0</td>\n      <td>47.0</td>\n      <td>3.966589</td>\n      <td>NaN</td>\n      <td>0.007452</td>\n      <td>NaN</td>\n    </tr>\n    <tr>\n      <th>3</th>\n      <td>FCGR3B_OID01219</td>\n      <td>276.603617</td>\n      <td>1484.505722</td>\n      <td>4.0</td>\n      <td>47.0</td>\n      <td>2.189343</td>\n      <td>NaN</td>\n      <td>0.084617</td>\n      <td>NaN</td>\n    </tr>\n    <tr>\n      <th>4</th>\n      <td>LILRB5_OID01220</td>\n      <td>97.365959</td>\n      <td>433.513165</td>\n      <td>4.0</td>\n      <td>47.0</td>\n      <td>2.639020</td>\n      <td>NaN</td>\n      <td>0.045421</td>\n      <td>NaN</td>\n    </tr>\n  </tbody>\n</table>\n</div>"
     },
     "metadata": {},
     "execution_count": 25
    }
   ],
   "source": [
    "anova_Site_df = pd.DataFrame(anova_Site)\n",
    "anova_Site_df.head()"
   ]
  },
  {
   "cell_type": "code",
   "execution_count": 26,
   "metadata": {},
   "outputs": [
    {
     "output_type": "execute_result",
     "data": {
      "text/plain": "               Protein  C(Site): sum_sq  Residual: sum_sq  C(Site): df  \\\n2      PLXNB2_OID01218        17.255219         51.114147          4.0   \n4      LILRB5_OID01220        97.365959        433.513165          4.0   \n18      GP1BA_OID01234        58.651915        200.636770          4.0   \n33       SELL_OID01249       112.855709        413.660317          4.0   \n34       NID1_OID01250         8.280194         20.869011          4.0   \n...                ...              ...               ...          ...   \n1004  VEGFR-3_OID00740        55.126603        236.625679          4.0   \n1012    CLSPN_OID01028       257.616951        700.094131          4.0   \n1042      FES_OID01059        36.963689        120.693344          4.0   \n1068    BANK1_OID01085       191.764867        776.657563          4.0   \n1081    PDCD1_OID01098       479.473349        991.526899          4.0   \n\n      Residual: df  C(Site): F  Residual: F  C(Site): PR(>F)  Residual: PR(>F)  \n2             47.0    3.966589          NaN         0.007452               NaN  \n4             47.0    2.639020          NaN         0.045421               NaN  \n18            47.0    3.434864          NaN         0.015246               NaN  \n33            47.0    3.205661          NaN         0.020835               NaN  \n34            47.0    4.662046          NaN         0.002983               NaN  \n...            ...         ...          ...              ...               ...  \n1004          47.0    2.737393          NaN         0.039650               NaN  \n1012          47.0    4.323703          NaN         0.004643               NaN  \n1042          47.0    3.598569          NaN         0.012214               NaN  \n1068          47.0    2.901198          NaN         0.031636               NaN  \n1081          47.0    5.681956          NaN         0.000816               NaN  \n\n[72 rows x 9 columns]",
      "text/html": "<div>\n<style scoped>\n    .dataframe tbody tr th:only-of-type {\n        vertical-align: middle;\n    }\n\n    .dataframe tbody tr th {\n        vertical-align: top;\n    }\n\n    .dataframe thead th {\n        text-align: right;\n    }\n</style>\n<table border=\"1\" class=\"dataframe\">\n  <thead>\n    <tr style=\"text-align: right;\">\n      <th></th>\n      <th>Protein</th>\n      <th>C(Site): sum_sq</th>\n      <th>Residual: sum_sq</th>\n      <th>C(Site): df</th>\n      <th>Residual: df</th>\n      <th>C(Site): F</th>\n      <th>Residual: F</th>\n      <th>C(Site): PR(&gt;F)</th>\n      <th>Residual: PR(&gt;F)</th>\n    </tr>\n  </thead>\n  <tbody>\n    <tr>\n      <th>2</th>\n      <td>PLXNB2_OID01218</td>\n      <td>17.255219</td>\n      <td>51.114147</td>\n      <td>4.0</td>\n      <td>47.0</td>\n      <td>3.966589</td>\n      <td>NaN</td>\n      <td>0.007452</td>\n      <td>NaN</td>\n    </tr>\n    <tr>\n      <th>4</th>\n      <td>LILRB5_OID01220</td>\n      <td>97.365959</td>\n      <td>433.513165</td>\n      <td>4.0</td>\n      <td>47.0</td>\n      <td>2.639020</td>\n      <td>NaN</td>\n      <td>0.045421</td>\n      <td>NaN</td>\n    </tr>\n    <tr>\n      <th>18</th>\n      <td>GP1BA_OID01234</td>\n      <td>58.651915</td>\n      <td>200.636770</td>\n      <td>4.0</td>\n      <td>47.0</td>\n      <td>3.434864</td>\n      <td>NaN</td>\n      <td>0.015246</td>\n      <td>NaN</td>\n    </tr>\n    <tr>\n      <th>33</th>\n      <td>SELL_OID01249</td>\n      <td>112.855709</td>\n      <td>413.660317</td>\n      <td>4.0</td>\n      <td>47.0</td>\n      <td>3.205661</td>\n      <td>NaN</td>\n      <td>0.020835</td>\n      <td>NaN</td>\n    </tr>\n    <tr>\n      <th>34</th>\n      <td>NID1_OID01250</td>\n      <td>8.280194</td>\n      <td>20.869011</td>\n      <td>4.0</td>\n      <td>47.0</td>\n      <td>4.662046</td>\n      <td>NaN</td>\n      <td>0.002983</td>\n      <td>NaN</td>\n    </tr>\n    <tr>\n      <th>...</th>\n      <td>...</td>\n      <td>...</td>\n      <td>...</td>\n      <td>...</td>\n      <td>...</td>\n      <td>...</td>\n      <td>...</td>\n      <td>...</td>\n      <td>...</td>\n    </tr>\n    <tr>\n      <th>1004</th>\n      <td>VEGFR-3_OID00740</td>\n      <td>55.126603</td>\n      <td>236.625679</td>\n      <td>4.0</td>\n      <td>47.0</td>\n      <td>2.737393</td>\n      <td>NaN</td>\n      <td>0.039650</td>\n      <td>NaN</td>\n    </tr>\n    <tr>\n      <th>1012</th>\n      <td>CLSPN_OID01028</td>\n      <td>257.616951</td>\n      <td>700.094131</td>\n      <td>4.0</td>\n      <td>47.0</td>\n      <td>4.323703</td>\n      <td>NaN</td>\n      <td>0.004643</td>\n      <td>NaN</td>\n    </tr>\n    <tr>\n      <th>1042</th>\n      <td>FES_OID01059</td>\n      <td>36.963689</td>\n      <td>120.693344</td>\n      <td>4.0</td>\n      <td>47.0</td>\n      <td>3.598569</td>\n      <td>NaN</td>\n      <td>0.012214</td>\n      <td>NaN</td>\n    </tr>\n    <tr>\n      <th>1068</th>\n      <td>BANK1_OID01085</td>\n      <td>191.764867</td>\n      <td>776.657563</td>\n      <td>4.0</td>\n      <td>47.0</td>\n      <td>2.901198</td>\n      <td>NaN</td>\n      <td>0.031636</td>\n      <td>NaN</td>\n    </tr>\n    <tr>\n      <th>1081</th>\n      <td>PDCD1_OID01098</td>\n      <td>479.473349</td>\n      <td>991.526899</td>\n      <td>4.0</td>\n      <td>47.0</td>\n      <td>5.681956</td>\n      <td>NaN</td>\n      <td>0.000816</td>\n      <td>NaN</td>\n    </tr>\n  </tbody>\n</table>\n<p>72 rows × 9 columns</p>\n</div>"
     },
     "metadata": {},
     "execution_count": 26
    }
   ],
   "source": [
    "anova_Site_df.loc[anova_Site_df[\"C(Site): PR(>F)\"] < 0.05]"
   ]
  },
  {
   "cell_type": "code",
   "execution_count": 35,
   "metadata": {},
   "outputs": [],
   "source": [
    "anova_responder_df_indexed = anova_responder_df.set_index(\"Protein\")\n",
    "anova_responder_df_indexed.to_csv(\"anova_data/anova_R.csv\")"
   ]
  },
  {
   "cell_type": "code",
   "execution_count": 36,
   "metadata": {},
   "outputs": [],
   "source": [
    "anova_NR_df_indexed = anova_NR_df.set_index(\"Protein\")\n",
    "anova_NR_df_indexed.to_csv(\"anova_data/anova_NR.csv\")"
   ]
  },
  {
   "cell_type": "code",
   "execution_count": 38,
   "metadata": {},
   "outputs": [],
   "source": [
    "anova_Site_df_indexed = anova_Site_df.set_index(\"Protein\")\n",
    "anova_Site_df_indexed.to_csv(\"anova_data/anova_site.csv\")"
   ]
  },
  {
   "cell_type": "code",
   "execution_count": null,
   "metadata": {},
   "outputs": [],
   "source": []
  }
 ],
 "metadata": {
  "language_info": {
   "codemirror_mode": {
    "name": "ipython",
    "version": 3
   },
   "file_extension": ".py",
   "mimetype": "text/x-python",
   "name": "python",
   "nbconvert_exporter": "python",
   "pygments_lexer": "ipython3",
   "version": "3.7.7-final"
  },
  "orig_nbformat": 2,
  "kernelspec": {
   "name": "python37764bitpythondataconda58c3617d3eed445b80043e5831324c4d",
   "display_name": "Python 3.7.7 64-bit ('PythonData': conda)"
  }
 },
 "nbformat": 4,
 "nbformat_minor": 2
}